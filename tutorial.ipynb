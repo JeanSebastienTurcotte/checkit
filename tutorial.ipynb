{
 "cells": [
  {
   "cell_type": "markdown",
   "metadata": {
    "collapsed": false,
    "editable": false
   },
   "source": [
    "# MasterIt Tutorial\n",
    "\n",
    "Use this notebook to quickly write your first randomized exercise.\n",
    "\n",
    "You can refer to\n",
    "[the original example](https://cocalc.com/share/9b7553d2ecfe356945710e8d076db237f28dec50/masterit/example.ipynb?viewer=share)\n",
    "as needed while editing (in case you delete the example)."
   ]
  },
  {
   "cell_type": "markdown",
   "metadata": {
    "collapsed": false,
    "editable": false
   },
   "source": [
    "## First, write a generator\n",
    "\n",
    "Edit the below Code cell to create a\n",
    "function to generate the random data used in your exercise.\n",
    "\n",
    "Use [Ctrl]+[Enter] to see sample output used for your exercise."
   ]
  },
  {
   "cell_type": "code",
   "execution_count": 1,
   "metadata": {
    "collapsed": false
   },
   "outputs": [
    {
     "name": "stdout",
     "output_type": "stream",
     "text": [
      "{'equations': [3*x + 7*y == 8, 7*x - 8*y == 3], 'slopes': [-3/7, 7/8], 'yints': [8/7, -3/8], 'version': 'slope'}\n"
     ]
    }
   ],
   "source": [
    "load(\"masterit.sage\")\n",
    "\n",
    "def generator():\n",
    "    # define any variables you'll use\n",
    "    x,y = var(\"x y\")\n",
    "\n",
    "    # use functions like `choice` and `randrange` to make random choices\n",
    "    A = choice([-1,1])*randrange(1,10)\n",
    "    B = choice([-1,1])*randrange(1,10)\n",
    "    C = choice([-1,1])*randrange(1,10)\n",
    "\n",
    "    # Ask for slope or y-intercept?\n",
    "    version = choice(['slope','yint'])\n",
    "\n",
    "    #Randomly use standard form or silly form equations\n",
    "    if choice([True,False]):\n",
    "        equations = [\n",
    "            (A*x+B*y==C),\n",
    "            (B*x-C*y==A),\n",
    "        ] # standard form\n",
    "    else:\n",
    "        equations = [\n",
    "            [y, \"\\\\times\", B, \"+\", x, \"\\\\times\", A, \"=\", C],\n",
    "            [y, \"\\\\times\", -C, \"+\", x, \"\\\\times\", B, \"=\", A]\n",
    "        ] # silly form -- must construct LaTeX by hand\n",
    "\n",
    "    # build the objects you need\n",
    "    return {\n",
    "        \"equations\": equations,\n",
    "        \"slopes\": [\n",
    "            -A/B,\n",
    "            B/C,\n",
    "        ],\n",
    "        \"yints\": [\n",
    "            C/B,\n",
    "            -A/C,\n",
    "        ],\n",
    "        \"version\": version,\n",
    "    }\n",
    "\n",
    "# preview example data in this notebook\n",
    "print(generator())\n"
   ]
  },
  {
   "cell_type": "markdown",
   "metadata": {
    "collapsed": false,
    "editable": false
   },
   "source": [
    "## Now, write a template\n",
    "\n",
    "Edit the following [PreTeXt exercise](https://pretextbook.org) template to write your exercise's statement and answer.\n",
    "\n",
    "Randomized data from the generator can be accessed using `<xsl:value-of select=\"name\"/>`.\n",
    "\n",
    "Use [Ctrl]+[Enter] to display your randomly generated exercise in a variety of formats, including HTML and LaTeX."
   ]
  },
  {
   "cell_type": "code",
   "execution_count": 2,
   "metadata": {
    "collapsed": false,
    "scrolled": true
   },
   "outputs": [
    {
     "data": {
      "text/html": [
       "<div class=\"exercise\">\n",
       "<div class=\"exercise-statement\">\n",
       "<p> Find the slopes for each of the following equations. </p>\n",
       "<ul>\n",
       "<li>\\( y \\times 1 + x \\times 6 = -9 \\)</li>\n",
       "<li>\\( y \\times 9 + x \\times 1 = 6 \\)</li>\n",
       "</ul>\n",
       "</div>\n",
       "<div class=\"exercise-answer\">\n",
       "<p><b>Answer:</b></p>\n",
       "<ul>\n",
       "<li>\\( -6 \\)</li>\n",
       "<li>\\( -\\frac{1}{9} \\)</li>\n",
       "</ul>\n",
       "</div>\n",
       "</div>\n"
      ],
      "text/plain": [
       "<IPython.core.display.HTML object>"
      ]
     },
     "execution_count": 2,
     "metadata": {
     },
     "output_type": "execute_result"
    },
    {
     "name": "stdout",
     "output_type": "stream",
     "text": [
      "Data dictionary\n",
      "-----------\n",
      "{'equations': [[y, '\\\\times', 1, '+', x, '\\\\times', 6, '=', -9], [y, '\\\\times', 9, '+', x, '\\\\times', 1, '=', 6]], 'slopes': [-6, -1/9], 'yints': [-9, 2/3], 'version': 'slope'}\n",
      "\n",
      "Data XML\n",
      "-----------\n",
      "<data><equations><item><item> y </item><item>\\times</item><item> 1 </item><item>+</item><item> x </item><item>\\times</item><item> 6 </item><item>=</item><item> -9 </item></item><item><item> y </item><item>\\times</item><item> 9 </item><item>+</item><item> x </item><item>\\times</item><item> 1 </item><item>=</item><item> 6 </item></item></equations><slopes><item> -6 </item><item> -\\frac{1}{9} </item></slopes><yints><item> -9 </item><item> \\frac{2}{3} </item></yints><version>slope</version></data>\n",
      "\n",
      "HTML source\n",
      "-----------\n",
      "<div class=\"exercise\">\n",
      "<div class=\"exercise-statement\">\n",
      "<p> Find the slopes for each of the following equations. </p>\n",
      "<ul>\n",
      "<li>\\( y \\times 1 + x \\times 6 = -9 \\)</li>\n",
      "<li>\\( y \\times 9 + x \\times 1 = 6 \\)</li>\n",
      "</ul>\n",
      "</div>\n",
      "<div class=\"exercise-answer\">\n",
      "<p><b>Answer:</b></p>\n",
      "<ul>\n",
      "<li>\\( -6 \\)</li>\n",
      "<li>\\( -\\frac{1}{9} \\)</li>\n",
      "</ul>\n",
      "</div>\n",
      "</div>\n",
      "\n",
      "\n",
      "LaTeX source\n",
      "------------\n",
      "\n",
      "\\begin{exerciseStatement}\n",
      "\n",
      "\n",
      " Find the slopes for each of the following equations. \n",
      "\n",
      "\n",
      "\\begin{itemize}\n",
      "\\item \\( y \\times 1 + x \\times 6 = -9 \\)\n",
      "\\item \\( y \\times 9 + x \\times 1 = 6 \\)\n",
      "\\end{itemize}\n",
      "    \n",
      "\\end{exerciseStatement}\n",
      "    \n",
      "\\begin{exerciseAnswer} \n",
      "\n",
      "\\begin{itemize}\n",
      "\\item \\( -6 \\)\n",
      "\\item \\( -\\frac{1}{9} \\)\n",
      "\\end{itemize}\n",
      "    \n",
      "\\end{exerciseAnswer}\n",
      "    \n",
      "\n",
      "QTI source\n",
      "------------\n",
      "<item ident=\"example-3525\" title=\"example | Slopes and Intercepts of Lines | ver. 3525\"><itemmetadata><qtimetadata><qtimetadatafield><fieldlabel>question_type</fieldlabel><fieldentry>essay_question</fieldentry></qtimetadatafield></qtimetadata></itemmetadata><presentation><material><mattextxml><div class=\"exercise-statement\"><p> Find the slopes for each of the following equations. </p><ul><li><img style=\"border:1px #ddd solid;padding:5px;border-radius:5px;\" src=\"https://latex.codecogs.com/svg.latex?y \\times 1 + x \\times 6 = -9\" alt=\"y \\times 1 + x \\times 6 = -9\" title=\"y \\times 1 + x \\times 6 = -9\" data-latex=\"y \\times 1 + x \\times 6 = -9\"/></li><li><img style=\"border:1px #ddd solid;padding:5px;border-radius:5px;\" src=\"https://latex.codecogs.com/svg.latex?y \\times 9 + x \\times 1 = 6\" alt=\"y \\times 9 + x \\times 1 = 6\" title=\"y \\times 9 + x \\times 1 = 6\" data-latex=\"y \\times 9 + x \\times 1 = 6\"/></li></ul></div></mattextxml><mattext texttype=\"text/html\">&lt;div class=\"exercise-statement\"&gt;&lt;p&gt; Find the slopes for each of the following equations. &lt;/p&gt;&lt;ul&gt;&lt;li&gt;&lt;img style=\"border:1px #ddd solid;padding:5px;border-radius:5px;\" src=\"https://latex.codecogs.com/svg.latex?y%20%5Ctimes%201%20+%20x%20%5Ctimes%206%20=%20-9\" alt=\"y \\times 1 + x \\times 6 = -9\" title=\"y \\times 1 + x \\times 6 = -9\" data-latex=\"y \\times 1 + x \\times 6 = -9\"&gt;&lt;/li&gt;&lt;li&gt;&lt;img style=\"border:1px #ddd solid;padding:5px;border-radius:5px;\" src=\"https://latex.codecogs.com/svg.latex?y%20%5Ctimes%209%20+%20x%20%5Ctimes%201%20=%206\" alt=\"y \\times 9 + x \\times 1 = 6\" title=\"y \\times 9 + x \\times 1 = 6\" data-latex=\"y \\times 9 + x \\times 1 = 6\"&gt;&lt;/li&gt;&lt;/ul&gt;&lt;/div&gt;</mattext></material><response_str ident=\"response1\" rcardinality=\"Single\"><render_fib><response_label ident=\"answer1\" rshuffle=\"No\"/></render_fib></response_str></presentation><itemfeedback ident=\"general_fb\"><flow_mat><material><mattextxml><div class=\"exercise-answer\"><h4>Partial Answer:</h4><ul><li><img style=\"border:1px #ddd solid;padding:5px;border-radius:5px;\" src=\"https://latex.codecogs.com/svg.latex?-6\" alt=\"-6\" title=\"-6\" data-latex=\"-6\"/></li><li><img style=\"border:1px #ddd solid;padding:5px;border-radius:5px;\" src=\"https://latex.codecogs.com/svg.latex?-\\frac{1}{9}\" alt=\"-\\frac{1}{9}\" title=\"-\\frac{1}{9}\" data-latex=\"-\\frac{1}{9}\"/></li></ul></div></mattextxml><mattext texttype=\"text/html\">&lt;div class=\"exercise-answer\"&gt;&lt;h4&gt;Partial Answer:&lt;/h4&gt;&lt;ul&gt;&lt;li&gt;&lt;img style=\"border:1px #ddd solid;padding:5px;border-radius:5px;\" src=\"https://latex.codecogs.com/svg.latex?-6\" alt=\"-6\" title=\"-6\" data-latex=\"-6\"&gt;&lt;/li&gt;&lt;li&gt;&lt;img style=\"border:1px #ddd solid;padding:5px;border-radius:5px;\" src=\"https://latex.codecogs.com/svg.latex?-%5Cfrac%7B1%7D%7B9%7D\" alt=\"-\\frac{1}{9}\" title=\"-\\frac{1}{9}\" data-latex=\"-\\frac{1}{9}\"&gt;&lt;/li&gt;&lt;/ul&gt;&lt;/div&gt;</mattext></material></flow_mat></itemfeedback></item>\n",
      "\n",
      "PreTeXt source\n",
      "------------\n",
      "<exercise masterit-seed=\"3525\" masterit-slug=\"example\" masterit-name=\"Slopes and Intercepts of Lines\"><statement><p>\n",
      "      Find the\n",
      "      \n",
      "          slopes\n",
      "        \n",
      "      for each of the following equations.\n",
      "    </p><ul><li><m> y \\times 1 + x \\times 6 = -9 </m></li><li><m> y \\times 9 + x \\times 1 = 6 </m></li></ul></statement><answer><ul><li><m> -6 </m></li><li><m> -\\frac{1}{9} </m></li></ul></answer></exercise>\n"
     ]
    }
   ],
   "source": [
    "template = r\"\"\"\n",
    "<exercise>\n",
    "  <statement>\n",
    "    <p>\n",
    "      Find the\n",
    "      <xsl:choose>\n",
    "        <xsl:when test=\"version='slope'\">\n",
    "          slopes\n",
    "        </xsl:when>\n",
    "        <xsl:otherwise>\n",
    "          y-intercepts\n",
    "        </xsl:otherwise>\n",
    "      </xsl:choose>\n",
    "      for each of the following equations.\n",
    "    </p>\n",
    "    <ul>\n",
    "      <xsl:for-each select=\"equations/*\">\n",
    "        <li><m><xsl:value-of select=\".\"/></m></li>\n",
    "      </xsl:for-each>\n",
    "    </ul>\n",
    "  </statement>\n",
    "  <answer>\n",
    "    <ul>\n",
    "      <xsl:choose>\n",
    "        <xsl:when test=\"version='slope'\">\n",
    "          <xsl:for-each select=\"slopes/*\">\n",
    "            <li><m><xsl:value-of select=\".\"/></m></li>\n",
    "          </xsl:for-each>\n",
    "        </xsl:when>\n",
    "        <xsl:otherwise>\n",
    "          <xsl:for-each select=\"yints/*\">\n",
    "            <li><m><xsl:value-of select=\".\"/></m></li>\n",
    "          </xsl:for-each>\n",
    "        </xsl:otherwise>\n",
    "      </xsl:choose>\n",
    "    </ul>\n",
    "  </answer>\n",
    "</exercise>\n",
    "\"\"\"\n",
    "\n",
    "exercise = Exercise(\n",
    "    name=\"Slopes and Intercepts of Lines\",\n",
    "    slug=\"example\",\n",
    "    generator=generator,\n",
    "    template=template\n",
    ")\n",
    "from IPython.core.display import display, HTML\n",
    "display(HTML(exercise.html()))\n",
    "exercise.preview()\n"
   ]
  },
  {
   "cell_type": "markdown",
   "metadata": {
    "collapsed": false,
    "editable": false
   },
   "source": [
    "## Start building your library!\n",
    "\n",
    "Go to the [README](README.md) to learn how to create a library of exercises that can be exported for use in platforms such as\n",
    "[Canvas LMS](https://www.instructure.com/canvas/)."
   ]
  }
 ],
 "metadata": {
  "kernelspec": {
   "display_name": "SageMath 9.1",
   "language": "sagemath",
   "metadata": {
    "cocalc": {
     "description": "Open-source mathematical software system",
     "priority": 10,
     "url": "https://www.sagemath.org/"
    }
   },
   "name": "sage-9.1"
  },
  "language_info": {
   "codemirror_mode": {
    "name": "ipython",
    "version": 3
   },
   "file_extension": ".py",
   "mimetype": "text/x-python",
   "name": "python",
   "nbconvert_exporter": "python",
   "pygments_lexer": "ipython3",
   "version": "3.7.3"
  }
 },
 "nbformat": 4,
 "nbformat_minor": 4
}