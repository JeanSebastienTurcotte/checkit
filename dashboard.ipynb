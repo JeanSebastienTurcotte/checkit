{
 "cells": [
  {
   "cell_type": "code",
   "execution_count": 5,
   "metadata": {
    "collapsed": false
   },
   "outputs": [
    {
     "name": "stdout",
     "output_type": "stream",
     "text": [
      "b'[{\"seed\": 3172, \"values\": {\"ivps\": [{\"ode\": \"3 \\\\\\\\, x^{2} {x\\'} + 4 \\\\\\\\, t {x\\'} = -4 \\\\\\\\, x\", \"order\": \"1st\", \"t0\": \"1\", \"y0\": \"-1\", \"sol\": \"x^{3} + 4 \\\\\\\\, t x = \\\\\\\\left(-5\\\\\\\\right)\", \"ex_im\": \"implicit\", \"y\": \"x\", \"t\": \"t\"}, {\"ode\": \"0 = 3 \\\\\\\\, y - 2 \\\\\\\\, {y\\'} - {y\\'\\'}\", \"order\": \"2nd\", \"y0\": \"1\", \"t0\": \"0\", \"yp0\": \"1\", \"sol\": \"y = e^{t}\", \"y\": \"y\", \"t\": \"t\", \"ex_im\": \"explicit\"}, {\"ode\": \"-t {\\\\\\\\frac{dx}{dt}} = -4 \\\\\\\\, t^{4} - 3 \\\\\\\\, x\", \"order\": \"1st\", \"t0\": \"-1\", \"y0\": \"7\", \"sol\": \"x = 4 \\\\\\\\, t^{4} - 3 \\\\\\\\, t^{3}\", \"ex_im\": \"explicit\", \"y\": \"x\", \"t\": \"t\"}]}}, {\"seed\": 2538, \"values\": {\"ivps\": [{\"ode\": \"-2 \\\\\\\\, t {\\\\\\\\frac{dx}{dt}} - 2 \\\\\\\\, x {\\\\\\\\frac{dx}{dt}} - 2 \\\\\\\\, x = 0\", \"order\": \"1st\", \"t0\": \"-1\", \"y0\": \"1\", \"sol\": \"2 \\\\\\\\, t x + x^{2} = \\\\\\\\left(-1\\\\\\\\right)\", \"ex_im\": \"implicit\", \"y\": \"x\", \"t\": \"t\"}, {\"ode\": \"2 \\\\\\\\, x = -3 \\\\\\\\, t^{3} + t {x\\'}\", \"order\": \"1st\", \"t0\": \"1\", \"y0\": \"4\", \"sol\": \"x = 3 \\\\\\\\, t^{3} + t^{2}\", \"ex_im\": \"explicit\", \"y\": \"x\", \"t\": \"t\"}, {\"ode\": \"8 \\\\\\\\, y - 6 \\\\\\\\, {y\\'} = -{y\\'\\'}\", \"order\": \"2nd\", \"y0\": \"-4\", \"t0\": \"0\", \"yp0\": \"-16\", \"sol\": \"y = -4 \\\\\\\\, e^{\\\\\\\\left(4 \\\\\\\\, x\\\\\\\\right)}\", \"y\": \"y\", \"t\": \"x\", \"ex_im\": \"explicit\"}]}}]\\n'\n"
     ]
    },
    {
     "data": {
      "text/plain": [
       "{'title': 'Structure of an IVP and Verifying Solutions',\n",
       " 'slug': 'AA1',\n",
       " 'description': '\\nIdentify the structure of an initial value problem and its solution.\\n            ',\n",
       " 'alignment': '\\nFundamentals of Differential Equations and Boundary Value Problems, 7th ed; 1.1 and 1.2\\n            ',\n",
       " 'exercises': [{'seed': 3172,\n",
       "   'qti': '<item ident=\"AA1-3172\" title=\"AA1 | Structure of an IVP and Verifying Solutions | ver. 3172\">\\n  <itemmetadata>\\n    <qtimetadata>\\n      <qtimetadatafield>\\n        <fieldlabel>question_type</fieldlabel>\\n        <fieldentry>file_upload_question</fieldentry>\\n      </qtimetadatafield>\\n    </qtimetadata>\\n  </itemmetadata>\\n  <presentation>\\n    <material>\\n      <mattextxml>\\n        <div class=\"exercise-statement\">\\n          <p>\\n            <strong>AA1.</strong>\\n          </p>\\n          <p> For each of the following Initial Value Problems (IVPs), designate the following: </p>\\n          <ul>\\n            <li>its Ordinary Differential Equation (ODE)</li>\\n            <li>its Initial Value or Values (IVs)</li>\\n            <li>the order of the IVP</li>\\n            <li>its independent variable</li>\\n            <li>its dependent variable</li>\\n            <li>whether its solution is implicit or explicit</li>\\n          </ul>\\n          <p> Then show how to verify that its solution is valid. </p>\\n          <ol type=\"a\">\\n            <li>\\n              <ul>\\n                <li>IVP: <img style=\"border:1px #ddd solid;padding:5px;border-radius:5px;\" src=\"/equation_images/3 \\\\, x^{2} {x\\'} + 4 \\\\, t {x\\'} = -4 \\\\, x\\\\hspace{2em} x(1)= -1\" alt=\"3 \\\\, x^{2} {x\\'} + 4 \\\\, t {x\\'} = -4 \\\\, x\\\\hspace{2em} x(1)= -1\" title=\"3 \\\\, x^{2} {x\\'} + 4 \\\\, t {x\\'} = -4 \\\\, x\\\\hspace{2em} x(1)= -1\" data-latex=\"3 \\\\, x^{2} {x\\'} + 4 \\\\, t {x\\'} = -4 \\\\, x\\\\hspace{2em} x(1)= -1\"/></li>\\n                <li>Solution: <img style=\"border:1px #ddd solid;padding:5px;border-radius:5px;\" src=\"/equation_images/x^{3} + 4 \\\\, t x = \\\\left(-5\\\\right)\" alt=\"x^{3} + 4 \\\\, t x = \\\\left(-5\\\\right)\" title=\"x^{3} + 4 \\\\, t x = \\\\left(-5\\\\right)\" data-latex=\"x^{3} + 4 \\\\, t x = \\\\left(-5\\\\right)\"/></li>\\n              </ul>\\n            </li>\\n            <li>\\n              <ul>\\n                <li>IVP: <img style=\"border:1px #ddd solid;padding:5px;border-radius:5px;\" src=\"/equation_images/0 = 3 \\\\, y - 2 \\\\, {y\\'} - {y\\'\\'}\\\\hspace{2em} y(0)= 1, y\\'(0)= 1\" alt=\"0 = 3 \\\\, y - 2 \\\\, {y\\'} - {y\\'\\'}\\\\hspace{2em} y(0)= 1, y\\'(0)= 1\" title=\"0 = 3 \\\\, y - 2 \\\\, {y\\'} - {y\\'\\'}\\\\hspace{2em} y(0)= 1, y\\'(0)= 1\" data-latex=\"0 = 3 \\\\, y - 2 \\\\, {y\\'} - {y\\'\\'}\\\\hspace{2em} y(0)= 1, y\\'(0)= 1\"/></li>\\n                <li>Solution: <img style=\"border:1px #ddd solid;padding:5px;border-radius:5px;\" src=\"/equation_images/y = e^{t}\" alt=\"y = e^{t}\" title=\"y = e^{t}\" data-latex=\"y = e^{t}\"/></li>\\n              </ul>\\n            </li>\\n            <li>\\n              <ul>\\n                <li>IVP: <img style=\"border:1px #ddd solid;padding:5px;border-radius:5px;\" src=\"/equation_images/-t {\\\\frac{dx}{dt}} = -4 \\\\, t^{4} - 3 \\\\, x\\\\hspace{2em} x(-1)= 7\" alt=\"-t {\\\\frac{dx}{dt}} = -4 \\\\, t^{4} - 3 \\\\, x\\\\hspace{2em} x(-1)= 7\" title=\"-t {\\\\frac{dx}{dt}} = -4 \\\\, t^{4} - 3 \\\\, x\\\\hspace{2em} x(-1)= 7\" data-latex=\"-t {\\\\frac{dx}{dt}} = -4 \\\\, t^{4} - 3 \\\\, x\\\\hspace{2em} x(-1)= 7\"/></li>\\n                <li>Solution: <img style=\"border:1px #ddd solid;padding:5px;border-radius:5px;\" src=\"/equation_images/x = 4 \\\\, t^{4} - 3 \\\\, t^{3}\" alt=\"x = 4 \\\\, t^{4} - 3 \\\\, t^{3}\" title=\"x = 4 \\\\, t^{4} - 3 \\\\, t^{3}\" data-latex=\"x = 4 \\\\, t^{4} - 3 \\\\, t^{3}\"/></li>\\n              </ul>\\n            </li>\\n          </ol>\\n        </div>\\n      </mattextxml>\\n      <mattext texttype=\"text/html\">&lt;div class=\"exercise-statement\"&gt;\\n  &lt;p&gt;\\n    &lt;strong&gt;AA1.&lt;/strong&gt;\\n  &lt;/p&gt;\\n  &lt;p&gt; For each of the following Initial Value Problems (IVPs), designate the following: &lt;/p&gt;\\n  &lt;ul&gt;\\n    &lt;li&gt;its Ordinary Differential Equation (ODE)&lt;/li&gt;\\n    &lt;li&gt;its Initial Value or Values (IVs)&lt;/li&gt;\\n    &lt;li&gt;the order of the IVP&lt;/li&gt;\\n    &lt;li&gt;its independent variable&lt;/li&gt;\\n    &lt;li&gt;its dependent variable&lt;/li&gt;\\n    &lt;li&gt;whether its solution is implicit or explicit&lt;/li&gt;\\n  &lt;/ul&gt;\\n  &lt;p&gt; Then show how to verify that its solution is valid. &lt;/p&gt;\\n  &lt;ol type=\"a\"&gt;\\n    &lt;li&gt;\\n      &lt;ul&gt;\\n        &lt;li&gt;IVP: &lt;img style=\"border:1px #ddd solid;padding:5px;border-radius:5px;\" src=\"/equation_images/3%20%5C,%20x%5E%7B2%7D%20%7Bx\\'%7D%20+%204%20%5C,%20t%20%7Bx\\'%7D%20=%20-4%20%5C,%20x%5Chspace%7B2em%7D%20x(1)=%20-1\" alt=\"3 \\\\, x^{2} {x\\'} + 4 \\\\, t {x\\'} = -4 \\\\, x\\\\hspace{2em} x(1)= -1\" title=\"3 \\\\, x^{2} {x\\'} + 4 \\\\, t {x\\'} = -4 \\\\, x\\\\hspace{2em} x(1)= -1\" data-latex=\"3 \\\\, x^{2} {x\\'} + 4 \\\\, t {x\\'} = -4 \\\\, x\\\\hspace{2em} x(1)= -1\"&gt;\\n&lt;/li&gt;\\n        &lt;li&gt;Solution: &lt;img style=\"border:1px #ddd solid;padding:5px;border-radius:5px;\" src=\"/equation_images/x%5E%7B3%7D%20+%204%20%5C,%20t%20x%20=%20%5Cleft(-5%5Cright)\" alt=\"x^{3} + 4 \\\\, t x = \\\\left(-5\\\\right)\" title=\"x^{3} + 4 \\\\, t x = \\\\left(-5\\\\right)\" data-latex=\"x^{3} + 4 \\\\, t x = \\\\left(-5\\\\right)\"&gt;\\n&lt;/li&gt;\\n      &lt;/ul&gt;\\n    &lt;/li&gt;\\n    &lt;li&gt;\\n      &lt;ul&gt;\\n        &lt;li&gt;IVP: &lt;img style=\"border:1px #ddd solid;padding:5px;border-radius:5px;\" src=\"/equation_images/0%20=%203%20%5C,%20y%20-%202%20%5C,%20%7By\\'%7D%20-%20%7By\\'\\'%7D%5Chspace%7B2em%7D%20y(0)=%201,%20y\\'(0)=%201\" alt=\"0 = 3 \\\\, y - 2 \\\\, {y\\'} - {y\\'\\'}\\\\hspace{2em} y(0)= 1, y\\'(0)= 1\" title=\"0 = 3 \\\\, y - 2 \\\\, {y\\'} - {y\\'\\'}\\\\hspace{2em} y(0)= 1, y\\'(0)= 1\" data-latex=\"0 = 3 \\\\, y - 2 \\\\, {y\\'} - {y\\'\\'}\\\\hspace{2em} y(0)= 1, y\\'(0)= 1\"&gt;\\n&lt;/li&gt;\\n        &lt;li&gt;Solution: &lt;img style=\"border:1px #ddd solid;padding:5px;border-radius:5px;\" src=\"/equation_images/y%20=%20e%5E%7Bt%7D\" alt=\"y = e^{t}\" title=\"y = e^{t}\" data-latex=\"y = e^{t}\"&gt;\\n&lt;/li&gt;\\n      &lt;/ul&gt;\\n    &lt;/li&gt;\\n    &lt;li&gt;\\n      &lt;ul&gt;\\n        &lt;li&gt;IVP: &lt;img style=\"border:1px #ddd solid;padding:5px;border-radius:5px;\" src=\"/equation_images/-t%20%7B%5Cfrac%7Bdx%7D%7Bdt%7D%7D%20=%20-4%20%5C,%20t%5E%7B4%7D%20-%203%20%5C,%20x%5Chspace%7B2em%7D%20x(-1)=%207\" alt=\"-t {\\\\frac{dx}{dt}} = -4 \\\\, t^{4} - 3 \\\\, x\\\\hspace{2em} x(-1)= 7\" title=\"-t {\\\\frac{dx}{dt}} = -4 \\\\, t^{4} - 3 \\\\, x\\\\hspace{2em} x(-1)= 7\" data-latex=\"-t {\\\\frac{dx}{dt}} = -4 \\\\, t^{4} - 3 \\\\, x\\\\hspace{2em} x(-1)= 7\"&gt;\\n&lt;/li&gt;\\n        &lt;li&gt;Solution: &lt;img style=\"border:1px #ddd solid;padding:5px;border-radius:5px;\" src=\"/equation_images/x%20=%204%20%5C,%20t%5E%7B4%7D%20-%203%20%5C,%20t%5E%7B3%7D\" alt=\"x = 4 \\\\, t^{4} - 3 \\\\, t^{3}\" title=\"x = 4 \\\\, t^{4} - 3 \\\\, t^{3}\" data-latex=\"x = 4 \\\\, t^{4} - 3 \\\\, t^{3}\"&gt;\\n&lt;/li&gt;\\n      &lt;/ul&gt;\\n    &lt;/li&gt;\\n  &lt;/ol&gt;\\n&lt;/div&gt;\\n\\n</mattext>\\n    </material>\\n    <response_str ident=\"response1\" rcardinality=\"Single\">\\n      <render_fib>\\n        <response_label ident=\"answer1\" rshuffle=\"No\"/>\\n      </render_fib>\\n    </response_str>\\n  </presentation>\\n  <itemfeedback ident=\"general_fb\">\\n    <flow_mat>\\n      <material>\\n        <mattextxml>\\n          <div class=\"exercise-answer\">\\n            <h4>Partial Answer:</h4>\\n            <ol type=\"a\">\\n              <li>\\n                <ul>\\n                  <li>ODE: <img style=\"border:1px #ddd solid;padding:5px;border-radius:5px;\" src=\"/equation_images/3 \\\\, x^{2} {x\\'} + 4 \\\\, t {x\\'} = -4 \\\\, x\" alt=\"3 \\\\, x^{2} {x\\'} + 4 \\\\, t {x\\'} = -4 \\\\, x\" title=\"3 \\\\, x^{2} {x\\'} + 4 \\\\, t {x\\'} = -4 \\\\, x\" data-latex=\"3 \\\\, x^{2} {x\\'} + 4 \\\\, t {x\\'} = -4 \\\\, x\"/></li>\\n                  <li>IV(s): <img style=\"border:1px #ddd solid;padding:5px;border-radius:5px;\" src=\"/equation_images/x(1)= -1\" alt=\"x(1)= -1\" title=\"x(1)= -1\" data-latex=\"x(1)= -1\"/></li>\\n                  <li>Order: 1st</li>\\n                  <li>Independent variable: <img style=\"border:1px #ddd solid;padding:5px;border-radius:5px;\" src=\"/equation_images/t\" alt=\"t\" title=\"t\" data-latex=\"t\"/></li>\\n                  <li>Dependent variable: <img style=\"border:1px #ddd solid;padding:5px;border-radius:5px;\" src=\"/equation_images/x\" alt=\"x\" title=\"x\" data-latex=\"x\"/></li>\\n                  <li>The solution <img style=\"border:1px #ddd solid;padding:5px;border-radius:5px;\" src=\"/equation_images/x^{3} + 4 \\\\, t x = \\\\left(-5\\\\right)\" alt=\"x^{3} + 4 \\\\, t x = \\\\left(-5\\\\right)\" title=\"x^{3} + 4 \\\\, t x = \\\\left(-5\\\\right)\" data-latex=\"x^{3} + 4 \\\\, t x = \\\\left(-5\\\\right)\"/> is implicit.</li>\\n                </ul>\\n              </li>\\n              <li>\\n                <ul>\\n                  <li>ODE: <img style=\"border:1px #ddd solid;padding:5px;border-radius:5px;\" src=\"/equation_images/0 = 3 \\\\, y - 2 \\\\, {y\\'} - {y\\'\\'}\" alt=\"0 = 3 \\\\, y - 2 \\\\, {y\\'} - {y\\'\\'}\" title=\"0 = 3 \\\\, y - 2 \\\\, {y\\'} - {y\\'\\'}\" data-latex=\"0 = 3 \\\\, y - 2 \\\\, {y\\'} - {y\\'\\'}\"/></li>\\n                  <li>IV(s): <img style=\"border:1px #ddd solid;padding:5px;border-radius:5px;\" src=\"/equation_images/y(0)= 1, y\\'(0)= 1\" alt=\"y(0)= 1, y\\'(0)= 1\" title=\"y(0)= 1, y\\'(0)= 1\" data-latex=\"y(0)= 1, y\\'(0)= 1\"/></li>\\n                  <li>Order: 2nd</li>\\n                  <li>Independent variable: <img style=\"border:1px #ddd solid;padding:5px;border-radius:5px;\" src=\"/equation_images/t\" alt=\"t\" title=\"t\" data-latex=\"t\"/></li>\\n                  <li>Dependent variable: <img style=\"border:1px #ddd solid;padding:5px;border-radius:5px;\" src=\"/equation_images/y\" alt=\"y\" title=\"y\" data-latex=\"y\"/></li>\\n                  <li>The solution <img style=\"border:1px #ddd solid;padding:5px;border-radius:5px;\" src=\"/equation_images/y = e^{t}\" alt=\"y = e^{t}\" title=\"y = e^{t}\" data-latex=\"y = e^{t}\"/> is explicit.</li>\\n                </ul>\\n              </li>\\n              <li>\\n                <ul>\\n                  <li>ODE: <img style=\"border:1px #ddd solid;padding:5px;border-radius:5px;\" src=\"/equation_images/-t {\\\\frac{dx}{dt}} = -4 \\\\, t^{4} - 3 \\\\, x\" alt=\"-t {\\\\frac{dx}{dt}} = -4 \\\\, t^{4} - 3 \\\\, x\" title=\"-t {\\\\frac{dx}{dt}} = -4 \\\\, t^{4} - 3 \\\\, x\" data-latex=\"-t {\\\\frac{dx}{dt}} = -4 \\\\, t^{4} - 3 \\\\, x\"/></li>\\n                  <li>IV(s): <img style=\"border:1px #ddd solid;padding:5px;border-radius:5px;\" src=\"/equation_images/x(-1)= 7\" alt=\"x(-1)= 7\" title=\"x(-1)= 7\" data-latex=\"x(-1)= 7\"/></li>\\n                  <li>Order: 1st</li>\\n                  <li>Independent variable: <img style=\"border:1px #ddd solid;padding:5px;border-radius:5px;\" src=\"/equation_images/t\" alt=\"t\" title=\"t\" data-latex=\"t\"/></li>\\n                  <li>Dependent variable: <img style=\"border:1px #ddd solid;padding:5px;border-radius:5px;\" src=\"/equation_images/x\" alt=\"x\" title=\"x\" data-latex=\"x\"/></li>\\n                  <li>The solution <img style=\"border:1px #ddd solid;padding:5px;border-radius:5px;\" src=\"/equation_images/x = 4 \\\\, t^{4} - 3 \\\\, t^{3}\" alt=\"x = 4 \\\\, t^{4} - 3 \\\\, t^{3}\" title=\"x = 4 \\\\, t^{4} - 3 \\\\, t^{3}\" data-latex=\"x = 4 \\\\, t^{4} - 3 \\\\, t^{3}\"/> is explicit.</li>\\n                </ul>\\n              </li>\\n            </ol>\\n          </div>\\n        </mattextxml>\\n        <mattext texttype=\"text/html\">&lt;div class=\"exercise-answer\"&gt;\\n  &lt;h4&gt;Partial Answer:&lt;/h4&gt;\\n  &lt;ol type=\"a\"&gt;\\n    &lt;li&gt;\\n      &lt;ul&gt;\\n        &lt;li&gt;ODE: &lt;img style=\"border:1px #ddd solid;padding:5px;border-radius:5px;\" src=\"/equation_images/3%20%5C,%20x%5E%7B2%7D%20%7Bx\\'%7D%20+%204%20%5C,%20t%20%7Bx\\'%7D%20=%20-4%20%5C,%20x\" alt=\"3 \\\\, x^{2} {x\\'} + 4 \\\\, t {x\\'} = -4 \\\\, x\" title=\"3 \\\\, x^{2} {x\\'} + 4 \\\\, t {x\\'} = -4 \\\\, x\" data-latex=\"3 \\\\, x^{2} {x\\'} + 4 \\\\, t {x\\'} = -4 \\\\, x\"&gt;\\n&lt;/li&gt;\\n        &lt;li&gt;IV(s): &lt;img style=\"border:1px #ddd solid;padding:5px;border-radius:5px;\" src=\"/equation_images/x(1)=%20-1\" alt=\"x(1)= -1\" title=\"x(1)= -1\" data-latex=\"x(1)= -1\"&gt;\\n&lt;/li&gt;\\n        &lt;li&gt;Order: 1st&lt;/li&gt;\\n        &lt;li&gt;Independent variable: &lt;img style=\"border:1px #ddd solid;padding:5px;border-radius:5px;\" src=\"/equation_images/t\" alt=\"t\" title=\"t\" data-latex=\"t\"&gt;\\n&lt;/li&gt;\\n        &lt;li&gt;Dependent variable: &lt;img style=\"border:1px #ddd solid;padding:5px;border-radius:5px;\" src=\"/equation_images/x\" alt=\"x\" title=\"x\" data-latex=\"x\"&gt;\\n&lt;/li&gt;\\n        &lt;li&gt;The solution &lt;img style=\"border:1px #ddd solid;padding:5px;border-radius:5px;\" src=\"/equation_images/x%5E%7B3%7D%20+%204%20%5C,%20t%20x%20=%20%5Cleft(-5%5Cright)\" alt=\"x^{3} + 4 \\\\, t x = \\\\left(-5\\\\right)\" title=\"x^{3} + 4 \\\\, t x = \\\\left(-5\\\\right)\" data-latex=\"x^{3} + 4 \\\\, t x = \\\\left(-5\\\\right)\"&gt; is implicit.&lt;/li&gt;\\n      &lt;/ul&gt;\\n    &lt;/li&gt;\\n    &lt;li&gt;\\n      &lt;ul&gt;\\n        &lt;li&gt;ODE: &lt;img style=\"border:1px #ddd solid;padding:5px;border-radius:5px;\" src=\"/equation_images/0%20=%203%20%5C,%20y%20-%202%20%5C,%20%7By\\'%7D%20-%20%7By\\'\\'%7D\" alt=\"0 = 3 \\\\, y - 2 \\\\, {y\\'} - {y\\'\\'}\" title=\"0 = 3 \\\\, y - 2 \\\\, {y\\'} - {y\\'\\'}\" data-latex=\"0 = 3 \\\\, y - 2 \\\\, {y\\'} - {y\\'\\'}\"&gt;\\n&lt;/li&gt;\\n        &lt;li&gt;IV(s): &lt;img style=\"border:1px #ddd solid;padding:5px;border-radius:5px;\" src=\"/equation_images/y(0)=%201,%20y\\'(0)=%201\" alt=\"y(0)= 1, y\\'(0)= 1\" title=\"y(0)= 1, y\\'(0)= 1\" data-latex=\"y(0)= 1, y\\'(0)= 1\"&gt;\\n&lt;/li&gt;\\n        &lt;li&gt;Order: 2nd&lt;/li&gt;\\n        &lt;li&gt;Independent variable: &lt;img style=\"border:1px #ddd solid;padding:5px;border-radius:5px;\" src=\"/equation_images/t\" alt=\"t\" title=\"t\" data-latex=\"t\"&gt;\\n&lt;/li&gt;\\n        &lt;li&gt;Dependent variable: &lt;img style=\"border:1px #ddd solid;padding:5px;border-radius:5px;\" src=\"/equation_images/y\" alt=\"y\" title=\"y\" data-latex=\"y\"&gt;\\n&lt;/li&gt;\\n        &lt;li&gt;The solution &lt;img style=\"border:1px #ddd solid;padding:5px;border-radius:5px;\" src=\"/equation_images/y%20=%20e%5E%7Bt%7D\" alt=\"y = e^{t}\" title=\"y = e^{t}\" data-latex=\"y = e^{t}\"&gt; is explicit.&lt;/li&gt;\\n      &lt;/ul&gt;\\n    &lt;/li&gt;\\n    &lt;li&gt;\\n      &lt;ul&gt;\\n        &lt;li&gt;ODE: &lt;img style=\"border:1px #ddd solid;padding:5px;border-radius:5px;\" src=\"/equation_images/-t%20%7B%5Cfrac%7Bdx%7D%7Bdt%7D%7D%20=%20-4%20%5C,%20t%5E%7B4%7D%20-%203%20%5C,%20x\" alt=\"-t {\\\\frac{dx}{dt}} = -4 \\\\, t^{4} - 3 \\\\, x\" title=\"-t {\\\\frac{dx}{dt}} = -4 \\\\, t^{4} - 3 \\\\, x\" data-latex=\"-t {\\\\frac{dx}{dt}} = -4 \\\\, t^{4} - 3 \\\\, x\"&gt;\\n&lt;/li&gt;\\n        &lt;li&gt;IV(s): &lt;img style=\"border:1px #ddd solid;padding:5px;border-radius:5px;\" src=\"/equation_images/x(-1)=%207\" alt=\"x(-1)= 7\" title=\"x(-1)= 7\" data-latex=\"x(-1)= 7\"&gt;\\n&lt;/li&gt;\\n        &lt;li&gt;Order: 1st&lt;/li&gt;\\n        &lt;li&gt;Independent variable: &lt;img style=\"border:1px #ddd solid;padding:5px;border-radius:5px;\" src=\"/equation_images/t\" alt=\"t\" title=\"t\" data-latex=\"t\"&gt;\\n&lt;/li&gt;\\n        &lt;li&gt;Dependent variable: &lt;img style=\"border:1px #ddd solid;padding:5px;border-radius:5px;\" src=\"/equation_images/x\" alt=\"x\" title=\"x\" data-latex=\"x\"&gt;\\n&lt;/li&gt;\\n        &lt;li&gt;The solution &lt;img style=\"border:1px #ddd solid;padding:5px;border-radius:5px;\" src=\"/equation_images/x%20=%204%20%5C,%20t%5E%7B4%7D%20-%203%20%5C,%20t%5E%7B3%7D\" alt=\"x = 4 \\\\, t^{4} - 3 \\\\, t^{3}\" title=\"x = 4 \\\\, t^{4} - 3 \\\\, t^{3}\" data-latex=\"x = 4 \\\\, t^{4} - 3 \\\\, t^{3}\"&gt; is explicit.&lt;/li&gt;\\n      &lt;/ul&gt;\\n    &lt;/li&gt;\\n  &lt;/ol&gt;\\n&lt;/div&gt;\\n\\n</mattext>\\n      </material>\\n    </flow_mat>\\n  </itemfeedback>\\n</item>\\n',\n",
       "   'pretext': '<exercise checkit-seed=\"3172\" checkit-slug=\"AA1\" checkit-title=\"Structure of an IVP and Verifying Solutions\">\\n  <statement>\\n    <p>\\nFor each of the following Initial Value Problems (IVPs), designate the following:\\n      </p>\\n    <ul>\\n      <li>its Ordinary Differential Equation (ODE)</li>\\n      <li>its Initial Value or Values (IVs)</li>\\n      <li>the order of the IVP</li>\\n      <li>its independent variable</li>\\n      <li>its dependent variable</li>\\n      <li>whether its solution is implicit or explicit</li>\\n    </ul>\\n    <p>\\nThen show how to verify that its solution is valid.\\n      </p>\\n    <ol>\\n      <li>\\n        <ul>\\n          <li>IVP:\\n                          <m>3 \\\\, x^{2} {x\\'} + 4 \\\\, t {x\\'} = -4 \\\\, x\\\\hspace{2em}\\n                              x(1)=\\n                      -1</m></li>\\n          <li>Solution: <m>x^{3} + 4 \\\\, t x = \\\\left(-5\\\\right)</m></li>\\n        </ul>\\n      </li>\\n      <li>\\n        <ul>\\n          <li>IVP:\\n                          <m>0 = 3 \\\\, y - 2 \\\\, {y\\'} - {y\\'\\'}\\\\hspace{2em}\\n                              y(0)=\\n                      1,\\n                      y\\'(0)=\\n                      1</m></li>\\n          <li>Solution: <m>y = e^{t}</m></li>\\n        </ul>\\n      </li>\\n      <li>\\n        <ul>\\n          <li>IVP:\\n                          <m>-t {\\\\frac{dx}{dt}} = -4 \\\\, t^{4} - 3 \\\\, x\\\\hspace{2em}\\n                              x(-1)=\\n                      7</m></li>\\n          <li>Solution: <m>x = 4 \\\\, t^{4} - 3 \\\\, t^{3}</m></li>\\n        </ul>\\n      </li>\\n    </ol>\\n  </statement>\\n  <answer>\\n    <ol>\\n      <li>\\n        <ul>\\n          <li>ODE: <m>3 \\\\, x^{2} {x\\'} + 4 \\\\, t {x\\'} = -4 \\\\, x</m></li>\\n          <li>IV(s): <m>x(1)=\\n                      -1</m></li>\\n          <li>Order: 1st</li>\\n          <li>Independent variable: <m>t</m></li>\\n          <li>Dependent variable: <m>x</m></li>\\n          <li>The solution <m>x^{3} + 4 \\\\, t x = \\\\left(-5\\\\right)</m> is implicit.</li>\\n        </ul>\\n      </li>\\n      <li>\\n        <ul>\\n          <li>ODE: <m>0 = 3 \\\\, y - 2 \\\\, {y\\'} - {y\\'\\'}</m></li>\\n          <li>IV(s): <m>y(0)=\\n                      1,\\n                      y\\'(0)=\\n                      1</m></li>\\n          <li>Order: 2nd</li>\\n          <li>Independent variable: <m>t</m></li>\\n          <li>Dependent variable: <m>y</m></li>\\n          <li>The solution <m>y = e^{t}</m> is explicit.</li>\\n        </ul>\\n      </li>\\n      <li>\\n        <ul>\\n          <li>ODE: <m>-t {\\\\frac{dx}{dt}} = -4 \\\\, t^{4} - 3 \\\\, x</m></li>\\n          <li>IV(s): <m>x(-1)=\\n                      7</m></li>\\n          <li>Order: 1st</li>\\n          <li>Independent variable: <m>t</m></li>\\n          <li>Dependent variable: <m>x</m></li>\\n          <li>The solution <m>x = 4 \\\\, t^{4} - 3 \\\\, t^{3}</m> is explicit.</li>\\n        </ul>\\n      </li>\\n    </ol>\\n  </answer>\\n</exercise>\\n',\n",
       "   'html': '<div class=\"checkit exercise\" data-checkit-slug=\"AA1\" data-checkit-title=\"Structure of an IVP and Verifying Solutions\" data-checkit-seed=\"3172\">\\n  <div class=\"exercise-statement\">\\n    <p> For each of the following Initial Value Problems (IVPs), designate the following: </p>\\n    <ul>\\n      <li>its Ordinary Differential Equation (ODE)</li>\\n      <li>its Initial Value or Values (IVs)</li>\\n      <li>the order of the IVP</li>\\n      <li>its independent variable</li>\\n      <li>its dependent variable</li>\\n      <li>whether its solution is implicit or explicit</li>\\n    </ul>\\n    <p> Then show how to verify that its solution is valid. </p>\\n    <ol type=\"a\">\\n      <li>\\n        <ul>\\n          <li>IVP: <span class=\"math math-inline\">\\\\(3 \\\\, x^{2} {x\\'} + 4 \\\\, t {x\\'} = -4 \\\\, x\\\\hspace{2em}\\n                              x(1)=\\n                      -1\\\\)</span></li>\\n          <li>Solution: <span class=\"math math-inline\">\\\\(x^{3} + 4 \\\\, t x = \\\\left(-5\\\\right)\\\\)</span></li>\\n        </ul>\\n      </li>\\n      <li>\\n        <ul>\\n          <li>IVP: <span class=\"math math-inline\">\\\\(0 = 3 \\\\, y - 2 \\\\, {y\\'} - {y\\'\\'}\\\\hspace{2em}\\n                              y(0)=\\n                      1,\\n                      y\\'(0)=\\n                      1\\\\)</span></li>\\n          <li>Solution: <span class=\"math math-inline\">\\\\(y = e^{t}\\\\)</span></li>\\n        </ul>\\n      </li>\\n      <li>\\n        <ul>\\n          <li>IVP: <span class=\"math math-inline\">\\\\(-t {\\\\frac{dx}{dt}} = -4 \\\\, t^{4} - 3 \\\\, x\\\\hspace{2em}\\n                              x(-1)=\\n                      7\\\\)</span></li>\\n          <li>Solution: <span class=\"math math-inline\">\\\\(x = 4 \\\\, t^{4} - 3 \\\\, t^{3}\\\\)</span></li>\\n        </ul>\\n      </li>\\n    </ol>\\n  </div>\\n  <div class=\"exercise-answer\">\\n    <p>\\n      <b>Answer:</b>\\n    </p>\\n    <ol type=\"a\">\\n      <li>\\n        <ul>\\n          <li>ODE: <span class=\"math math-inline\">\\\\(3 \\\\, x^{2} {x\\'} + 4 \\\\, t {x\\'} = -4 \\\\, x\\\\)</span></li>\\n          <li>IV(s): <span class=\"math math-inline\">\\\\(x(1)=\\n                      -1\\\\)</span></li>\\n          <li>Order: 1st</li>\\n          <li>Independent variable: <span class=\"math math-inline\">\\\\(t\\\\)</span></li>\\n          <li>Dependent variable: <span class=\"math math-inline\">\\\\(x\\\\)</span></li>\\n          <li>The solution <span class=\"math math-inline\">\\\\(x^{3} + 4 \\\\, t x = \\\\left(-5\\\\right)\\\\)</span> is implicit.</li>\\n        </ul>\\n      </li>\\n      <li>\\n        <ul>\\n          <li>ODE: <span class=\"math math-inline\">\\\\(0 = 3 \\\\, y - 2 \\\\, {y\\'} - {y\\'\\'}\\\\)</span></li>\\n          <li>IV(s): <span class=\"math math-inline\">\\\\(y(0)=\\n                      1,\\n                      y\\'(0)=\\n                      1\\\\)</span></li>\\n          <li>Order: 2nd</li>\\n          <li>Independent variable: <span class=\"math math-inline\">\\\\(t\\\\)</span></li>\\n          <li>Dependent variable: <span class=\"math math-inline\">\\\\(y\\\\)</span></li>\\n          <li>The solution <span class=\"math math-inline\">\\\\(y = e^{t}\\\\)</span> is explicit.</li>\\n        </ul>\\n      </li>\\n      <li>\\n        <ul>\\n          <li>ODE: <span class=\"math math-inline\">\\\\(-t {\\\\frac{dx}{dt}} = -4 \\\\, t^{4} - 3 \\\\, x\\\\)</span></li>\\n          <li>IV(s): <span class=\"math math-inline\">\\\\(x(-1)=\\n                      7\\\\)</span></li>\\n          <li>Order: 1st</li>\\n          <li>Independent variable: <span class=\"math math-inline\">\\\\(t\\\\)</span></li>\\n          <li>Dependent variable: <span class=\"math math-inline\">\\\\(x\\\\)</span></li>\\n          <li>The solution <span class=\"math math-inline\">\\\\(x = 4 \\\\, t^{4} - 3 \\\\, t^{3}\\\\)</span> is explicit.</li>\\n        </ul>\\n      </li>\\n    </ol>\\n  </div>\\n</div>\\n',\n",
       "   'tex': \"\\n\\\\begin{exercise}{AA1}{Structure of an IVP and Verifying Solutions}{3172}\\n\\\\begin{exerciseStatement}\\n\\n For each of the following Initial Value Problems (IVPs), designate the following: \\n\\n\\n\\n\\\\begin{itemize}\\n\\\\item its Ordinary Differential Equation (ODE)\\n\\\\item its Initial Value or Values (IVs)\\n\\\\item the order of the IVP\\n\\\\item its independent variable\\n\\\\item its dependent variable\\n\\\\item whether its solution is implicit or explicit\\n\\\\end{itemize}\\n\\n    \\n\\n Then show how to verify that its solution is valid. \\n\\n\\n\\n\\\\begin{enumerate}[(a)]\\n\\\\item \\n\\n\\\\begin{itemize}\\n\\\\item IVP: \\\\(3 \\\\, x^{2} {x'} + 4 \\\\, t {x'} = -4 \\\\, x\\\\hspace{2em}\\n                              x(1)=\\n                      -1\\\\)\\n\\\\item Solution: \\\\(x^{3} + 4 \\\\, t x = \\\\left(-5\\\\right)\\\\)\\n\\\\end{itemize}\\n\\n    \\n\\\\item \\n\\n\\\\begin{itemize}\\n\\\\item IVP: \\\\(0 = 3 \\\\, y - 2 \\\\, {y'} - {y''}\\\\hspace{2em}\\n                              y(0)=\\n                      1,\\n                      y'(0)=\\n                      1\\\\)\\n\\\\item Solution: \\\\(y = e^{t}\\\\)\\n\\\\end{itemize}\\n\\n    \\n\\\\item \\n\\n\\\\begin{itemize}\\n\\\\item IVP: \\\\(-t {\\\\frac{dx}{dt}} = -4 \\\\, t^{4} - 3 \\\\, x\\\\hspace{2em}\\n                              x(-1)=\\n                      7\\\\)\\n\\\\item Solution: \\\\(x = 4 \\\\, t^{4} - 3 \\\\, t^{3}\\\\)\\n\\\\end{itemize}\\n\\n    \\n\\\\end{enumerate}\\n\\n    \\\\end{exerciseStatement}\\n\\\\begin{exerciseAnswer}\\n\\n\\\\begin{enumerate}[(a)]\\n\\\\item \\n\\n\\\\begin{itemize}\\n\\\\item ODE: \\\\(3 \\\\, x^{2} {x'} + 4 \\\\, t {x'} = -4 \\\\, x\\\\)\\n\\\\item IV(s): \\\\(x(1)=\\n                      -1\\\\)\\n\\\\item Order: 1st\\n\\\\item Independent variable: \\\\(t\\\\)\\n\\\\item Dependent variable: \\\\(x\\\\)\\n\\\\item The solution \\\\(x^{3} + 4 \\\\, t x = \\\\left(-5\\\\right)\\\\) is implicit.\\n\\\\end{itemize}\\n\\n    \\n\\\\item \\n\\n\\\\begin{itemize}\\n\\\\item ODE: \\\\(0 = 3 \\\\, y - 2 \\\\, {y'} - {y''}\\\\)\\n\\\\item IV(s): \\\\(y(0)=\\n                      1,\\n                      y'(0)=\\n                      1\\\\)\\n\\\\item Order: 2nd\\n\\\\item Independent variable: \\\\(t\\\\)\\n\\\\item Dependent variable: \\\\(y\\\\)\\n\\\\item The solution \\\\(y = e^{t}\\\\) is explicit.\\n\\\\end{itemize}\\n\\n    \\n\\\\item \\n\\n\\\\begin{itemize}\\n\\\\item ODE: \\\\(-t {\\\\frac{dx}{dt}} = -4 \\\\, t^{4} - 3 \\\\, x\\\\)\\n\\\\item IV(s): \\\\(x(-1)=\\n                      7\\\\)\\n\\\\item Order: 1st\\n\\\\item Independent variable: \\\\(t\\\\)\\n\\\\item Dependent variable: \\\\(x\\\\)\\n\\\\item The solution \\\\(x = 4 \\\\, t^{4} - 3 \\\\, t^{3}\\\\) is explicit.\\n\\\\end{itemize}\\n\\n    \\n\\\\end{enumerate}\\n\\n    \\\\end{exerciseAnswer}\\n\\\\end{exercise}\\n\"},\n",
       "  {'seed': 2538,\n",
       "   'qti': '<item ident=\"AA1-2538\" title=\"AA1 | Structure of an IVP and Verifying Solutions | ver. 2538\">\\n  <itemmetadata>\\n    <qtimetadata>\\n      <qtimetadatafield>\\n        <fieldlabel>question_type</fieldlabel>\\n        <fieldentry>file_upload_question</fieldentry>\\n      </qtimetadatafield>\\n    </qtimetadata>\\n  </itemmetadata>\\n  <presentation>\\n    <material>\\n      <mattextxml>\\n        <div class=\"exercise-statement\">\\n          <p>\\n            <strong>AA1.</strong>\\n          </p>\\n          <p> For each of the following Initial Value Problems (IVPs), designate the following: </p>\\n          <ul>\\n            <li>its Ordinary Differential Equation (ODE)</li>\\n            <li>its Initial Value or Values (IVs)</li>\\n            <li>the order of the IVP</li>\\n            <li>its independent variable</li>\\n            <li>its dependent variable</li>\\n            <li>whether its solution is implicit or explicit</li>\\n          </ul>\\n          <p> Then show how to verify that its solution is valid. </p>\\n          <ol type=\"a\">\\n            <li>\\n              <ul>\\n                <li>IVP: <img style=\"border:1px #ddd solid;padding:5px;border-radius:5px;\" src=\"/equation_images/-2 \\\\, t {\\\\frac{dx}{dt}} - 2 \\\\, x {\\\\frac{dx}{dt}} - 2 \\\\, x = 0\\\\hspace{2em} x(-1)= 1\" alt=\"-2 \\\\, t {\\\\frac{dx}{dt}} - 2 \\\\, x {\\\\frac{dx}{dt}} - 2 \\\\, x = 0\\\\hspace{2em} x(-1)= 1\" title=\"-2 \\\\, t {\\\\frac{dx}{dt}} - 2 \\\\, x {\\\\frac{dx}{dt}} - 2 \\\\, x = 0\\\\hspace{2em} x(-1)= 1\" data-latex=\"-2 \\\\, t {\\\\frac{dx}{dt}} - 2 \\\\, x {\\\\frac{dx}{dt}} - 2 \\\\, x = 0\\\\hspace{2em} x(-1)= 1\"/></li>\\n                <li>Solution: <img style=\"border:1px #ddd solid;padding:5px;border-radius:5px;\" src=\"/equation_images/2 \\\\, t x + x^{2} = \\\\left(-1\\\\right)\" alt=\"2 \\\\, t x + x^{2} = \\\\left(-1\\\\right)\" title=\"2 \\\\, t x + x^{2} = \\\\left(-1\\\\right)\" data-latex=\"2 \\\\, t x + x^{2} = \\\\left(-1\\\\right)\"/></li>\\n              </ul>\\n            </li>\\n            <li>\\n              <ul>\\n                <li>IVP: <img style=\"border:1px #ddd solid;padding:5px;border-radius:5px;\" src=\"/equation_images/2 \\\\, x = -3 \\\\, t^{3} + t {x\\'}\\\\hspace{2em} x(1)= 4\" alt=\"2 \\\\, x = -3 \\\\, t^{3} + t {x\\'}\\\\hspace{2em} x(1)= 4\" title=\"2 \\\\, x = -3 \\\\, t^{3} + t {x\\'}\\\\hspace{2em} x(1)= 4\" data-latex=\"2 \\\\, x = -3 \\\\, t^{3} + t {x\\'}\\\\hspace{2em} x(1)= 4\"/></li>\\n                <li>Solution: <img style=\"border:1px #ddd solid;padding:5px;border-radius:5px;\" src=\"/equation_images/x = 3 \\\\, t^{3} + t^{2}\" alt=\"x = 3 \\\\, t^{3} + t^{2}\" title=\"x = 3 \\\\, t^{3} + t^{2}\" data-latex=\"x = 3 \\\\, t^{3} + t^{2}\"/></li>\\n              </ul>\\n            </li>\\n            <li>\\n              <ul>\\n                <li>IVP: <img style=\"border:1px #ddd solid;padding:5px;border-radius:5px;\" src=\"/equation_images/8 \\\\, y - 6 \\\\, {y\\'} = -{y\\'\\'}\\\\hspace{2em} y(0)= -4, y\\'(0)= -16\" alt=\"8 \\\\, y - 6 \\\\, {y\\'} = -{y\\'\\'}\\\\hspace{2em} y(0)= -4, y\\'(0)= -16\" title=\"8 \\\\, y - 6 \\\\, {y\\'} = -{y\\'\\'}\\\\hspace{2em} y(0)= -4, y\\'(0)= -16\" data-latex=\"8 \\\\, y - 6 \\\\, {y\\'} = -{y\\'\\'}\\\\hspace{2em} y(0)= -4, y\\'(0)= -16\"/></li>\\n                <li>Solution: <img style=\"border:1px #ddd solid;padding:5px;border-radius:5px;\" src=\"/equation_images/y = -4 \\\\, e^{\\\\left(4 \\\\, x\\\\right)}\" alt=\"y = -4 \\\\, e^{\\\\left(4 \\\\, x\\\\right)}\" title=\"y = -4 \\\\, e^{\\\\left(4 \\\\, x\\\\right)}\" data-latex=\"y = -4 \\\\, e^{\\\\left(4 \\\\, x\\\\right)}\"/></li>\\n              </ul>\\n            </li>\\n          </ol>\\n        </div>\\n      </mattextxml>\\n      <mattext texttype=\"text/html\">&lt;div class=\"exercise-statement\"&gt;\\n  &lt;p&gt;\\n    &lt;strong&gt;AA1.&lt;/strong&gt;\\n  &lt;/p&gt;\\n  &lt;p&gt; For each of the following Initial Value Problems (IVPs), designate the following: &lt;/p&gt;\\n  &lt;ul&gt;\\n    &lt;li&gt;its Ordinary Differential Equation (ODE)&lt;/li&gt;\\n    &lt;li&gt;its Initial Value or Values (IVs)&lt;/li&gt;\\n    &lt;li&gt;the order of the IVP&lt;/li&gt;\\n    &lt;li&gt;its independent variable&lt;/li&gt;\\n    &lt;li&gt;its dependent variable&lt;/li&gt;\\n    &lt;li&gt;whether its solution is implicit or explicit&lt;/li&gt;\\n  &lt;/ul&gt;\\n  &lt;p&gt; Then show how to verify that its solution is valid. &lt;/p&gt;\\n  &lt;ol type=\"a\"&gt;\\n    &lt;li&gt;\\n      &lt;ul&gt;\\n        &lt;li&gt;IVP: &lt;img style=\"border:1px #ddd solid;padding:5px;border-radius:5px;\" src=\"/equation_images/-2%20%5C,%20t%20%7B%5Cfrac%7Bdx%7D%7Bdt%7D%7D%20-%202%20%5C,%20x%20%7B%5Cfrac%7Bdx%7D%7Bdt%7D%7D%20-%202%20%5C,%20x%20=%200%5Chspace%7B2em%7D%20x(-1)=%201\" alt=\"-2 \\\\, t {\\\\frac{dx}{dt}} - 2 \\\\, x {\\\\frac{dx}{dt}} - 2 \\\\, x = 0\\\\hspace{2em} x(-1)= 1\" title=\"-2 \\\\, t {\\\\frac{dx}{dt}} - 2 \\\\, x {\\\\frac{dx}{dt}} - 2 \\\\, x = 0\\\\hspace{2em} x(-1)= 1\" data-latex=\"-2 \\\\, t {\\\\frac{dx}{dt}} - 2 \\\\, x {\\\\frac{dx}{dt}} - 2 \\\\, x = 0\\\\hspace{2em} x(-1)= 1\"&gt;\\n&lt;/li&gt;\\n        &lt;li&gt;Solution: &lt;img style=\"border:1px #ddd solid;padding:5px;border-radius:5px;\" src=\"/equation_images/2%20%5C,%20t%20x%20+%20x%5E%7B2%7D%20=%20%5Cleft(-1%5Cright)\" alt=\"2 \\\\, t x + x^{2} = \\\\left(-1\\\\right)\" title=\"2 \\\\, t x + x^{2} = \\\\left(-1\\\\right)\" data-latex=\"2 \\\\, t x + x^{2} = \\\\left(-1\\\\right)\"&gt;\\n&lt;/li&gt;\\n      &lt;/ul&gt;\\n    &lt;/li&gt;\\n    &lt;li&gt;\\n      &lt;ul&gt;\\n        &lt;li&gt;IVP: &lt;img style=\"border:1px #ddd solid;padding:5px;border-radius:5px;\" src=\"/equation_images/2%20%5C,%20x%20=%20-3%20%5C,%20t%5E%7B3%7D%20+%20t%20%7Bx\\'%7D%5Chspace%7B2em%7D%20x(1)=%204\" alt=\"2 \\\\, x = -3 \\\\, t^{3} + t {x\\'}\\\\hspace{2em} x(1)= 4\" title=\"2 \\\\, x = -3 \\\\, t^{3} + t {x\\'}\\\\hspace{2em} x(1)= 4\" data-latex=\"2 \\\\, x = -3 \\\\, t^{3} + t {x\\'}\\\\hspace{2em} x(1)= 4\"&gt;\\n&lt;/li&gt;\\n        &lt;li&gt;Solution: &lt;img style=\"border:1px #ddd solid;padding:5px;border-radius:5px;\" src=\"/equation_images/x%20=%203%20%5C,%20t%5E%7B3%7D%20+%20t%5E%7B2%7D\" alt=\"x = 3 \\\\, t^{3} + t^{2}\" title=\"x = 3 \\\\, t^{3} + t^{2}\" data-latex=\"x = 3 \\\\, t^{3} + t^{2}\"&gt;\\n&lt;/li&gt;\\n      &lt;/ul&gt;\\n    &lt;/li&gt;\\n    &lt;li&gt;\\n      &lt;ul&gt;\\n        &lt;li&gt;IVP: &lt;img style=\"border:1px #ddd solid;padding:5px;border-radius:5px;\" src=\"/equation_images/8%20%5C,%20y%20-%206%20%5C,%20%7By\\'%7D%20=%20-%7By\\'\\'%7D%5Chspace%7B2em%7D%20y(0)=%20-4,%20y\\'(0)=%20-16\" alt=\"8 \\\\, y - 6 \\\\, {y\\'} = -{y\\'\\'}\\\\hspace{2em} y(0)= -4, y\\'(0)= -16\" title=\"8 \\\\, y - 6 \\\\, {y\\'} = -{y\\'\\'}\\\\hspace{2em} y(0)= -4, y\\'(0)= -16\" data-latex=\"8 \\\\, y - 6 \\\\, {y\\'} = -{y\\'\\'}\\\\hspace{2em} y(0)= -4, y\\'(0)= -16\"&gt;\\n&lt;/li&gt;\\n        &lt;li&gt;Solution: &lt;img style=\"border:1px #ddd solid;padding:5px;border-radius:5px;\" src=\"/equation_images/y%20=%20-4%20%5C,%20e%5E%7B%5Cleft(4%20%5C,%20x%5Cright)%7D\" alt=\"y = -4 \\\\, e^{\\\\left(4 \\\\, x\\\\right)}\" title=\"y = -4 \\\\, e^{\\\\left(4 \\\\, x\\\\right)}\" data-latex=\"y = -4 \\\\, e^{\\\\left(4 \\\\, x\\\\right)}\"&gt;\\n&lt;/li&gt;\\n      &lt;/ul&gt;\\n    &lt;/li&gt;\\n  &lt;/ol&gt;\\n&lt;/div&gt;\\n\\n</mattext>\\n    </material>\\n    <response_str ident=\"response1\" rcardinality=\"Single\">\\n      <render_fib>\\n        <response_label ident=\"answer1\" rshuffle=\"No\"/>\\n      </render_fib>\\n    </response_str>\\n  </presentation>\\n  <itemfeedback ident=\"general_fb\">\\n    <flow_mat>\\n      <material>\\n        <mattextxml>\\n          <div class=\"exercise-answer\">\\n            <h4>Partial Answer:</h4>\\n            <ol type=\"a\">\\n              <li>\\n                <ul>\\n                  <li>ODE: <img style=\"border:1px #ddd solid;padding:5px;border-radius:5px;\" src=\"/equation_images/-2 \\\\, t {\\\\frac{dx}{dt}} - 2 \\\\, x {\\\\frac{dx}{dt}} - 2 \\\\, x = 0\" alt=\"-2 \\\\, t {\\\\frac{dx}{dt}} - 2 \\\\, x {\\\\frac{dx}{dt}} - 2 \\\\, x = 0\" title=\"-2 \\\\, t {\\\\frac{dx}{dt}} - 2 \\\\, x {\\\\frac{dx}{dt}} - 2 \\\\, x = 0\" data-latex=\"-2 \\\\, t {\\\\frac{dx}{dt}} - 2 \\\\, x {\\\\frac{dx}{dt}} - 2 \\\\, x = 0\"/></li>\\n                  <li>IV(s): <img style=\"border:1px #ddd solid;padding:5px;border-radius:5px;\" src=\"/equation_images/x(-1)= 1\" alt=\"x(-1)= 1\" title=\"x(-1)= 1\" data-latex=\"x(-1)= 1\"/></li>\\n                  <li>Order: 1st</li>\\n                  <li>Independent variable: <img style=\"border:1px #ddd solid;padding:5px;border-radius:5px;\" src=\"/equation_images/t\" alt=\"t\" title=\"t\" data-latex=\"t\"/></li>\\n                  <li>Dependent variable: <img style=\"border:1px #ddd solid;padding:5px;border-radius:5px;\" src=\"/equation_images/x\" alt=\"x\" title=\"x\" data-latex=\"x\"/></li>\\n                  <li>The solution <img style=\"border:1px #ddd solid;padding:5px;border-radius:5px;\" src=\"/equation_images/2 \\\\, t x + x^{2} = \\\\left(-1\\\\right)\" alt=\"2 \\\\, t x + x^{2} = \\\\left(-1\\\\right)\" title=\"2 \\\\, t x + x^{2} = \\\\left(-1\\\\right)\" data-latex=\"2 \\\\, t x + x^{2} = \\\\left(-1\\\\right)\"/> is implicit.</li>\\n                </ul>\\n              </li>\\n              <li>\\n                <ul>\\n                  <li>ODE: <img style=\"border:1px #ddd solid;padding:5px;border-radius:5px;\" src=\"/equation_images/2 \\\\, x = -3 \\\\, t^{3} + t {x\\'}\" alt=\"2 \\\\, x = -3 \\\\, t^{3} + t {x\\'}\" title=\"2 \\\\, x = -3 \\\\, t^{3} + t {x\\'}\" data-latex=\"2 \\\\, x = -3 \\\\, t^{3} + t {x\\'}\"/></li>\\n                  <li>IV(s): <img style=\"border:1px #ddd solid;padding:5px;border-radius:5px;\" src=\"/equation_images/x(1)= 4\" alt=\"x(1)= 4\" title=\"x(1)= 4\" data-latex=\"x(1)= 4\"/></li>\\n                  <li>Order: 1st</li>\\n                  <li>Independent variable: <img style=\"border:1px #ddd solid;padding:5px;border-radius:5px;\" src=\"/equation_images/t\" alt=\"t\" title=\"t\" data-latex=\"t\"/></li>\\n                  <li>Dependent variable: <img style=\"border:1px #ddd solid;padding:5px;border-radius:5px;\" src=\"/equation_images/x\" alt=\"x\" title=\"x\" data-latex=\"x\"/></li>\\n                  <li>The solution <img style=\"border:1px #ddd solid;padding:5px;border-radius:5px;\" src=\"/equation_images/x = 3 \\\\, t^{3} + t^{2}\" alt=\"x = 3 \\\\, t^{3} + t^{2}\" title=\"x = 3 \\\\, t^{3} + t^{2}\" data-latex=\"x = 3 \\\\, t^{3} + t^{2}\"/> is explicit.</li>\\n                </ul>\\n              </li>\\n              <li>\\n                <ul>\\n                  <li>ODE: <img style=\"border:1px #ddd solid;padding:5px;border-radius:5px;\" src=\"/equation_images/8 \\\\, y - 6 \\\\, {y\\'} = -{y\\'\\'}\" alt=\"8 \\\\, y - 6 \\\\, {y\\'} = -{y\\'\\'}\" title=\"8 \\\\, y - 6 \\\\, {y\\'} = -{y\\'\\'}\" data-latex=\"8 \\\\, y - 6 \\\\, {y\\'} = -{y\\'\\'}\"/></li>\\n                  <li>IV(s): <img style=\"border:1px #ddd solid;padding:5px;border-radius:5px;\" src=\"/equation_images/y(0)= -4, y\\'(0)= -16\" alt=\"y(0)= -4, y\\'(0)= -16\" title=\"y(0)= -4, y\\'(0)= -16\" data-latex=\"y(0)= -4, y\\'(0)= -16\"/></li>\\n                  <li>Order: 2nd</li>\\n                  <li>Independent variable: <img style=\"border:1px #ddd solid;padding:5px;border-radius:5px;\" src=\"/equation_images/x\" alt=\"x\" title=\"x\" data-latex=\"x\"/></li>\\n                  <li>Dependent variable: <img style=\"border:1px #ddd solid;padding:5px;border-radius:5px;\" src=\"/equation_images/y\" alt=\"y\" title=\"y\" data-latex=\"y\"/></li>\\n                  <li>The solution <img style=\"border:1px #ddd solid;padding:5px;border-radius:5px;\" src=\"/equation_images/y = -4 \\\\, e^{\\\\left(4 \\\\, x\\\\right)}\" alt=\"y = -4 \\\\, e^{\\\\left(4 \\\\, x\\\\right)}\" title=\"y = -4 \\\\, e^{\\\\left(4 \\\\, x\\\\right)}\" data-latex=\"y = -4 \\\\, e^{\\\\left(4 \\\\, x\\\\right)}\"/> is explicit.</li>\\n                </ul>\\n              </li>\\n            </ol>\\n          </div>\\n        </mattextxml>\\n        <mattext texttype=\"text/html\">&lt;div class=\"exercise-answer\"&gt;\\n  &lt;h4&gt;Partial Answer:&lt;/h4&gt;\\n  &lt;ol type=\"a\"&gt;\\n    &lt;li&gt;\\n      &lt;ul&gt;\\n        &lt;li&gt;ODE: &lt;img style=\"border:1px #ddd solid;padding:5px;border-radius:5px;\" src=\"/equation_images/-2%20%5C,%20t%20%7B%5Cfrac%7Bdx%7D%7Bdt%7D%7D%20-%202%20%5C,%20x%20%7B%5Cfrac%7Bdx%7D%7Bdt%7D%7D%20-%202%20%5C,%20x%20=%200\" alt=\"-2 \\\\, t {\\\\frac{dx}{dt}} - 2 \\\\, x {\\\\frac{dx}{dt}} - 2 \\\\, x = 0\" title=\"-2 \\\\, t {\\\\frac{dx}{dt}} - 2 \\\\, x {\\\\frac{dx}{dt}} - 2 \\\\, x = 0\" data-latex=\"-2 \\\\, t {\\\\frac{dx}{dt}} - 2 \\\\, x {\\\\frac{dx}{dt}} - 2 \\\\, x = 0\"&gt;\\n&lt;/li&gt;\\n        &lt;li&gt;IV(s): &lt;img style=\"border:1px #ddd solid;padding:5px;border-radius:5px;\" src=\"/equation_images/x(-1)=%201\" alt=\"x(-1)= 1\" title=\"x(-1)= 1\" data-latex=\"x(-1)= 1\"&gt;\\n&lt;/li&gt;\\n        &lt;li&gt;Order: 1st&lt;/li&gt;\\n        &lt;li&gt;Independent variable: &lt;img style=\"border:1px #ddd solid;padding:5px;border-radius:5px;\" src=\"/equation_images/t\" alt=\"t\" title=\"t\" data-latex=\"t\"&gt;\\n&lt;/li&gt;\\n        &lt;li&gt;Dependent variable: &lt;img style=\"border:1px #ddd solid;padding:5px;border-radius:5px;\" src=\"/equation_images/x\" alt=\"x\" title=\"x\" data-latex=\"x\"&gt;\\n&lt;/li&gt;\\n        &lt;li&gt;The solution &lt;img style=\"border:1px #ddd solid;padding:5px;border-radius:5px;\" src=\"/equation_images/2%20%5C,%20t%20x%20+%20x%5E%7B2%7D%20=%20%5Cleft(-1%5Cright)\" alt=\"2 \\\\, t x + x^{2} = \\\\left(-1\\\\right)\" title=\"2 \\\\, t x + x^{2} = \\\\left(-1\\\\right)\" data-latex=\"2 \\\\, t x + x^{2} = \\\\left(-1\\\\right)\"&gt; is implicit.&lt;/li&gt;\\n      &lt;/ul&gt;\\n    &lt;/li&gt;\\n    &lt;li&gt;\\n      &lt;ul&gt;\\n        &lt;li&gt;ODE: &lt;img style=\"border:1px #ddd solid;padding:5px;border-radius:5px;\" src=\"/equation_images/2%20%5C,%20x%20=%20-3%20%5C,%20t%5E%7B3%7D%20+%20t%20%7Bx\\'%7D\" alt=\"2 \\\\, x = -3 \\\\, t^{3} + t {x\\'}\" title=\"2 \\\\, x = -3 \\\\, t^{3} + t {x\\'}\" data-latex=\"2 \\\\, x = -3 \\\\, t^{3} + t {x\\'}\"&gt;\\n&lt;/li&gt;\\n        &lt;li&gt;IV(s): &lt;img style=\"border:1px #ddd solid;padding:5px;border-radius:5px;\" src=\"/equation_images/x(1)=%204\" alt=\"x(1)= 4\" title=\"x(1)= 4\" data-latex=\"x(1)= 4\"&gt;\\n&lt;/li&gt;\\n        &lt;li&gt;Order: 1st&lt;/li&gt;\\n        &lt;li&gt;Independent variable: &lt;img style=\"border:1px #ddd solid;padding:5px;border-radius:5px;\" src=\"/equation_images/t\" alt=\"t\" title=\"t\" data-latex=\"t\"&gt;\\n&lt;/li&gt;\\n        &lt;li&gt;Dependent variable: &lt;img style=\"border:1px #ddd solid;padding:5px;border-radius:5px;\" src=\"/equation_images/x\" alt=\"x\" title=\"x\" data-latex=\"x\"&gt;\\n&lt;/li&gt;\\n        &lt;li&gt;The solution &lt;img style=\"border:1px #ddd solid;padding:5px;border-radius:5px;\" src=\"/equation_images/x%20=%203%20%5C,%20t%5E%7B3%7D%20+%20t%5E%7B2%7D\" alt=\"x = 3 \\\\, t^{3} + t^{2}\" title=\"x = 3 \\\\, t^{3} + t^{2}\" data-latex=\"x = 3 \\\\, t^{3} + t^{2}\"&gt; is explicit.&lt;/li&gt;\\n      &lt;/ul&gt;\\n    &lt;/li&gt;\\n    &lt;li&gt;\\n      &lt;ul&gt;\\n        &lt;li&gt;ODE: &lt;img style=\"border:1px #ddd solid;padding:5px;border-radius:5px;\" src=\"/equation_images/8%20%5C,%20y%20-%206%20%5C,%20%7By\\'%7D%20=%20-%7By\\'\\'%7D\" alt=\"8 \\\\, y - 6 \\\\, {y\\'} = -{y\\'\\'}\" title=\"8 \\\\, y - 6 \\\\, {y\\'} = -{y\\'\\'}\" data-latex=\"8 \\\\, y - 6 \\\\, {y\\'} = -{y\\'\\'}\"&gt;\\n&lt;/li&gt;\\n        &lt;li&gt;IV(s): &lt;img style=\"border:1px #ddd solid;padding:5px;border-radius:5px;\" src=\"/equation_images/y(0)=%20-4,%20y\\'(0)=%20-16\" alt=\"y(0)= -4, y\\'(0)= -16\" title=\"y(0)= -4, y\\'(0)= -16\" data-latex=\"y(0)= -4, y\\'(0)= -16\"&gt;\\n&lt;/li&gt;\\n        &lt;li&gt;Order: 2nd&lt;/li&gt;\\n        &lt;li&gt;Independent variable: &lt;img style=\"border:1px #ddd solid;padding:5px;border-radius:5px;\" src=\"/equation_images/x\" alt=\"x\" title=\"x\" data-latex=\"x\"&gt;\\n&lt;/li&gt;\\n        &lt;li&gt;Dependent variable: &lt;img style=\"border:1px #ddd solid;padding:5px;border-radius:5px;\" src=\"/equation_images/y\" alt=\"y\" title=\"y\" data-latex=\"y\"&gt;\\n&lt;/li&gt;\\n        &lt;li&gt;The solution &lt;img style=\"border:1px #ddd solid;padding:5px;border-radius:5px;\" src=\"/equation_images/y%20=%20-4%20%5C,%20e%5E%7B%5Cleft(4%20%5C,%20x%5Cright)%7D\" alt=\"y = -4 \\\\, e^{\\\\left(4 \\\\, x\\\\right)}\" title=\"y = -4 \\\\, e^{\\\\left(4 \\\\, x\\\\right)}\" data-latex=\"y = -4 \\\\, e^{\\\\left(4 \\\\, x\\\\right)}\"&gt; is explicit.&lt;/li&gt;\\n      &lt;/ul&gt;\\n    &lt;/li&gt;\\n  &lt;/ol&gt;\\n&lt;/div&gt;\\n\\n</mattext>\\n      </material>\\n    </flow_mat>\\n  </itemfeedback>\\n</item>\\n',\n",
       "   'pretext': '<exercise checkit-seed=\"2538\" checkit-slug=\"AA1\" checkit-title=\"Structure of an IVP and Verifying Solutions\">\\n  <statement>\\n    <p>\\nFor each of the following Initial Value Problems (IVPs), designate the following:\\n      </p>\\n    <ul>\\n      <li>its Ordinary Differential Equation (ODE)</li>\\n      <li>its Initial Value or Values (IVs)</li>\\n      <li>the order of the IVP</li>\\n      <li>its independent variable</li>\\n      <li>its dependent variable</li>\\n      <li>whether its solution is implicit or explicit</li>\\n    </ul>\\n    <p>\\nThen show how to verify that its solution is valid.\\n      </p>\\n    <ol>\\n      <li>\\n        <ul>\\n          <li>IVP:\\n                          <m>-2 \\\\, t {\\\\frac{dx}{dt}} - 2 \\\\, x {\\\\frac{dx}{dt}} - 2 \\\\, x = 0\\\\hspace{2em}\\n                              x(-1)=\\n                      1</m></li>\\n          <li>Solution: <m>2 \\\\, t x + x^{2} = \\\\left(-1\\\\right)</m></li>\\n        </ul>\\n      </li>\\n      <li>\\n        <ul>\\n          <li>IVP:\\n                          <m>2 \\\\, x = -3 \\\\, t^{3} + t {x\\'}\\\\hspace{2em}\\n                              x(1)=\\n                      4</m></li>\\n          <li>Solution: <m>x = 3 \\\\, t^{3} + t^{2}</m></li>\\n        </ul>\\n      </li>\\n      <li>\\n        <ul>\\n          <li>IVP:\\n                          <m>8 \\\\, y - 6 \\\\, {y\\'} = -{y\\'\\'}\\\\hspace{2em}\\n                              y(0)=\\n                      -4,\\n                      y\\'(0)=\\n                      -16</m></li>\\n          <li>Solution: <m>y = -4 \\\\, e^{\\\\left(4 \\\\, x\\\\right)}</m></li>\\n        </ul>\\n      </li>\\n    </ol>\\n  </statement>\\n  <answer>\\n    <ol>\\n      <li>\\n        <ul>\\n          <li>ODE: <m>-2 \\\\, t {\\\\frac{dx}{dt}} - 2 \\\\, x {\\\\frac{dx}{dt}} - 2 \\\\, x = 0</m></li>\\n          <li>IV(s): <m>x(-1)=\\n                      1</m></li>\\n          <li>Order: 1st</li>\\n          <li>Independent variable: <m>t</m></li>\\n          <li>Dependent variable: <m>x</m></li>\\n          <li>The solution <m>2 \\\\, t x + x^{2} = \\\\left(-1\\\\right)</m> is implicit.</li>\\n        </ul>\\n      </li>\\n      <li>\\n        <ul>\\n          <li>ODE: <m>2 \\\\, x = -3 \\\\, t^{3} + t {x\\'}</m></li>\\n          <li>IV(s): <m>x(1)=\\n                      4</m></li>\\n          <li>Order: 1st</li>\\n          <li>Independent variable: <m>t</m></li>\\n          <li>Dependent variable: <m>x</m></li>\\n          <li>The solution <m>x = 3 \\\\, t^{3} + t^{2}</m> is explicit.</li>\\n        </ul>\\n      </li>\\n      <li>\\n        <ul>\\n          <li>ODE: <m>8 \\\\, y - 6 \\\\, {y\\'} = -{y\\'\\'}</m></li>\\n          <li>IV(s): <m>y(0)=\\n                      -4,\\n                      y\\'(0)=\\n                      -16</m></li>\\n          <li>Order: 2nd</li>\\n          <li>Independent variable: <m>x</m></li>\\n          <li>Dependent variable: <m>y</m></li>\\n          <li>The solution <m>y = -4 \\\\, e^{\\\\left(4 \\\\, x\\\\right)}</m> is explicit.</li>\\n        </ul>\\n      </li>\\n    </ol>\\n  </answer>\\n</exercise>\\n',\n",
       "   'html': '<div class=\"checkit exercise\" data-checkit-slug=\"AA1\" data-checkit-title=\"Structure of an IVP and Verifying Solutions\" data-checkit-seed=\"2538\">\\n  <div class=\"exercise-statement\">\\n    <p> For each of the following Initial Value Problems (IVPs), designate the following: </p>\\n    <ul>\\n      <li>its Ordinary Differential Equation (ODE)</li>\\n      <li>its Initial Value or Values (IVs)</li>\\n      <li>the order of the IVP</li>\\n      <li>its independent variable</li>\\n      <li>its dependent variable</li>\\n      <li>whether its solution is implicit or explicit</li>\\n    </ul>\\n    <p> Then show how to verify that its solution is valid. </p>\\n    <ol type=\"a\">\\n      <li>\\n        <ul>\\n          <li>IVP: <span class=\"math math-inline\">\\\\(-2 \\\\, t {\\\\frac{dx}{dt}} - 2 \\\\, x {\\\\frac{dx}{dt}} - 2 \\\\, x = 0\\\\hspace{2em}\\n                              x(-1)=\\n                      1\\\\)</span></li>\\n          <li>Solution: <span class=\"math math-inline\">\\\\(2 \\\\, t x + x^{2} = \\\\left(-1\\\\right)\\\\)</span></li>\\n        </ul>\\n      </li>\\n      <li>\\n        <ul>\\n          <li>IVP: <span class=\"math math-inline\">\\\\(2 \\\\, x = -3 \\\\, t^{3} + t {x\\'}\\\\hspace{2em}\\n                              x(1)=\\n                      4\\\\)</span></li>\\n          <li>Solution: <span class=\"math math-inline\">\\\\(x = 3 \\\\, t^{3} + t^{2}\\\\)</span></li>\\n        </ul>\\n      </li>\\n      <li>\\n        <ul>\\n          <li>IVP: <span class=\"math math-inline\">\\\\(8 \\\\, y - 6 \\\\, {y\\'} = -{y\\'\\'}\\\\hspace{2em}\\n                              y(0)=\\n                      -4,\\n                      y\\'(0)=\\n                      -16\\\\)</span></li>\\n          <li>Solution: <span class=\"math math-inline\">\\\\(y = -4 \\\\, e^{\\\\left(4 \\\\, x\\\\right)}\\\\)</span></li>\\n        </ul>\\n      </li>\\n    </ol>\\n  </div>\\n  <div class=\"exercise-answer\">\\n    <p>\\n      <b>Answer:</b>\\n    </p>\\n    <ol type=\"a\">\\n      <li>\\n        <ul>\\n          <li>ODE: <span class=\"math math-inline\">\\\\(-2 \\\\, t {\\\\frac{dx}{dt}} - 2 \\\\, x {\\\\frac{dx}{dt}} - 2 \\\\, x = 0\\\\)</span></li>\\n          <li>IV(s): <span class=\"math math-inline\">\\\\(x(-1)=\\n                      1\\\\)</span></li>\\n          <li>Order: 1st</li>\\n          <li>Independent variable: <span class=\"math math-inline\">\\\\(t\\\\)</span></li>\\n          <li>Dependent variable: <span class=\"math math-inline\">\\\\(x\\\\)</span></li>\\n          <li>The solution <span class=\"math math-inline\">\\\\(2 \\\\, t x + x^{2} = \\\\left(-1\\\\right)\\\\)</span> is implicit.</li>\\n        </ul>\\n      </li>\\n      <li>\\n        <ul>\\n          <li>ODE: <span class=\"math math-inline\">\\\\(2 \\\\, x = -3 \\\\, t^{3} + t {x\\'}\\\\)</span></li>\\n          <li>IV(s): <span class=\"math math-inline\">\\\\(x(1)=\\n                      4\\\\)</span></li>\\n          <li>Order: 1st</li>\\n          <li>Independent variable: <span class=\"math math-inline\">\\\\(t\\\\)</span></li>\\n          <li>Dependent variable: <span class=\"math math-inline\">\\\\(x\\\\)</span></li>\\n          <li>The solution <span class=\"math math-inline\">\\\\(x = 3 \\\\, t^{3} + t^{2}\\\\)</span> is explicit.</li>\\n        </ul>\\n      </li>\\n      <li>\\n        <ul>\\n          <li>ODE: <span class=\"math math-inline\">\\\\(8 \\\\, y - 6 \\\\, {y\\'} = -{y\\'\\'}\\\\)</span></li>\\n          <li>IV(s): <span class=\"math math-inline\">\\\\(y(0)=\\n                      -4,\\n                      y\\'(0)=\\n                      -16\\\\)</span></li>\\n          <li>Order: 2nd</li>\\n          <li>Independent variable: <span class=\"math math-inline\">\\\\(x\\\\)</span></li>\\n          <li>Dependent variable: <span class=\"math math-inline\">\\\\(y\\\\)</span></li>\\n          <li>The solution <span class=\"math math-inline\">\\\\(y = -4 \\\\, e^{\\\\left(4 \\\\, x\\\\right)}\\\\)</span> is explicit.</li>\\n        </ul>\\n      </li>\\n    </ol>\\n  </div>\\n</div>\\n',\n",
       "   'tex': \"\\n\\\\begin{exercise}{AA1}{Structure of an IVP and Verifying Solutions}{2538}\\n\\\\begin{exerciseStatement}\\n\\n For each of the following Initial Value Problems (IVPs), designate the following: \\n\\n\\n\\n\\\\begin{itemize}\\n\\\\item its Ordinary Differential Equation (ODE)\\n\\\\item its Initial Value or Values (IVs)\\n\\\\item the order of the IVP\\n\\\\item its independent variable\\n\\\\item its dependent variable\\n\\\\item whether its solution is implicit or explicit\\n\\\\end{itemize}\\n\\n    \\n\\n Then show how to verify that its solution is valid. \\n\\n\\n\\n\\\\begin{enumerate}[(a)]\\n\\\\item \\n\\n\\\\begin{itemize}\\n\\\\item IVP: \\\\(-2 \\\\, t {\\\\frac{dx}{dt}} - 2 \\\\, x {\\\\frac{dx}{dt}} - 2 \\\\, x = 0\\\\hspace{2em}\\n                              x(-1)=\\n                      1\\\\)\\n\\\\item Solution: \\\\(2 \\\\, t x + x^{2} = \\\\left(-1\\\\right)\\\\)\\n\\\\end{itemize}\\n\\n    \\n\\\\item \\n\\n\\\\begin{itemize}\\n\\\\item IVP: \\\\(2 \\\\, x = -3 \\\\, t^{3} + t {x'}\\\\hspace{2em}\\n                              x(1)=\\n                      4\\\\)\\n\\\\item Solution: \\\\(x = 3 \\\\, t^{3} + t^{2}\\\\)\\n\\\\end{itemize}\\n\\n    \\n\\\\item \\n\\n\\\\begin{itemize}\\n\\\\item IVP: \\\\(8 \\\\, y - 6 \\\\, {y'} = -{y''}\\\\hspace{2em}\\n                              y(0)=\\n                      -4,\\n                      y'(0)=\\n                      -16\\\\)\\n\\\\item Solution: \\\\(y = -4 \\\\, e^{\\\\left(4 \\\\, x\\\\right)}\\\\)\\n\\\\end{itemize}\\n\\n    \\n\\\\end{enumerate}\\n\\n    \\\\end{exerciseStatement}\\n\\\\begin{exerciseAnswer}\\n\\n\\\\begin{enumerate}[(a)]\\n\\\\item \\n\\n\\\\begin{itemize}\\n\\\\item ODE: \\\\(-2 \\\\, t {\\\\frac{dx}{dt}} - 2 \\\\, x {\\\\frac{dx}{dt}} - 2 \\\\, x = 0\\\\)\\n\\\\item IV(s): \\\\(x(-1)=\\n                      1\\\\)\\n\\\\item Order: 1st\\n\\\\item Independent variable: \\\\(t\\\\)\\n\\\\item Dependent variable: \\\\(x\\\\)\\n\\\\item The solution \\\\(2 \\\\, t x + x^{2} = \\\\left(-1\\\\right)\\\\) is implicit.\\n\\\\end{itemize}\\n\\n    \\n\\\\item \\n\\n\\\\begin{itemize}\\n\\\\item ODE: \\\\(2 \\\\, x = -3 \\\\, t^{3} + t {x'}\\\\)\\n\\\\item IV(s): \\\\(x(1)=\\n                      4\\\\)\\n\\\\item Order: 1st\\n\\\\item Independent variable: \\\\(t\\\\)\\n\\\\item Dependent variable: \\\\(x\\\\)\\n\\\\item The solution \\\\(x = 3 \\\\, t^{3} + t^{2}\\\\) is explicit.\\n\\\\end{itemize}\\n\\n    \\n\\\\item \\n\\n\\\\begin{itemize}\\n\\\\item ODE: \\\\(8 \\\\, y - 6 \\\\, {y'} = -{y''}\\\\)\\n\\\\item IV(s): \\\\(y(0)=\\n                      -4,\\n                      y'(0)=\\n                      -16\\\\)\\n\\\\item Order: 2nd\\n\\\\item Independent variable: \\\\(x\\\\)\\n\\\\item Dependent variable: \\\\(y\\\\)\\n\\\\item The solution \\\\(y = -4 \\\\, e^{\\\\left(4 \\\\, x\\\\right)}\\\\) is explicit.\\n\\\\end{itemize}\\n\\n    \\n\\\\end{enumerate}\\n\\n    \\\\end{exerciseAnswer}\\n\\\\end{exercise}\\n\"}]}"
      ]
     },
     "execution_count": 5,
     "metadata": {
     },
     "output_type": "execute_result"
    }
   ],
   "source": [
    "from checkit import Bank\n",
    "\n",
    "bank = Bank(\"clontz-diff-eq\")\n",
    "bank.outcomes[0].generate_dict(amount=2,public=False)"
   ]
  },
  {
   "cell_type": "code",
   "execution_count": 2,
   "metadata": {
    "collapsed": false
   },
   "outputs": [
    {
     "ename": "JSONDecodeError",
     "evalue": "Expecting value: line 1 column 1 (char 0)",
     "output_type": "error",
     "traceback": [
      "\u001b[0;31m---------------------------------------------------------------------------\u001b[0m",
      "\u001b[0;31mJSONDecodeError\u001b[0m                           Traceback (most recent call last)",
      "\u001b[0;32m<ipython-input-2-aff9274d9148>\u001b[0m in \u001b[0;36m<module>\u001b[0;34m\u001b[0m\n\u001b[0;32m----> 1\u001b[0;31m \u001b[0mbank\u001b[0m\u001b[0;34m.\u001b[0m\u001b[0moutcomes\u001b[0m\u001b[0;34m[\u001b[0m\u001b[0;36m0\u001b[0m\u001b[0;34m]\u001b[0m\u001b[0;34m.\u001b[0m\u001b[0mgenerate_dict\u001b[0m\u001b[0;34m(\u001b[0m\u001b[0;34m)\u001b[0m\u001b[0;34m\u001b[0m\u001b[0;34m\u001b[0m\u001b[0m\n\u001b[0m",
      "\u001b[0;32m~/checkit/checkit.py\u001b[0m in \u001b[0;36mgenerate_dict\u001b[0;34m(self, public, amount)\u001b[0m\n\u001b[1;32m    116\u001b[0m \u001b[0;34m\u001b[0m\u001b[0m\n\u001b[1;32m    117\u001b[0m     \u001b[0;32mdef\u001b[0m \u001b[0mgenerate_dict\u001b[0m\u001b[0;34m(\u001b[0m\u001b[0mself\u001b[0m\u001b[0;34m,\u001b[0m\u001b[0mpublic\u001b[0m\u001b[0;34m=\u001b[0m\u001b[0;32mTrue\u001b[0m\u001b[0;34m,\u001b[0m\u001b[0mamount\u001b[0m\u001b[0;34m=\u001b[0m\u001b[0;36m100\u001b[0m\u001b[0;34m)\u001b[0m\u001b[0;34m:\u001b[0m\u001b[0;34m\u001b[0m\u001b[0;34m\u001b[0m\u001b[0m\n\u001b[0;32m--> 118\u001b[0;31m         \u001b[0mexercises\u001b[0m \u001b[0;34m=\u001b[0m \u001b[0mself\u001b[0m\u001b[0;34m.\u001b[0m\u001b[0mgenerate_exercises\u001b[0m\u001b[0;34m(\u001b[0m\u001b[0mpublic\u001b[0m\u001b[0;34m,\u001b[0m\u001b[0mamount\u001b[0m\u001b[0;34m)\u001b[0m\u001b[0;34m\u001b[0m\u001b[0;34m\u001b[0m\u001b[0m\n\u001b[0m\u001b[1;32m    119\u001b[0m         return {\n\u001b[1;32m    120\u001b[0m             \u001b[0;34m\"title\"\u001b[0m\u001b[0;34m:\u001b[0m \u001b[0mself\u001b[0m\u001b[0;34m.\u001b[0m\u001b[0mtitle\u001b[0m\u001b[0;34m,\u001b[0m\u001b[0;34m\u001b[0m\u001b[0;34m\u001b[0m\u001b[0m\n",
      "\u001b[0;32m~/checkit/checkit.py\u001b[0m in \u001b[0;36mgenerate_exercises\u001b[0;34m(self, public, amount)\u001b[0m\n\u001b[1;32m    109\u001b[0m         \u001b[0;31m# returns json list of exercise objects\u001b[0m\u001b[0;34m\u001b[0m\u001b[0;34m\u001b[0m\u001b[0;34m\u001b[0m\u001b[0m\n\u001b[1;32m    110\u001b[0m         \u001b[0mdata_json_list\u001b[0m \u001b[0;34m=\u001b[0m \u001b[0msubprocess\u001b[0m\u001b[0;34m.\u001b[0m\u001b[0mrun\u001b[0m\u001b[0;34m(\u001b[0m\u001b[0mcommand\u001b[0m\u001b[0;34m,\u001b[0m\u001b[0mcapture_output\u001b[0m\u001b[0;34m=\u001b[0m\u001b[0;32mTrue\u001b[0m\u001b[0;34m)\u001b[0m\u001b[0;34m.\u001b[0m\u001b[0mstdout\u001b[0m\u001b[0;34m\u001b[0m\u001b[0;34m\u001b[0m\u001b[0m\n\u001b[0;32m--> 111\u001b[0;31m         \u001b[0mdata_list\u001b[0m \u001b[0;34m=\u001b[0m \u001b[0mjson\u001b[0m\u001b[0;34m.\u001b[0m\u001b[0mloads\u001b[0m\u001b[0;34m(\u001b[0m\u001b[0mdata_json_list\u001b[0m\u001b[0;34m)\u001b[0m\u001b[0;34m\u001b[0m\u001b[0;34m\u001b[0m\u001b[0m\n\u001b[0m\u001b[1;32m    112\u001b[0m         return [\n\u001b[1;32m    113\u001b[0m             \u001b[0mExercise\u001b[0m\u001b[0;34m(\u001b[0m\u001b[0mdata\u001b[0m\u001b[0;34m[\u001b[0m\u001b[0;34m\"values\"\u001b[0m\u001b[0;34m]\u001b[0m\u001b[0;34m,\u001b[0m\u001b[0mdata\u001b[0m\u001b[0;34m[\u001b[0m\u001b[0;34m\"seed\"\u001b[0m\u001b[0;34m]\u001b[0m\u001b[0;34m,\u001b[0m\u001b[0mself\u001b[0m\u001b[0;34m)\u001b[0m\u001b[0;31m \u001b[0m\u001b[0;31m\\\u001b[0m\u001b[0;34m\u001b[0m\u001b[0;34m\u001b[0m\u001b[0m\n",
      "\u001b[0;32m/usr/lib/python3.8/json/__init__.py\u001b[0m in \u001b[0;36mloads\u001b[0;34m(s, cls, object_hook, parse_float, parse_int, parse_constant, object_pairs_hook, **kw)\u001b[0m\n\u001b[1;32m    355\u001b[0m             \u001b[0mparse_int\u001b[0m \u001b[0;32mis\u001b[0m \u001b[0;32mNone\u001b[0m \u001b[0;32mand\u001b[0m \u001b[0mparse_float\u001b[0m \u001b[0;32mis\u001b[0m \u001b[0;32mNone\u001b[0m \u001b[0;32mand\u001b[0m\u001b[0;34m\u001b[0m\u001b[0;34m\u001b[0m\u001b[0m\n\u001b[1;32m    356\u001b[0m             parse_constant is None and object_pairs_hook is None and not kw):\n\u001b[0;32m--> 357\u001b[0;31m         \u001b[0;32mreturn\u001b[0m \u001b[0m_default_decoder\u001b[0m\u001b[0;34m.\u001b[0m\u001b[0mdecode\u001b[0m\u001b[0;34m(\u001b[0m\u001b[0ms\u001b[0m\u001b[0;34m)\u001b[0m\u001b[0;34m\u001b[0m\u001b[0;34m\u001b[0m\u001b[0m\n\u001b[0m\u001b[1;32m    358\u001b[0m     \u001b[0;32mif\u001b[0m \u001b[0mcls\u001b[0m \u001b[0;32mis\u001b[0m \u001b[0;32mNone\u001b[0m\u001b[0;34m:\u001b[0m\u001b[0;34m\u001b[0m\u001b[0;34m\u001b[0m\u001b[0m\n\u001b[1;32m    359\u001b[0m         \u001b[0mcls\u001b[0m \u001b[0;34m=\u001b[0m \u001b[0mJSONDecoder\u001b[0m\u001b[0;34m\u001b[0m\u001b[0;34m\u001b[0m\u001b[0m\n",
      "\u001b[0;32m/usr/lib/python3.8/json/decoder.py\u001b[0m in \u001b[0;36mdecode\u001b[0;34m(self, s, _w)\u001b[0m\n\u001b[1;32m    335\u001b[0m \u001b[0;34m\u001b[0m\u001b[0m\n\u001b[1;32m    336\u001b[0m         \"\"\"\n\u001b[0;32m--> 337\u001b[0;31m         \u001b[0mobj\u001b[0m\u001b[0;34m,\u001b[0m \u001b[0mend\u001b[0m \u001b[0;34m=\u001b[0m \u001b[0mself\u001b[0m\u001b[0;34m.\u001b[0m\u001b[0mraw_decode\u001b[0m\u001b[0;34m(\u001b[0m\u001b[0ms\u001b[0m\u001b[0;34m,\u001b[0m \u001b[0midx\u001b[0m\u001b[0;34m=\u001b[0m\u001b[0m_w\u001b[0m\u001b[0;34m(\u001b[0m\u001b[0ms\u001b[0m\u001b[0;34m,\u001b[0m \u001b[0;36m0\u001b[0m\u001b[0;34m)\u001b[0m\u001b[0;34m.\u001b[0m\u001b[0mend\u001b[0m\u001b[0;34m(\u001b[0m\u001b[0;34m)\u001b[0m\u001b[0;34m)\u001b[0m\u001b[0;34m\u001b[0m\u001b[0;34m\u001b[0m\u001b[0m\n\u001b[0m\u001b[1;32m    338\u001b[0m         \u001b[0mend\u001b[0m \u001b[0;34m=\u001b[0m \u001b[0m_w\u001b[0m\u001b[0;34m(\u001b[0m\u001b[0ms\u001b[0m\u001b[0;34m,\u001b[0m \u001b[0mend\u001b[0m\u001b[0;34m)\u001b[0m\u001b[0;34m.\u001b[0m\u001b[0mend\u001b[0m\u001b[0;34m(\u001b[0m\u001b[0;34m)\u001b[0m\u001b[0;34m\u001b[0m\u001b[0;34m\u001b[0m\u001b[0m\n\u001b[1;32m    339\u001b[0m         \u001b[0;32mif\u001b[0m \u001b[0mend\u001b[0m \u001b[0;34m!=\u001b[0m \u001b[0mlen\u001b[0m\u001b[0;34m(\u001b[0m\u001b[0ms\u001b[0m\u001b[0;34m)\u001b[0m\u001b[0;34m:\u001b[0m\u001b[0;34m\u001b[0m\u001b[0;34m\u001b[0m\u001b[0m\n",
      "\u001b[0;32m/usr/lib/python3.8/json/decoder.py\u001b[0m in \u001b[0;36mraw_decode\u001b[0;34m(self, s, idx)\u001b[0m\n\u001b[1;32m    353\u001b[0m             \u001b[0mobj\u001b[0m\u001b[0;34m,\u001b[0m \u001b[0mend\u001b[0m \u001b[0;34m=\u001b[0m \u001b[0mself\u001b[0m\u001b[0;34m.\u001b[0m\u001b[0mscan_once\u001b[0m\u001b[0;34m(\u001b[0m\u001b[0ms\u001b[0m\u001b[0;34m,\u001b[0m \u001b[0midx\u001b[0m\u001b[0;34m)\u001b[0m\u001b[0;34m\u001b[0m\u001b[0;34m\u001b[0m\u001b[0m\n\u001b[1;32m    354\u001b[0m         \u001b[0;32mexcept\u001b[0m \u001b[0mStopIteration\u001b[0m \u001b[0;32mas\u001b[0m \u001b[0merr\u001b[0m\u001b[0;34m:\u001b[0m\u001b[0;34m\u001b[0m\u001b[0;34m\u001b[0m\u001b[0m\n\u001b[0;32m--> 355\u001b[0;31m             \u001b[0;32mraise\u001b[0m \u001b[0mJSONDecodeError\u001b[0m\u001b[0;34m(\u001b[0m\u001b[0;34m\"Expecting value\"\u001b[0m\u001b[0;34m,\u001b[0m \u001b[0ms\u001b[0m\u001b[0;34m,\u001b[0m \u001b[0merr\u001b[0m\u001b[0;34m.\u001b[0m\u001b[0mvalue\u001b[0m\u001b[0;34m)\u001b[0m \u001b[0;32mfrom\u001b[0m \u001b[0;32mNone\u001b[0m\u001b[0;34m\u001b[0m\u001b[0;34m\u001b[0m\u001b[0m\n\u001b[0m\u001b[1;32m    356\u001b[0m         \u001b[0;32mreturn\u001b[0m \u001b[0mobj\u001b[0m\u001b[0;34m,\u001b[0m \u001b[0mend\u001b[0m\u001b[0;34m\u001b[0m\u001b[0;34m\u001b[0m\u001b[0m\n",
      "\u001b[0;31mJSONDecodeError\u001b[0m: Expecting value: line 1 column 1 (char 0)"
     ]
    }
   ],
   "source": [
   ]
  },
  {
   "cell_type": "markdown",
   "metadata": {
    "collapsed": false,
    "editable": false
   },
   "source": [
    "# CheckIt Tutorial\n",
    "\n",
    "Use this notebook to quickly write your first randomized exercise.\n",
    "\n",
    "You can refer to a\n",
    "[read-only copy of the original tutorial](https://cocalc.com/share/9b7553d2ecfe356945710e8d076db237f28dec50/checkit-public/tutorial.ipynb?viewer=share)\n",
    "as needed while editing (in case you delete the example)."
   ]
  },
  {
   "cell_type": "markdown",
   "metadata": {
    "collapsed": false,
    "editable": false
   },
   "source": [
    "## First, write a generator\n",
    "\n",
    "Edit the below Code cell to create a\n",
    "function to generate the random data used in your exercise.\n",
    "\n",
    "Use [Ctrl]+[Enter] to see sample output used for your exercise."
   ]
  },
  {
   "cell_type": "code",
   "execution_count": 1,
   "metadata": {
    "collapsed": false
   },
   "outputs": [
    {
     "name": "stdout",
     "output_type": "stream",
     "text": [
      "{'equations': [[y, '\\\\times', 1, '+', x, '\\\\times', -8, '=', -8], [y, '\\\\times', 8, '+', x, '\\\\times', 1, '=', -8]], 'slopes': [8, -1/8], 'yints': [-8, -1], 'version': 'slope'}\n"
     ]
    }
   ],
   "source": [
    "load(\"main.sage\")\n",
    "\n",
    "def generator():\n",
    "    # define any variables you'll use\n",
    "    x,y = var(\"x y\")\n",
    "\n",
    "    # use functions like `choice` and `randrange` to make random choices\n",
    "    A = choice([-1,1])*randrange(1,10)\n",
    "    B = choice([-1,1])*randrange(1,10)\n",
    "    C = choice([-1,1])*randrange(1,10)\n",
    "\n",
    "    # Ask for slope or y-intercept?\n",
    "    version = choice(['slope','yint'])\n",
    "\n",
    "    #Randomly use standard form or silly form equations\n",
    "    if choice([True,False]):\n",
    "        equations = [\n",
    "            (A*x+B*y==C),\n",
    "            (B*x-C*y==A),\n",
    "        ] # standard form\n",
    "    else:\n",
    "        equations = [\n",
    "            [y, \"\\\\times\", B, \"+\", x, \"\\\\times\", A, \"=\", C],\n",
    "            [y, \"\\\\times\", -C, \"+\", x, \"\\\\times\", B, \"=\", A]\n",
    "        ] # silly form -- must construct LaTeX by hand\n",
    "\n",
    "    # build the objects you need\n",
    "    return {\n",
    "        \"equations\": equations,\n",
    "        \"slopes\": [\n",
    "            -A/B,\n",
    "            B/C,\n",
    "        ],\n",
    "        \"yints\": [\n",
    "            C/B,\n",
    "            -A/C,\n",
    "        ],\n",
    "        \"version\": version,\n",
    "    }\n",
    "\n",
    "# preview example data in this notebook\n",
    "print(generator())\n"
   ]
  },
  {
   "cell_type": "markdown",
   "metadata": {
    "collapsed": false,
    "editable": false
   },
   "source": [
    "## Now, write a template\n",
    "\n",
    "Edit the following [PreTeXt exercise](https://pretextbook.org) template to write your exercise's statement and answer.\n",
    "\n",
    "Randomized data from the generator can be accessed using `<xsl:value-of select=\"name\"/>`.\n",
    "\n",
    "Use [Ctrl]+[Enter] to display your randomly generated exercise in a variety of formats, including HTML and LaTeX."
   ]
  },
  {
   "cell_type": "code",
   "execution_count": 2,
   "metadata": {
    "collapsed": false,
    "scrolled": true
   },
   "outputs": [
    {
     "data": {
      "text/html": [
       "<div class=\"exercise\">\n",
       "  <div class=\"exercise-statement\">\n",
       "    <p> Find the y-intercepts for each of the following equations. </p>\n",
       "    <ul>\n",
       "      <li>\\( 8 \\, x - 5 \\, y = 2 \\)</li>\n",
       "      <li>\\( -5 \\, x - 2 \\, y = 8 \\)</li>\n",
       "    </ul>\n",
       "  </div>\n",
       "  <div class=\"exercise-answer\">\n",
       "    <p>\n",
       "      <b>Answer:</b>\n",
       "    </p>\n",
       "    <ul>\n",
       "      <li>\\( -\\frac{2}{5} \\)</li>\n",
       "      <li>\\( -4 \\)</li>\n",
       "    </ul>\n",
       "  </div>\n",
       "</div>\n"
      ],
      "text/plain": [
       "<IPython.core.display.HTML object>"
      ]
     },
     "execution_count": 2,
     "metadata": {
     },
     "output_type": "execute_result"
    },
    {
     "name": "stdout",
     "output_type": "stream",
     "text": [
      "Data XML\n",
      "-----------\n",
      "<data>\n",
      "  <equations>\n",
      "    <item> 8 \\, x - 5 \\, y = 2 </item>\n",
      "    <item> -5 \\, x - 2 \\, y = 8 </item>\n",
      "  </equations>\n",
      "  <slopes>\n",
      "    <item> \\frac{8}{5} </item>\n",
      "    <item> -\\frac{5}{2} </item>\n",
      "  </slopes>\n",
      "  <yints>\n",
      "    <item> -\\frac{2}{5} </item>\n",
      "    <item> -4 </item>\n",
      "  </yints>\n",
      "  <version>yint</version>\n",
      "</data>\n",
      "\n",
      "\n",
      "HTML source\n",
      "-----------\n",
      "<div class=\"exercise\">\n",
      "  <div class=\"exercise-statement\">\n",
      "    <p> Find the y-intercepts for each of the following equations. </p>\n",
      "    <ul>\n",
      "      <li>\\( 8 \\, x - 5 \\, y = 2 \\)</li>\n",
      "      <li>\\( -5 \\, x - 2 \\, y = 8 \\)</li>\n",
      "    </ul>\n",
      "  </div>\n",
      "  <div class=\"exercise-answer\">\n",
      "    <p>\n",
      "      <b>Answer:</b>\n",
      "    </p>\n",
      "    <ul>\n",
      "      <li>\\( -\\frac{2}{5} \\)</li>\n",
      "      <li>\\( -4 \\)</li>\n",
      "    </ul>\n",
      "  </div>\n",
      "</div>\n",
      "\n",
      "\n",
      "LaTeX source\n",
      "------------\n",
      "\n",
      "\\begin{exerciseStatement}\n",
      "\n",
      "\n",
      " Find the y-intercepts for each of the following equations. \n",
      "\n",
      "\n",
      "\\begin{itemize}\n",
      "\\item \\( 8 \\, x - 5 \\, y = 2 \\)\n",
      "\\item \\( -5 \\, x - 2 \\, y = 8 \\)\n",
      "\\end{itemize}\n",
      "    \n",
      "\\end{exerciseStatement}\n",
      "    \n",
      "\\begin{exerciseAnswer} \n",
      "\n",
      "\\begin{itemize}\n",
      "\\item \\( -\\frac{2}{5} \\)\n",
      "\\item \\( -4 \\)\n",
      "\\end{itemize}\n",
      "    \n",
      "\\end{exerciseAnswer}\n",
      "    \n",
      "\n",
      "QTI source\n",
      "------------\n",
      "<item ident=\"-\" title=\" |  | ver. \">\n",
      "  <itemmetadata>\n",
      "    <qtimetadata>\n",
      "      <qtimetadatafield>\n",
      "        <fieldlabel>question_type</fieldlabel>\n",
      "        <fieldentry>essay_question</fieldentry>\n",
      "      </qtimetadatafield>\n",
      "    </qtimetadata>\n",
      "  </itemmetadata>\n",
      "  <presentation>\n",
      "    <material>\n",
      "      <mattextxml>\n",
      "        <div class=\"exercise-statement\">\n",
      "          <p>\n",
      "            <strong>.</strong>\n",
      "          </p>\n",
      "          <p> Find the y-intercepts for each of the following equations. </p>\n",
      "          <ul>\n",
      "            <li>\n",
      "              <img style=\"border:1px #ddd solid;padding:5px;border-radius:5px;\" src=\"https://latex.codecogs.com/svg.latex?8 \\, x - 5 \\, y = 2\" alt=\"8 \\, x - 5 \\, y = 2\" title=\"8 \\, x - 5 \\, y = 2\" data-latex=\"8 \\, x - 5 \\, y = 2\"/>\n",
      "            </li>\n",
      "            <li>\n",
      "              <img style=\"border:1px #ddd solid;padding:5px;border-radius:5px;\" src=\"https://latex.codecogs.com/svg.latex?-5 \\, x - 2 \\, y = 8\" alt=\"-5 \\, x - 2 \\, y = 8\" title=\"-5 \\, x - 2 \\, y = 8\" data-latex=\"-5 \\, x - 2 \\, y = 8\"/>\n",
      "            </li>\n",
      "          </ul>\n",
      "        </div>\n",
      "      </mattextxml>\n",
      "      <mattext texttype=\"text/html\">&lt;div class=\"exercise-statement\"&gt;\n",
      "  &lt;p&gt;\n",
      "    &lt;strong&gt;.&lt;/strong&gt;\n",
      "  &lt;/p&gt;\n",
      "  &lt;p&gt; Find the y-intercepts for each of the following equations. &lt;/p&gt;\n",
      "  &lt;ul&gt;\n",
      "    &lt;li&gt;\n",
      "      &lt;img style=\"border:1px #ddd solid;padding:5px;border-radius:5px;\" src=\"https://latex.codecogs.com/svg.latex?8%20%5C,%20x%20-%205%20%5C,%20y%20=%202\" alt=\"8 \\, x - 5 \\, y = 2\" title=\"8 \\, x - 5 \\, y = 2\" data-latex=\"8 \\, x - 5 \\, y = 2\"&gt;\n",
      "    &lt;/li&gt;\n",
      "    &lt;li&gt;\n",
      "      &lt;img style=\"border:1px #ddd solid;padding:5px;border-radius:5px;\" src=\"https://latex.codecogs.com/svg.latex?-5%20%5C,%20x%20-%202%20%5C,%20y%20=%208\" alt=\"-5 \\, x - 2 \\, y = 8\" title=\"-5 \\, x - 2 \\, y = 8\" data-latex=\"-5 \\, x - 2 \\, y = 8\"&gt;\n",
      "    &lt;/li&gt;\n",
      "  &lt;/ul&gt;\n",
      "&lt;/div&gt;\n",
      "\n",
      "</mattext>\n",
      "    </material>\n",
      "    <response_str ident=\"response1\" rcardinality=\"Single\">\n",
      "      <render_fib>\n",
      "        <response_label ident=\"answer1\" rshuffle=\"No\"/>\n",
      "      </render_fib>\n",
      "    </response_str>\n",
      "  </presentation>\n",
      "  <itemfeedback ident=\"general_fb\">\n",
      "    <flow_mat>\n",
      "      <material>\n",
      "        <mattextxml>\n",
      "          <div class=\"exercise-answer\">\n",
      "            <h4>Partial Answer:</h4>\n",
      "            <ul>\n",
      "              <li>\n",
      "                <img style=\"border:1px #ddd solid;padding:5px;border-radius:5px;\" src=\"https://latex.codecogs.com/svg.latex?-\\frac{2}{5}\" alt=\"-\\frac{2}{5}\" title=\"-\\frac{2}{5}\" data-latex=\"-\\frac{2}{5}\"/>\n",
      "              </li>\n",
      "              <li>\n",
      "                <img style=\"border:1px #ddd solid;padding:5px;border-radius:5px;\" src=\"https://latex.codecogs.com/svg.latex?-4\" alt=\"-4\" title=\"-4\" data-latex=\"-4\"/>\n",
      "              </li>\n",
      "            </ul>\n",
      "          </div>\n",
      "        </mattextxml>\n",
      "        <mattext texttype=\"text/html\">&lt;div class=\"exercise-answer\"&gt;\n",
      "  &lt;h4&gt;Partial Answer:&lt;/h4&gt;\n",
      "  &lt;ul&gt;\n",
      "    &lt;li&gt;\n",
      "      &lt;img style=\"border:1px #ddd solid;padding:5px;border-radius:5px;\" src=\"https://latex.codecogs.com/svg.latex?-%5Cfrac%7B2%7D%7B5%7D\" alt=\"-\\frac{2}{5}\" title=\"-\\frac{2}{5}\" data-latex=\"-\\frac{2}{5}\"&gt;\n",
      "    &lt;/li&gt;\n",
      "    &lt;li&gt;\n",
      "      &lt;img style=\"border:1px #ddd solid;padding:5px;border-radius:5px;\" src=\"https://latex.codecogs.com/svg.latex?-4\" alt=\"-4\" title=\"-4\" data-latex=\"-4\"&gt;\n",
      "    &lt;/li&gt;\n",
      "  &lt;/ul&gt;\n",
      "&lt;/div&gt;\n",
      "\n",
      "</mattext>\n",
      "      </material>\n",
      "    </flow_mat>\n",
      "  </itemfeedback>\n",
      "</item>\n",
      "\n",
      "\n",
      "PreTeXt source\n",
      "------------\n",
      "<exercise checkit-seed=\"6183\" checkit-slug=\"example\" checkit-name=\"Slopes and Intercepts of Lines\">\n",
      "  <statement>\n",
      "    <p>\n",
      "      Find the\n",
      "      \n",
      "          y-intercepts\n",
      "        \n",
      "      for each of the following equations.\n",
      "    </p>\n",
      "    <ul>\n",
      "      <li>\n",
      "        <m> 8 \\, x - 5 \\, y = 2 </m>\n",
      "      </li>\n",
      "      <li>\n",
      "        <m> -5 \\, x - 2 \\, y = 8 </m>\n",
      "      </li>\n",
      "    </ul>\n",
      "  </statement>\n",
      "  <answer>\n",
      "    <ul>\n",
      "      <li>\n",
      "        <m> -\\frac{2}{5} </m>\n",
      "      </li>\n",
      "      <li>\n",
      "        <m> -4 </m>\n",
      "      </li>\n",
      "    </ul>\n",
      "  </answer>\n",
      "</exercise>\n",
      "\n"
     ]
    }
   ],
   "source": [
    "template = r\"\"\"\n",
    "<exercise>\n",
    "  <statement>\n",
    "    <p>\n",
    "      Find the\n",
    "      <xsl:choose>\n",
    "        <xsl:when test=\"version='slope'\">\n",
    "          slopes\n",
    "        </xsl:when>\n",
    "        <xsl:otherwise>\n",
    "          y-intercepts\n",
    "        </xsl:otherwise>\n",
    "      </xsl:choose>\n",
    "      for each of the following equations.\n",
    "    </p>\n",
    "    <ul>\n",
    "      <xsl:for-each select=\"equations/*\">\n",
    "        <li><m><xsl:value-of select=\".\"/></m></li>\n",
    "      </xsl:for-each>\n",
    "    </ul>\n",
    "  </statement>\n",
    "  <answer>\n",
    "    <ul>\n",
    "      <xsl:choose>\n",
    "        <xsl:when test=\"version='slope'\">\n",
    "          <xsl:for-each select=\"slopes/*\">\n",
    "            <li><m><xsl:value-of select=\".\"/></m></li>\n",
    "          </xsl:for-each>\n",
    "        </xsl:when>\n",
    "        <xsl:otherwise>\n",
    "          <xsl:for-each select=\"yints/*\">\n",
    "            <li><m><xsl:value-of select=\".\"/></m></li>\n",
    "          </xsl:for-each>\n",
    "        </xsl:otherwise>\n",
    "      </xsl:choose>\n",
    "    </ul>\n",
    "  </answer>\n",
    "</exercise>\n",
    "\"\"\"\n",
    "\n",
    "exercise = Exercise(\n",
    "    title=\"Slopes and Intercepts of Lines\",\n",
    "    slug=\"example\",\n",
    "    generator=generator,\n",
    "    template=template\n",
    "    seed=randrange(1000)\n",
    ")\n",
    "from IPython.core.display import display, HTML\n",
    "display(HTML(exercise.html()))\n",
    "exercise.preview()\n"
   ]
  },
  {
   "cell_type": "markdown",
   "metadata": {
    "collapsed": false,
    "editable": false
   },
   "source": [
    "## Start building your exercise bank!\n",
    "\n",
    "Join us in the #checkit-app channel in the [Mastery Grading Slack workspace](https://bit.ly/join-mastery-grading) to learn\n",
    "how to create exercise banks like those found at <https://checkit.clontz.org>.\n"
   ]
  }
 ],
 "metadata": {
  "kernelspec": {
   "display_name": "Python 3 (system-wide)",
   "language": "python",
   "metadata": {
    "cocalc": {
     "description": "Python 3 programming language",
     "priority": 100,
     "url": "https://www.python.org/"
    }
   },
   "name": "python3",
   "resource_dir": "/ext/jupyter/kernels/python3"
  },
  "language_info": {
   "codemirror_mode": {
    "name": "ipython",
    "version": 3
   },
   "file_extension": ".py",
   "mimetype": "text/x-python",
   "name": "python",
   "nbconvert_exporter": "python",
   "pygments_lexer": "ipython3",
   "version": "3.8.5"
  }
 },
 "nbformat": 4,
 "nbformat_minor": 4
}