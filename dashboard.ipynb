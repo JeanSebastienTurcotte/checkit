{
 "cells": [
  {
   "cell_type": "markdown",
   "metadata": {
    "collapsed": false,
    "editable": false
   },
   "source": [
    "# CheckIt Dashboard\n",
    "\n",
    "Run the code cells below to **preview exercises** as you author them,\n",
    "or **build exercise bank** files that can be used with various LMSs and the\n",
    "<https://checkit.clontz.org> viewer."
   ]
  },
  {
   "cell_type": "markdown",
   "metadata": {
    "collapsed": false
   },
   "source": [
    "## Preview exercise\n",
    "\n",
    "1. Edit `bank-slug` in `bank = Bank(\"bank-slug\")` to point to the directory containing the bank for the outcome you with to preview. (For example, `tbil-la`.)\n",
    "2. Edit `outcome-slug` in `outcome = bank.outcome_from_slug(\"outcome-slug\")` to point to the generator/template filenames for outcome you wish to preview. (For example, `E3`.)\n",
    "3. Hit [Ctrl]+[Enter] to preview one generated exercise. Hit it again to preview a new exercise."
   ]
  },
  {
   "cell_type": "code",
   "execution_count": 1,
   "metadata": {
    "collapsed": false
   },
   "outputs": [
    {
     "name": "stdout",
     "output_type": "stream",
     "text": [
      "Generating 1 private exercises for CC1... "
     ]
    },
    {
     "name": "stdout",
     "output_type": "stream",
     "text": [
      "Done!\n"
     ]
    },
    {
     "data": {
      "text/html": [
       "<div class=\"checkit exercise\" data-checkit-slug=\"CC1\" data-checkit-title=\"Constant-Coefficient Linear Homogeneous First-Order IVPs\" data-checkit-seed=\"3335\">\n",
       "  <div class=\"exercise-statement\">\n",
       "    <p> Explain how to find the general solution to the given ODE, and the particular solution that satisfies the given initial value. </p>\n",
       "    <p class=\"math math-display\">\\[-6 \\, {y} = 3 \\, {y'},\\hspace{1em}\n",
       "      y\\big(\\log\\left(2\\right)\\big)=-\\frac{3}{4}\\]</p>\n",
       "  </div>\n",
       "  <div class=\"exercise-answer\">\n",
       "    <p>\n",
       "      <b>Answer:</b>\n",
       "    </p>\n",
       "    <p class=\"math math-display\">\\[{y} = k e^{\\left(-2 \\, t\\right)}\\]</p>\n",
       "    <p class=\"math math-display\">\\[{y} = -3 \\, e^{\\left(-2 \\, t\\right)}\\]</p>\n",
       "  </div>\n",
       "</div>\n"
      ],
      "text/plain": [
       "<IPython.core.display.HTML object>"
      ]
     },
     "execution_count": 1,
     "metadata": {
     },
     "output_type": "execute_result"
    },
    {
     "name": "stdout",
     "output_type": "stream",
     "text": [
      "Data XML\n",
      "-----------\n",
      "<data seed=\"3335\">\n",
      "  <ode>-6 \\, {y} = 3 \\, {y'}</ode>\n",
      "  <ode_sol>{y} = k e^{\\left(-2 \\, t\\right)}</ode_sol>\n",
      "  <ivp_sol>{y} = -3 \\, e^{\\left(-2 \\, t\\right)}</ivp_sol>\n",
      "  <y0>-\\frac{3}{4}</y0>\n",
      "  <t0>\\log\\left(2\\right)</t0>\n",
      "</data>\n",
      "\n",
      "\n",
      "HTML source\n",
      "-----------\n",
      "<div class=\"checkit exercise\" data-checkit-slug=\"CC1\" data-checkit-title=\"Constant-Coefficient Linear Homogeneous First-Order IVPs\" data-checkit-seed=\"3335\">\n",
      "  <div class=\"exercise-statement\">\n",
      "    <p> Explain how to find the general solution to the given ODE, and the particular solution that satisfies the given initial value. </p>\n",
      "    <p class=\"math math-display\">\\[-6 \\, {y} = 3 \\, {y'},\\hspace{1em}\n",
      "      y\\big(\\log\\left(2\\right)\\big)=-\\frac{3}{4}\\]</p>\n",
      "  </div>\n",
      "  <div class=\"exercise-answer\">\n",
      "    <p>\n",
      "      <b>Answer:</b>\n",
      "    </p>\n",
      "    <p class=\"math math-display\">\\[{y} = k e^{\\left(-2 \\, t\\right)}\\]</p>\n",
      "    <p class=\"math math-display\">\\[{y} = -3 \\, e^{\\left(-2 \\, t\\right)}\\]</p>\n",
      "  </div>\n",
      "</div>\n",
      "\n",
      "\n",
      "LaTeX source\n",
      "------------\n",
      "\n",
      "\\begin{exercise}{CC1}{Constant-Coefficient Linear Homogeneous First-Order IVPs}{3335}\n",
      "\\begin{exerciseStatement}\n",
      "\n",
      " Explain how to find the general solution to the given ODE, and the particular solution that satisfies the given initial value. \n",
      "\n",
      "\\[-6 \\, {y} = 3 \\, {y'},\\hspace{1em}\n",
      "      y\\big(\\log\\left(2\\right)\\big)=-\\frac{3}{4}\\]\\end{exerciseStatement}\n",
      "\\begin{exerciseAnswer}\\[{y} = k e^{\\left(-2 \\, t\\right)}\\]\\[{y} = -3 \\, e^{\\left(-2 \\, t\\right)}\\]\\end{exerciseAnswer}\n",
      "\\end{exercise}\n",
      "\n",
      "\n",
      "QTI source\n",
      "------------\n",
      "<item ident=\"CC1-3335\" title=\"CC1 | Constant-Coefficient Linear Homogeneous First-Order IVPs | ver. 3335\">\n",
      "  <itemmetadata>\n",
      "    <qtimetadata>\n",
      "      <qtimetadatafield>\n",
      "        <fieldlabel>question_type</fieldlabel>\n",
      "        <fieldentry>file_upload_question</fieldentry>\n",
      "      </qtimetadatafield>\n",
      "    </qtimetadata>\n",
      "  </itemmetadata>\n",
      "  <presentation>\n",
      "    <material>\n",
      "      <mattextxml>\n",
      "        <div class=\"exercise-statement\">\n",
      "          <p>\n",
      "            <strong>CC1.</strong>\n",
      "          </p>\n",
      "          <p> Explain how to find the general solution to the given ODE, and the particular solution that satisfies the given initial value. </p>\n",
      "          <p style=\"text-align:center;\">\n",
      "            <img style=\"border:1px #ddd solid;padding:5px;border-radius:5px;\" src=\"https://usaonline.southalabama.edu/equation_images/-6 \\, {y} = 3 \\, {y'},\\hspace{1em} y\\big(\\log\\left(2\\right)\\big)=-\\frac{3}{4}\" alt=\"-6 \\, {y} = 3 \\, {y'},\\hspace{1em} y\\big(\\log\\left(2\\right)\\big)=-\\frac{3}{4}\" title=\"-6 \\, {y} = 3 \\, {y'},\\hspace{1em} y\\big(\\log\\left(2\\right)\\big)=-\\frac{3}{4}\" data-latex=\"-6 \\, {y} = 3 \\, {y'},\\hspace{1em} y\\big(\\log\\left(2\\right)\\big)=-\\frac{3}{4}\"/>\n",
      "          </p>\n",
      "        </div>\n",
      "      </mattextxml>\n",
      "      <mattext texttype=\"text/html\">&lt;div class=\"exercise-statement\"&gt;\n",
      "  &lt;p&gt;\n",
      "    &lt;strong&gt;CC1.&lt;/strong&gt;\n",
      "  &lt;/p&gt;\n",
      "  &lt;p&gt; Explain how to find the general solution to the given ODE, and the particular solution that satisfies the given initial value. &lt;/p&gt;\n",
      "  &lt;p style=\"text-align:center;\"&gt;\n",
      "    &lt;img style=\"border:1px #ddd solid;padding:5px;border-radius:5px;\" src=\"https://usaonline.southalabama.edu/equation_images/-6%20%5C,%20%7By%7D%20=%203%20%5C,%20%7By'%7D,%5Chspace%7B1em%7D%20y%5Cbig(%5Clog%5Cleft(2%5Cright)%5Cbig)=-%5Cfrac%7B3%7D%7B4%7D\" alt=\"-6 \\, {y} = 3 \\, {y'},\\hspace{1em} y\\big(\\log\\left(2\\right)\\big)=-\\frac{3}{4}\" title=\"-6 \\, {y} = 3 \\, {y'},\\hspace{1em} y\\big(\\log\\left(2\\right)\\big)=-\\frac{3}{4}\" data-latex=\"-6 \\, {y} = 3 \\, {y'},\\hspace{1em} y\\big(\\log\\left(2\\right)\\big)=-\\frac{3}{4}\"&gt;\n",
      "  &lt;/p&gt;\n",
      "&lt;/div&gt;\n",
      "\n",
      "</mattext>\n",
      "    </material>\n",
      "    <response_str ident=\"response1\" rcardinality=\"Single\">\n",
      "      <render_fib>\n",
      "        <response_label ident=\"answer1\" rshuffle=\"No\"/>\n",
      "      </render_fib>\n",
      "    </response_str>\n",
      "  </presentation>\n",
      "  <itemfeedback ident=\"general_fb\">\n",
      "    <flow_mat>\n",
      "      <material>\n",
      "        <mattextxml>\n",
      "          <div class=\"exercise-answer\">\n",
      "            <h4>Partial Answer:</h4>\n",
      "            <p style=\"text-align:center;\">\n",
      "              <img style=\"border:1px #ddd solid;padding:5px;border-radius:5px;\" src=\"https://usaonline.southalabama.edu/equation_images/{y} = k e^{\\left(-2 \\, t\\right)}\" alt=\"{y} = k e^{\\left(-2 \\, t\\right)}\" title=\"{y} = k e^{\\left(-2 \\, t\\right)}\" data-latex=\"{y} = k e^{\\left(-2 \\, t\\right)}\"/>\n",
      "            </p>\n",
      "            <p style=\"text-align:center;\">\n",
      "              <img style=\"border:1px #ddd solid;padding:5px;border-radius:5px;\" src=\"https://usaonline.southalabama.edu/equation_images/{y} = -3 \\, e^{\\left(-2 \\, t\\right)}\" alt=\"{y} = -3 \\, e^{\\left(-2 \\, t\\right)}\" title=\"{y} = -3 \\, e^{\\left(-2 \\, t\\right)}\" data-latex=\"{y} = -3 \\, e^{\\left(-2 \\, t\\right)}\"/>\n",
      "            </p>\n",
      "          </div>\n",
      "        </mattextxml>\n",
      "        <mattext texttype=\"text/html\">&lt;div class=\"exercise-answer\"&gt;\n",
      "  &lt;h4&gt;Partial Answer:&lt;/h4&gt;\n",
      "  &lt;p style=\"text-align:center;\"&gt;\n",
      "    &lt;img style=\"border:1px #ddd solid;padding:5px;border-radius:5px;\" src=\"https://usaonline.southalabama.edu/equation_images/%7By%7D%20=%20k%20e%5E%7B%5Cleft(-2%20%5C,%20t%5Cright)%7D\" alt=\"{y} = k e^{\\left(-2 \\, t\\right)}\" title=\"{y} = k e^{\\left(-2 \\, t\\right)}\" data-latex=\"{y} = k e^{\\left(-2 \\, t\\right)}\"&gt;\n",
      "  &lt;/p&gt;\n",
      "  &lt;p style=\"text-align:center;\"&gt;\n",
      "    &lt;img style=\"border:1px #ddd solid;padding:5px;border-radius:5px;\" src=\"https://usaonline.southalabama.edu/equation_images/%7By%7D%20=%20-3%20%5C,%20e%5E%7B%5Cleft(-2%20%5C,%20t%5Cright)%7D\" alt=\"{y} = -3 \\, e^{\\left(-2 \\, t\\right)}\" title=\"{y} = -3 \\, e^{\\left(-2 \\, t\\right)}\" data-latex=\"{y} = -3 \\, e^{\\left(-2 \\, t\\right)}\"&gt;\n",
      "  &lt;/p&gt;\n",
      "&lt;/div&gt;\n",
      "\n",
      "</mattext>\n",
      "      </material>\n",
      "    </flow_mat>\n",
      "  </itemfeedback>\n",
      "</item>\n",
      "\n",
      "\n",
      "PreTeXt source\n",
      "------------\n",
      "<exercise checkit-seed=\"3335\" checkit-slug=\"CC1\" checkit-title=\"Constant-Coefficient Linear Homogeneous First-Order IVPs\">\n",
      "  <statement>\n",
      "    <p>\n",
      "Explain how to find the general solution to the given ODE,\n",
      "and the particular solution that satisfies the given initial value.\n",
      "    </p>\n",
      "    <me>-6 \\, {y} = 3 \\, {y'},\\hspace{1em}\n",
      "      y\\big(\\log\\left(2\\right)\\big)=-\\frac{3}{4}</me>\n",
      "  </statement>\n",
      "  <answer>\n",
      "    <me>{y} = k e^{\\left(-2 \\, t\\right)}</me>\n",
      "    <me>{y} = -3 \\, e^{\\left(-2 \\, t\\right)}</me>\n",
      "  </answer>\n",
      "</exercise>\n",
      "\n"
     ]
    }
   ],
   "source": [
    "from checkit import Bank\n",
    "\n",
    "bank = Bank(\"clontz-diff-eq\")\n",
    "outcome = bank.outcome_from_slug(\"CC1\")\n",
    "outcome.print_preview()"
   ]
  },
  {
   "cell_type": "markdown",
   "metadata": {
    "collapsed": false,
    "editable": false
   },
   "source": [
    "## Build exercise bank\n",
    "\n",
    "1. Edit `bank = Bank(\"bank-slug\")` to point to the directory containing the bank you wish to build.\n",
    "2. Set `bank.build(public=True)` to build a bank for public distribution (e.g. on <https://checkit.clontz.org>)\n",
    "   or `public=False` to build a bank for personal use (e.g. on an LMS for your course).\n",
    "3. Hit [Ctrl]+[Enter] to build the bank."
   ]
  },
  {
   "cell_type": "code",
   "execution_count": 2,
   "metadata": {
    "collapsed": false
   },
   "outputs": [
    {
     "name": "stdout",
     "output_type": "stream",
     "text": [
      "Generating public exercises for 19 outcomes...\n",
      "Generating 1000 public exercises for AA1... "
     ]
    },
    {
     "name": "stdout",
     "output_type": "stream",
     "text": [
      "Done!\n"
     ]
    },
    {
     "name": "stdout",
     "output_type": "stream",
     "text": [
      "Generating 1000 public exercises for AA2... "
     ]
    },
    {
     "name": "stdout",
     "output_type": "stream",
     "text": [
      "Done!\n"
     ]
    },
    {
     "name": "stdout",
     "output_type": "stream",
     "text": [
      "Generating 1000 public exercises for AA3... "
     ]
    },
    {
     "name": "stdout",
     "output_type": "stream",
     "text": [
      "Done!\n"
     ]
    },
    {
     "name": "stdout",
     "output_type": "stream",
     "text": [
      "Generating 1000 public exercises for AA4... "
     ]
    },
    {
     "name": "stdout",
     "output_type": "stream",
     "text": [
      "Done!\n"
     ]
    },
    {
     "name": "stdout",
     "output_type": "stream",
     "text": [
      "Generating 1000 public exercises for CC1... "
     ]
    },
    {
     "name": "stdout",
     "output_type": "stream",
     "text": [
      "Done!\n"
     ]
    },
    {
     "name": "stdout",
     "output_type": "stream",
     "text": [
      "Generating 1000 public exercises for CC2... "
     ]
    },
    {
     "name": "stdout",
     "output_type": "stream",
     "text": [
      "Done!\n"
     ]
    },
    {
     "name": "stdout",
     "output_type": "stream",
     "text": [
      "Generating 1000 public exercises for CC3... "
     ]
    },
    {
     "name": "stdout",
     "output_type": "stream",
     "text": [
      "Done!\n"
     ]
    },
    {
     "name": "stdout",
     "output_type": "stream",
     "text": [
      "Generating 1000 public exercises for CC4... "
     ]
    },
    {
     "name": "stdout",
     "output_type": "stream",
     "text": [
      "Done!\n"
     ]
    },
    {
     "name": "stdout",
     "output_type": "stream",
     "text": [
      "Generating 1000 public exercises for CC5... "
     ]
    },
    {
     "name": "stdout",
     "output_type": "stream",
     "text": [
      "Done!\n"
     ]
    },
    {
     "name": "stdout",
     "output_type": "stream",
     "text": [
      "Generating 1000 public exercises for CC6... "
     ]
    },
    {
     "name": "stdout",
     "output_type": "stream",
     "text": [
      "Done!\n"
     ]
    },
    {
     "name": "stdout",
     "output_type": "stream",
     "text": [
      "Generating 1000 public exercises for DL1... "
     ]
    },
    {
     "name": "stdout",
     "output_type": "stream",
     "text": [
      "Done!\n"
     ]
    },
    {
     "name": "stdout",
     "output_type": "stream",
     "text": [
      "Generating 1000 public exercises for DL2... "
     ]
    },
    {
     "name": "stdout",
     "output_type": "stream",
     "text": [
      "Done!\n"
     ]
    },
    {
     "name": "stdout",
     "output_type": "stream",
     "text": [
      "Generating 1000 public exercises for DL3... "
     ]
    },
    {
     "name": "stdout",
     "output_type": "stream",
     "text": [
      "Done!\n"
     ]
    },
    {
     "name": "stdout",
     "output_type": "stream",
     "text": [
      "Generating 1000 public exercises for DL4... "
     ]
    },
    {
     "name": "stdout",
     "output_type": "stream",
     "text": [
      "Done!\n"
     ]
    },
    {
     "name": "stdout",
     "output_type": "stream",
     "text": [
      "Generating 1000 public exercises for FO1... "
     ]
    },
    {
     "name": "stdout",
     "output_type": "stream",
     "text": [
      "Done!\n"
     ]
    },
    {
     "name": "stdout",
     "output_type": "stream",
     "text": [
      "Generating 1000 public exercises for FO2... "
     ]
    },
    {
     "name": "stdout",
     "output_type": "stream",
     "text": [
      "Done!\n"
     ]
    },
    {
     "name": "stdout",
     "output_type": "stream",
     "text": [
      "Generating 1000 public exercises for FO3... "
     ]
    },
    {
     "name": "stdout",
     "output_type": "stream",
     "text": [
      "Done!\n"
     ]
    },
    {
     "name": "stdout",
     "output_type": "stream",
     "text": [
      "Generating 1000 public exercises for FO4... "
     ]
    },
    {
     "name": "stdout",
     "output_type": "stream",
     "text": [
      "Done!\n"
     ]
    },
    {
     "name": "stdout",
     "output_type": "stream",
     "text": [
      "Generating 1000 public exercises for AA5... "
     ]
    }
   ],
   "source": [
    "from checkit import Bank\n",
    "\n",
    "bank = Bank(\"clontz-diff-eq\")\n",
    "bank.build(public=True)"
   ]
  }
 ],
 "metadata": {
  "kernelspec": {
   "display_name": "Python 3 (system-wide)",
   "language": "python",
   "metadata": {
    "cocalc": {
     "description": "Python 3 programming language",
     "priority": 100,
     "url": "https://www.python.org/"
    }
   },
   "name": "python3",
   "resource_dir": "/ext/jupyter/kernels/python3"
  },
  "language_info": {
   "codemirror_mode": {
    "name": "ipython",
    "version": 3
   },
   "file_extension": ".py",
   "mimetype": "text/x-python",
   "name": "python",
   "nbconvert_exporter": "python",
   "pygments_lexer": "ipython3",
   "version": "3.8.5"
  }
 },
 "nbformat": 4,
 "nbformat_minor": 4
}