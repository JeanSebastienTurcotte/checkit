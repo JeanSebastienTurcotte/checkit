{
 "cells": [
  {
   "cell_type": "markdown",
   "metadata": {
    "collapsed": false,
    "editable": false
   },
   "source": [
    "# CheckIt Dashboard\n",
    "\n",
    "**▶ Run** the code cell below to start the Dashboard."
   ]
  },
  {
   "cell_type": "code",
   "execution_count": 0,
   "metadata": {
    "collapsed": false,
    "editable": false
   },
   "outputs": [
   ],
   "source": [
    "from IPython.display import display, Markdown\n",
    "import ipywidgets as widgets\n",
    "from os import listdir, path\n",
    "from checkit import Bank\n",
    "bank_output = widgets.Output()\n",
    "bank_slugs = [f for f in listdir('banks') if not path.isfile(path.join('banks', f))]\n",
    "bank_slugs.sort()\n",
    "bank_dropdown_options = ['']+bank_slugs\n",
    "bank_dropdown = widgets.Dropdown(options=bank_dropdown_options)\n",
    "build_button = widgets.Button(description=\"Build bank files\")\n",
    "build_amount_widget = widgets.BoundedIntText(\n",
    "    value=300,\n",
    "    min=1,\n",
    "    max=1000,\n",
    "    step=1,\n",
    "    description='Count:',\n",
    ")\n",
    "build_public_dropdown = widgets.Dropdown(options=[(\"Non-public\",False),(\"Public\",True)])\n",
    "def bank_dropdown_callback(c=None):\n",
    "    bank_output.clear_output()\n",
    "    if bank_dropdown.value != bank_dropdown_options[0]:\n",
    "        bank = Bank(bank_dropdown.value)\n",
    "        bank_suboutput = widgets.Output()\n",
    "        def build_bank(c=None):\n",
    "            bank_suboutput.clear_output()\n",
    "            with bank_suboutput:\n",
    "                bank.build(public=build_public_dropdown.value,amount=build_amount_widget.value)\n",
    "        build_button.on_click(build_bank)\n",
    "        outcomes_dropdown = widgets.Dropdown(options=[(f\"{o.slug}: {o.title}\",o) for o in bank.outcomes])\n",
    "        def preview_outcome(c=None):\n",
    "            bank_suboutput.clear_output()\n",
    "            with bank_suboutput:\n",
    "                outcomes_dropdown.value.print_preview()\n",
    "        outcome_button = widgets.Button(description=\"Preview exercise\")\n",
    "        outcome_button.on_click(preview_outcome)\n",
    "        with bank_output:\n",
    "            display(Markdown('### '+bank.title))\n",
    "            display(widgets.HBox([build_button,build_public_dropdown,build_amount_widget]))\n",
    "            display(widgets.HBox([outcome_button,outcomes_dropdown]))\n",
    "            display(bank_suboutput)\n",
    "bank_dropdown.observe(bank_dropdown_callback,names='value')\n",
    "display(Markdown(\"### Select a bank directory\"))\n",
    "display(bank_dropdown)\n",
    "display(bank_output)\n"
   ]
  }
 ],
 "metadata": {
  "kernelspec": {
   "display_name": "Python 3 (system-wide)",
   "language": "python",
   "metadata": {
    "cocalc": {
     "description": "Python 3 programming language",
     "priority": 100,
     "url": "https://www.python.org/"
    }
   },
   "name": "python3",
   "resource_dir": "/ext/jupyter/kernels/python3"
  },
  "language_info": {
   "codemirror_mode": {
    "name": "ipython",
    "version": 3
   },
   "file_extension": ".py",
   "mimetype": "text/x-python",
   "name": "python",
   "nbconvert_exporter": "python",
   "pygments_lexer": "ipython3",
   "version": "3.8.5"
  }
 },
 "nbformat": 4,
 "nbformat_minor": 4
}