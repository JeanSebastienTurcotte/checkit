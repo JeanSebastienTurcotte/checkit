{
 "cells": [
  {
   "cell_type": "markdown",
   "metadata": {
    "collapsed": false,
    "editable": false
   },
   "source": [
    "# CheckIt Dashboard\n",
    "\n",
    "Run the code cells below to **preview exercises** as you author them,\n",
    "or **build exercise bank** files that can be used with various LMSs and the\n",
    "<https://checkit.clontz.org> viewer."
   ]
  },
  {
   "cell_type": "markdown",
   "metadata": {
    "collapsed": false,
    "editable": false
   },
   "source": [
    "## Preview exercise\n",
    "\n",
    "1. Edit `bank-slug` in `bank = Bank(\"bank-slug\")` to point to the directory containing the bank for the outcome you with to preview. (For example, `tbil-la`.)\n",
    "2. Edit `outcome-slug` in `outcome = bank.outcome_from_slug(\"outcome-slug\")` to point to the generator/template filenames for outcome you wish to preview. (For example, `E3`.)\n",
    "3. Hit [Ctrl]+[Enter] to preview one generated exercise. Hit it again to preview a new exercise."
   ]
  },
  {
   "cell_type": "code",
   "execution_count": 0,
   "metadata": {
    "collapsed": false
   },
   "outputs": [
   ],
   "source": [
    "from checkit import Bank\n",
    "\n",
    "bank = Bank(\"clontz-diff-eq\")\n",
    "outcome = bank.outcome_from_slug(\"CC1\")\n",
    "outcome.print_preview()\n"
   ]
  },
  {
   "cell_type": "markdown",
   "metadata": {
    "collapsed": false,
    "editable": false
   },
   "source": [
    "## Build exercise bank\n",
    "\n",
    "1. Edit `bank = Bank(\"bank-slug\")` to point to the directory containing the bank you wish to build.\n",
    "2. Set `bank.build(public=True)` to build a bank for public distribution (e.g. on <https://checkit.clontz.org>)\n",
    "   or `public=False` to build a bank for personal use (e.g. on an LMS for your course).\n",
    "3. Hit [Ctrl]+[Enter] to build the bank."
   ]
  },
  {
   "cell_type": "code",
   "execution_count": 0,
   "metadata": {
    "collapsed": false
   },
   "outputs": [
   ],
   "source": [
    "from checkit import Bank\n",
    "\n",
    "bank = Bank(\"clontz-diff-eq\")\n",
    "bank.build(public=True)"
   ]
  }
 ],
 "metadata": {
  "kernelspec": {
   "display_name": "Python 3 (system-wide)",
   "language": "python",
   "metadata": {
    "cocalc": {
     "description": "Python 3 programming language",
     "priority": 100,
     "url": "https://www.python.org/"
    }
   },
   "name": "python3",
   "resource_dir": "/ext/jupyter/kernels/python3"
  },
  "language_info": {
   "codemirror_mode": {
    "name": "ipython",
    "version": 3
   },
   "file_extension": ".py",
   "mimetype": "text/x-python",
   "name": "python",
   "nbconvert_exporter": "python",
   "pygments_lexer": "ipython3",
   "version": "3.8.5"
  }
 },
 "nbformat": 4,
 "nbformat_minor": 4
}