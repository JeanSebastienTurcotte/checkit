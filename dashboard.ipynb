{
 "cells": [
  {
   "cell_type": "code",
   "execution_count": 2,
   "metadata": {
    "collapsed": false
   },
   "outputs": [
    {
     "name": "stdout",
     "output_type": "stream",
     "text": [
      "Generating exercises for 30 outcomes...\n",
      "Generating 30 exercises for AA1...\n"
     ]
    },
    {
     "name": "stdout",
     "output_type": "stream",
     "text": [
      "Done!\n",
      "Generating 30 exercises for AA2...\n"
     ]
    },
    {
     "name": "stdout",
     "output_type": "stream",
     "text": [
      "Done!\n",
      "Generating 30 exercises for AA3...\n"
     ]
    },
    {
     "name": "stdout",
     "output_type": "stream",
     "text": [
      "Done!\n",
      "Generating 30 exercises for AA4...\n"
     ]
    },
    {
     "name": "stdout",
     "output_type": "stream",
     "text": [
      "Done!\n",
      "Generating 30 exercises for CC1...\n"
     ]
    },
    {
     "name": "stdout",
     "output_type": "stream",
     "text": [
      "Done!\n",
      "Generating 30 exercises for CC2...\n"
     ]
    },
    {
     "name": "stdout",
     "output_type": "stream",
     "text": [
      "Done!\n",
      "Generating 30 exercises for CC3...\n"
     ]
    },
    {
     "name": "stdout",
     "output_type": "stream",
     "text": [
      "Done!\n",
      "Generating 30 exercises for CC4...\n"
     ]
    },
    {
     "name": "stdout",
     "output_type": "stream",
     "text": [
      "Done!\n",
      "Generating 30 exercises for CC5...\n"
     ]
    },
    {
     "name": "stdout",
     "output_type": "stream",
     "text": [
      "Done!\n",
      "Generating 30 exercises for CC6...\n"
     ]
    },
    {
     "name": "stdout",
     "output_type": "stream",
     "text": [
      "Done!\n",
      "Generating 30 exercises for DL1...\n"
     ]
    },
    {
     "name": "stdout",
     "output_type": "stream",
     "text": [
      "Done!\n",
      "Generating 30 exercises for DL2...\n"
     ]
    },
    {
     "name": "stdout",
     "output_type": "stream",
     "text": [
      "Done!\n",
      "Generating 30 exercises for DL3...\n"
     ]
    },
    {
     "name": "stdout",
     "output_type": "stream",
     "text": [
      "Done!\n",
      "Generating 30 exercises for DL4...\n"
     ]
    },
    {
     "name": "stdout",
     "output_type": "stream",
     "text": [
      "Done!\n",
      "Generating 30 exercises for FO1...\n"
     ]
    },
    {
     "name": "stdout",
     "output_type": "stream",
     "text": [
      "Done!\n",
      "Generating 30 exercises for FO2...\n"
     ]
    },
    {
     "name": "stdout",
     "output_type": "stream",
     "text": [
      "Done!\n",
      "Generating 30 exercises for FO3...\n"
     ]
    },
    {
     "name": "stdout",
     "output_type": "stream",
     "text": [
      "Done!\n",
      "Generating 30 exercises for FO4...\n"
     ]
    },
    {
     "name": "stdout",
     "output_type": "stream",
     "text": [
      "Done!\n",
      "Generating 30 exercises for AA5...\n"
     ]
    },
    {
     "name": "stdout",
     "output_type": "stream",
     "text": [
      "Done!\n",
      "Exercises successfully generated for all outcomes!\n"
     ]
    }
   ],
   "source": [
    "from checkit import Bank\n",
    "\n",
    "bank = Bank(\"clontz-diff-eq\")\n",
    "bank.build_json(amount=30)"
   ]
  },
  {
   "cell_type": "markdown",
   "metadata": {
    "collapsed": false,
    "editable": false
   },
   "source": [
    "# CheckIt Tutorial\n",
    "\n",
    "Use this notebook to quickly write your first randomized exercise.\n",
    "\n",
    "You can refer to a\n",
    "[read-only copy of the original tutorial](https://cocalc.com/share/9b7553d2ecfe356945710e8d076db237f28dec50/checkit-public/tutorial.ipynb?viewer=share)\n",
    "as needed while editing (in case you delete the example)."
   ]
  },
  {
   "cell_type": "markdown",
   "metadata": {
    "collapsed": false,
    "editable": false
   },
   "source": [
    "## First, write a generator\n",
    "\n",
    "Edit the below Code cell to create a\n",
    "function to generate the random data used in your exercise.\n",
    "\n",
    "Use [Ctrl]+[Enter] to see sample output used for your exercise."
   ]
  },
  {
   "cell_type": "code",
   "execution_count": 1,
   "metadata": {
    "collapsed": false
   },
   "outputs": [
    {
     "name": "stdout",
     "output_type": "stream",
     "text": [
      "{'equations': [[y, '\\\\times', 1, '+', x, '\\\\times', -8, '=', -8], [y, '\\\\times', 8, '+', x, '\\\\times', 1, '=', -8]], 'slopes': [8, -1/8], 'yints': [-8, -1], 'version': 'slope'}\n"
     ]
    }
   ],
   "source": [
    "load(\"main.sage\")\n",
    "\n",
    "def generator():\n",
    "    # define any variables you'll use\n",
    "    x,y = var(\"x y\")\n",
    "\n",
    "    # use functions like `choice` and `randrange` to make random choices\n",
    "    A = choice([-1,1])*randrange(1,10)\n",
    "    B = choice([-1,1])*randrange(1,10)\n",
    "    C = choice([-1,1])*randrange(1,10)\n",
    "\n",
    "    # Ask for slope or y-intercept?\n",
    "    version = choice(['slope','yint'])\n",
    "\n",
    "    #Randomly use standard form or silly form equations\n",
    "    if choice([True,False]):\n",
    "        equations = [\n",
    "            (A*x+B*y==C),\n",
    "            (B*x-C*y==A),\n",
    "        ] # standard form\n",
    "    else:\n",
    "        equations = [\n",
    "            [y, \"\\\\times\", B, \"+\", x, \"\\\\times\", A, \"=\", C],\n",
    "            [y, \"\\\\times\", -C, \"+\", x, \"\\\\times\", B, \"=\", A]\n",
    "        ] # silly form -- must construct LaTeX by hand\n",
    "\n",
    "    # build the objects you need\n",
    "    return {\n",
    "        \"equations\": equations,\n",
    "        \"slopes\": [\n",
    "            -A/B,\n",
    "            B/C,\n",
    "        ],\n",
    "        \"yints\": [\n",
    "            C/B,\n",
    "            -A/C,\n",
    "        ],\n",
    "        \"version\": version,\n",
    "    }\n",
    "\n",
    "# preview example data in this notebook\n",
    "print(generator())\n"
   ]
  },
  {
   "cell_type": "markdown",
   "metadata": {
    "collapsed": false,
    "editable": false
   },
   "source": [
    "## Now, write a template\n",
    "\n",
    "Edit the following [PreTeXt exercise](https://pretextbook.org) template to write your exercise's statement and answer.\n",
    "\n",
    "Randomized data from the generator can be accessed using `<xsl:value-of select=\"name\"/>`.\n",
    "\n",
    "Use [Ctrl]+[Enter] to display your randomly generated exercise in a variety of formats, including HTML and LaTeX."
   ]
  },
  {
   "cell_type": "code",
   "execution_count": 2,
   "metadata": {
    "collapsed": false,
    "scrolled": true
   },
   "outputs": [
    {
     "data": {
      "text/html": [
       "<div class=\"exercise\">\n",
       "  <div class=\"exercise-statement\">\n",
       "    <p> Find the y-intercepts for each of the following equations. </p>\n",
       "    <ul>\n",
       "      <li>\\( 8 \\, x - 5 \\, y = 2 \\)</li>\n",
       "      <li>\\( -5 \\, x - 2 \\, y = 8 \\)</li>\n",
       "    </ul>\n",
       "  </div>\n",
       "  <div class=\"exercise-answer\">\n",
       "    <p>\n",
       "      <b>Answer:</b>\n",
       "    </p>\n",
       "    <ul>\n",
       "      <li>\\( -\\frac{2}{5} \\)</li>\n",
       "      <li>\\( -4 \\)</li>\n",
       "    </ul>\n",
       "  </div>\n",
       "</div>\n"
      ],
      "text/plain": [
       "<IPython.core.display.HTML object>"
      ]
     },
     "execution_count": 2,
     "metadata": {
     },
     "output_type": "execute_result"
    },
    {
     "name": "stdout",
     "output_type": "stream",
     "text": [
      "Data XML\n",
      "-----------\n",
      "<data>\n",
      "  <equations>\n",
      "    <item> 8 \\, x - 5 \\, y = 2 </item>\n",
      "    <item> -5 \\, x - 2 \\, y = 8 </item>\n",
      "  </equations>\n",
      "  <slopes>\n",
      "    <item> \\frac{8}{5} </item>\n",
      "    <item> -\\frac{5}{2} </item>\n",
      "  </slopes>\n",
      "  <yints>\n",
      "    <item> -\\frac{2}{5} </item>\n",
      "    <item> -4 </item>\n",
      "  </yints>\n",
      "  <version>yint</version>\n",
      "</data>\n",
      "\n",
      "\n",
      "HTML source\n",
      "-----------\n",
      "<div class=\"exercise\">\n",
      "  <div class=\"exercise-statement\">\n",
      "    <p> Find the y-intercepts for each of the following equations. </p>\n",
      "    <ul>\n",
      "      <li>\\( 8 \\, x - 5 \\, y = 2 \\)</li>\n",
      "      <li>\\( -5 \\, x - 2 \\, y = 8 \\)</li>\n",
      "    </ul>\n",
      "  </div>\n",
      "  <div class=\"exercise-answer\">\n",
      "    <p>\n",
      "      <b>Answer:</b>\n",
      "    </p>\n",
      "    <ul>\n",
      "      <li>\\( -\\frac{2}{5} \\)</li>\n",
      "      <li>\\( -4 \\)</li>\n",
      "    </ul>\n",
      "  </div>\n",
      "</div>\n",
      "\n",
      "\n",
      "LaTeX source\n",
      "------------\n",
      "\n",
      "\\begin{exerciseStatement}\n",
      "\n",
      "\n",
      " Find the y-intercepts for each of the following equations. \n",
      "\n",
      "\n",
      "\\begin{itemize}\n",
      "\\item \\( 8 \\, x - 5 \\, y = 2 \\)\n",
      "\\item \\( -5 \\, x - 2 \\, y = 8 \\)\n",
      "\\end{itemize}\n",
      "    \n",
      "\\end{exerciseStatement}\n",
      "    \n",
      "\\begin{exerciseAnswer} \n",
      "\n",
      "\\begin{itemize}\n",
      "\\item \\( -\\frac{2}{5} \\)\n",
      "\\item \\( -4 \\)\n",
      "\\end{itemize}\n",
      "    \n",
      "\\end{exerciseAnswer}\n",
      "    \n",
      "\n",
      "QTI source\n",
      "------------\n",
      "<item ident=\"-\" title=\" |  | ver. \">\n",
      "  <itemmetadata>\n",
      "    <qtimetadata>\n",
      "      <qtimetadatafield>\n",
      "        <fieldlabel>question_type</fieldlabel>\n",
      "        <fieldentry>essay_question</fieldentry>\n",
      "      </qtimetadatafield>\n",
      "    </qtimetadata>\n",
      "  </itemmetadata>\n",
      "  <presentation>\n",
      "    <material>\n",
      "      <mattextxml>\n",
      "        <div class=\"exercise-statement\">\n",
      "          <p>\n",
      "            <strong>.</strong>\n",
      "          </p>\n",
      "          <p> Find the y-intercepts for each of the following equations. </p>\n",
      "          <ul>\n",
      "            <li>\n",
      "              <img style=\"border:1px #ddd solid;padding:5px;border-radius:5px;\" src=\"https://latex.codecogs.com/svg.latex?8 \\, x - 5 \\, y = 2\" alt=\"8 \\, x - 5 \\, y = 2\" title=\"8 \\, x - 5 \\, y = 2\" data-latex=\"8 \\, x - 5 \\, y = 2\"/>\n",
      "            </li>\n",
      "            <li>\n",
      "              <img style=\"border:1px #ddd solid;padding:5px;border-radius:5px;\" src=\"https://latex.codecogs.com/svg.latex?-5 \\, x - 2 \\, y = 8\" alt=\"-5 \\, x - 2 \\, y = 8\" title=\"-5 \\, x - 2 \\, y = 8\" data-latex=\"-5 \\, x - 2 \\, y = 8\"/>\n",
      "            </li>\n",
      "          </ul>\n",
      "        </div>\n",
      "      </mattextxml>\n",
      "      <mattext texttype=\"text/html\">&lt;div class=\"exercise-statement\"&gt;\n",
      "  &lt;p&gt;\n",
      "    &lt;strong&gt;.&lt;/strong&gt;\n",
      "  &lt;/p&gt;\n",
      "  &lt;p&gt; Find the y-intercepts for each of the following equations. &lt;/p&gt;\n",
      "  &lt;ul&gt;\n",
      "    &lt;li&gt;\n",
      "      &lt;img style=\"border:1px #ddd solid;padding:5px;border-radius:5px;\" src=\"https://latex.codecogs.com/svg.latex?8%20%5C,%20x%20-%205%20%5C,%20y%20=%202\" alt=\"8 \\, x - 5 \\, y = 2\" title=\"8 \\, x - 5 \\, y = 2\" data-latex=\"8 \\, x - 5 \\, y = 2\"&gt;\n",
      "    &lt;/li&gt;\n",
      "    &lt;li&gt;\n",
      "      &lt;img style=\"border:1px #ddd solid;padding:5px;border-radius:5px;\" src=\"https://latex.codecogs.com/svg.latex?-5%20%5C,%20x%20-%202%20%5C,%20y%20=%208\" alt=\"-5 \\, x - 2 \\, y = 8\" title=\"-5 \\, x - 2 \\, y = 8\" data-latex=\"-5 \\, x - 2 \\, y = 8\"&gt;\n",
      "    &lt;/li&gt;\n",
      "  &lt;/ul&gt;\n",
      "&lt;/div&gt;\n",
      "\n",
      "</mattext>\n",
      "    </material>\n",
      "    <response_str ident=\"response1\" rcardinality=\"Single\">\n",
      "      <render_fib>\n",
      "        <response_label ident=\"answer1\" rshuffle=\"No\"/>\n",
      "      </render_fib>\n",
      "    </response_str>\n",
      "  </presentation>\n",
      "  <itemfeedback ident=\"general_fb\">\n",
      "    <flow_mat>\n",
      "      <material>\n",
      "        <mattextxml>\n",
      "          <div class=\"exercise-answer\">\n",
      "            <h4>Partial Answer:</h4>\n",
      "            <ul>\n",
      "              <li>\n",
      "                <img style=\"border:1px #ddd solid;padding:5px;border-radius:5px;\" src=\"https://latex.codecogs.com/svg.latex?-\\frac{2}{5}\" alt=\"-\\frac{2}{5}\" title=\"-\\frac{2}{5}\" data-latex=\"-\\frac{2}{5}\"/>\n",
      "              </li>\n",
      "              <li>\n",
      "                <img style=\"border:1px #ddd solid;padding:5px;border-radius:5px;\" src=\"https://latex.codecogs.com/svg.latex?-4\" alt=\"-4\" title=\"-4\" data-latex=\"-4\"/>\n",
      "              </li>\n",
      "            </ul>\n",
      "          </div>\n",
      "        </mattextxml>\n",
      "        <mattext texttype=\"text/html\">&lt;div class=\"exercise-answer\"&gt;\n",
      "  &lt;h4&gt;Partial Answer:&lt;/h4&gt;\n",
      "  &lt;ul&gt;\n",
      "    &lt;li&gt;\n",
      "      &lt;img style=\"border:1px #ddd solid;padding:5px;border-radius:5px;\" src=\"https://latex.codecogs.com/svg.latex?-%5Cfrac%7B2%7D%7B5%7D\" alt=\"-\\frac{2}{5}\" title=\"-\\frac{2}{5}\" data-latex=\"-\\frac{2}{5}\"&gt;\n",
      "    &lt;/li&gt;\n",
      "    &lt;li&gt;\n",
      "      &lt;img style=\"border:1px #ddd solid;padding:5px;border-radius:5px;\" src=\"https://latex.codecogs.com/svg.latex?-4\" alt=\"-4\" title=\"-4\" data-latex=\"-4\"&gt;\n",
      "    &lt;/li&gt;\n",
      "  &lt;/ul&gt;\n",
      "&lt;/div&gt;\n",
      "\n",
      "</mattext>\n",
      "      </material>\n",
      "    </flow_mat>\n",
      "  </itemfeedback>\n",
      "</item>\n",
      "\n",
      "\n",
      "PreTeXt source\n",
      "------------\n",
      "<exercise checkit-seed=\"6183\" checkit-slug=\"example\" checkit-name=\"Slopes and Intercepts of Lines\">\n",
      "  <statement>\n",
      "    <p>\n",
      "      Find the\n",
      "      \n",
      "          y-intercepts\n",
      "        \n",
      "      for each of the following equations.\n",
      "    </p>\n",
      "    <ul>\n",
      "      <li>\n",
      "        <m> 8 \\, x - 5 \\, y = 2 </m>\n",
      "      </li>\n",
      "      <li>\n",
      "        <m> -5 \\, x - 2 \\, y = 8 </m>\n",
      "      </li>\n",
      "    </ul>\n",
      "  </statement>\n",
      "  <answer>\n",
      "    <ul>\n",
      "      <li>\n",
      "        <m> -\\frac{2}{5} </m>\n",
      "      </li>\n",
      "      <li>\n",
      "        <m> -4 </m>\n",
      "      </li>\n",
      "    </ul>\n",
      "  </answer>\n",
      "</exercise>\n",
      "\n"
     ]
    }
   ],
   "source": [
    "template = r\"\"\"\n",
    "<exercise>\n",
    "  <statement>\n",
    "    <p>\n",
    "      Find the\n",
    "      <xsl:choose>\n",
    "        <xsl:when test=\"version='slope'\">\n",
    "          slopes\n",
    "        </xsl:when>\n",
    "        <xsl:otherwise>\n",
    "          y-intercepts\n",
    "        </xsl:otherwise>\n",
    "      </xsl:choose>\n",
    "      for each of the following equations.\n",
    "    </p>\n",
    "    <ul>\n",
    "      <xsl:for-each select=\"equations/*\">\n",
    "        <li><m><xsl:value-of select=\".\"/></m></li>\n",
    "      </xsl:for-each>\n",
    "    </ul>\n",
    "  </statement>\n",
    "  <answer>\n",
    "    <ul>\n",
    "      <xsl:choose>\n",
    "        <xsl:when test=\"version='slope'\">\n",
    "          <xsl:for-each select=\"slopes/*\">\n",
    "            <li><m><xsl:value-of select=\".\"/></m></li>\n",
    "          </xsl:for-each>\n",
    "        </xsl:when>\n",
    "        <xsl:otherwise>\n",
    "          <xsl:for-each select=\"yints/*\">\n",
    "            <li><m><xsl:value-of select=\".\"/></m></li>\n",
    "          </xsl:for-each>\n",
    "        </xsl:otherwise>\n",
    "      </xsl:choose>\n",
    "    </ul>\n",
    "  </answer>\n",
    "</exercise>\n",
    "\"\"\"\n",
    "\n",
    "exercise = Exercise(\n",
    "    title=\"Slopes and Intercepts of Lines\",\n",
    "    slug=\"example\",\n",
    "    generator=generator,\n",
    "    template=template\n",
    "    seed=randrange(1000)\n",
    ")\n",
    "from IPython.core.display import display, HTML\n",
    "display(HTML(exercise.html()))\n",
    "exercise.preview()\n"
   ]
  },
  {
   "cell_type": "markdown",
   "metadata": {
    "collapsed": false,
    "editable": false
   },
   "source": [
    "## Start building your exercise bank!\n",
    "\n",
    "Join us in the #checkit-app channel in the [Mastery Grading Slack workspace](https://bit.ly/join-mastery-grading) to learn\n",
    "how to create exercise banks like those found at <https://checkit.clontz.org>.\n"
   ]
  }
 ],
 "metadata": {
  "kernelspec": {
   "display_name": "Python 3 (system-wide)",
   "language": "python",
   "metadata": {
    "cocalc": {
     "description": "Python 3 programming language",
     "priority": 100,
     "url": "https://www.python.org/"
    }
   },
   "name": "python3",
   "resource_dir": "/ext/jupyter/kernels/python3"
  },
  "language_info": {
   "codemirror_mode": {
    "name": "ipython",
    "version": 3
   },
   "file_extension": ".py",
   "mimetype": "text/x-python",
   "name": "python",
   "nbconvert_exporter": "python",
   "pygments_lexer": "ipython3",
   "version": "3.8.5"
  }
 },
 "nbformat": 4,
 "nbformat_minor": 4
}