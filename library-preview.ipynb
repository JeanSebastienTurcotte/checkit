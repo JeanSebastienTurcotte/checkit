{
 "cells": [
  {
   "cell_type": "code",
   "execution_count": 76,
   "metadata": {
    "collapsed": false,
    "scrolled": true
   },
   "outputs": [
    {
     "data": {
      "text/html": [
       "<div class=\"exercise\">\n",
       "<div class=\"exercise-statement\">\n",
       "<p> Explain how to find the particular solution to the given IVP, and label the general solution to the ODE. </p>\n",
       "<p>\\[ 3 \\, {y'} = -6 \\, {y} ,\\hspace{1em}\n",
       "      y\\big( 2 \\, \\log\\left(2\\right) \\big)= \\frac{1}{4} \\]</p>\n",
       "<p>Then explain how to verify that your particular solution is correct.</p>\n",
       "</div>\n",
       "<div class=\"exercise-answer\">\n",
       "<p><b>Answer:</b></p>\n",
       "<p>\\[ {y} = k e^{\\left(-2 \\, t\\right)} \\]</p>\n",
       "<p>\\[ {y} = 4 \\, e^{\\left(-2 \\, t\\right)} \\]</p>\n",
       "</div>\n",
       "</div>\n"
      ],
      "text/plain": [
       "<IPython.core.display.HTML object>"
      ]
     },
     "execution_count": 76,
     "metadata": {
     },
     "output_type": "execute_result"
    },
    {
     "name": "stdout",
     "output_type": "stream",
     "text": [
      "HTML source\n",
      "-----------\n",
      "<div class=\"exercise\">\n",
      "<div class=\"exercise-statement\">\n",
      "<p> Explain how to find the particular solution to the given IVP, and label the general solution to the ODE. </p>\n",
      "<p>\\[ 3 \\, {y'} = -6 \\, {y} ,\\hspace{1em}\n",
      "      y\\big( 2 \\, \\log\\left(2\\right) \\big)= \\frac{1}{4} \\]</p>\n",
      "<p>Then explain how to verify that your particular solution is correct.</p>\n",
      "</div>\n",
      "<div class=\"exercise-answer\">\n",
      "<p><b>Answer:</b></p>\n",
      "<p>\\[ {y} = k e^{\\left(-2 \\, t\\right)} \\]</p>\n",
      "<p>\\[ {y} = 4 \\, e^{\\left(-2 \\, t\\right)} \\]</p>\n",
      "</div>\n",
      "</div>\n",
      "\n",
      "\n",
      "LaTeX source\n",
      "------------\n",
      "\n",
      "\\begin{exerciseStatement}\n",
      "\n",
      "\n",
      " Explain how to find the particular solution to the given IVP, and label the general solution to the ODE. \n",
      "\n",
      "\\[ 3 \\, {y'} = -6 \\, {y} ,\\hspace{1em}\n",
      "      y\\big( 2 \\, \\log\\left(2\\right) \\big)= \\frac{1}{4} \\]\n",
      "\n",
      "Then explain how to verify that your particular solution is correct.\n",
      "\n",
      "\n",
      "\\end{exerciseStatement}\n",
      "    \n",
      "\\begin{exerciseAnswer} \n",
      "\\[ {y} = k e^{\\left(-2 \\, t\\right)} \\]\\[ {y} = 4 \\, e^{\\left(-2 \\, t\\right)} \\]\n",
      "\\end{exerciseAnswer}\n",
      "    \n",
      "\n",
      "QTI source\n",
      "------------\n",
      "<item ident=\"example-0896\" title=\"example | Slopes and Intercepts of Lines | ver. 0896\"><itemmetadata><qtimetadata><qtimetadatafield><fieldlabel>question_type</fieldlabel><fieldentry>essay_question</fieldentry></qtimetadatafield></qtimetadata></itemmetadata><presentation><material><mattextxml><div class=\"exercise-statement\"><p> Explain how to find the particular solution to the given IVP, and label the general solution to the ODE. </p><p><img src=\"https://latex.codecogs.com/svg.latex?3 \\, {y'} = -6 \\, {y} ,\\hspace{1em} y\\big( 2 \\, \\log\\left(2\\right) \\big)= \\frac{1}{4}\" alt=\"3 \\, {y'} = -6 \\, {y} ,\\hspace{1em} y\\big( 2 \\, \\log\\left(2\\right) \\big)= \\frac{1}{4}\"/></p><p>Then explain how to verify that your particular solution is correct.</p></div></mattextxml><mattext texttype=\"text/html\">&lt;div class=\"exercise-statement\"&gt;&lt;p&gt; Explain how to find the particular solution to the given IVP, and label the general solution to the ODE. &lt;/p&gt;&lt;p&gt;&lt;img src=\"https://latex.codecogs.com/svg.latex?3%20%5C,%20%7By'%7D%20=%20-6%20%5C,%20%7By%7D%20,%5Chspace%7B1em%7D%20y%5Cbig(%202%20%5C,%20%5Clog%5Cleft(2%5Cright)%20%5Cbig)=%20%5Cfrac%7B1%7D%7B4%7D\" alt=\"3 \\, {y'} = -6 \\, {y} ,\\hspace{1em} y\\big( 2 \\, \\log\\left(2\\right) \\big)= \\frac{1}{4}\"&gt;&lt;/p&gt;&lt;p&gt;Then explain how to verify that your particular solution is correct.&lt;/p&gt;&lt;/div&gt;</mattext></material><response_str ident=\"response1\" rcardinality=\"Single\"><render_fib><response_label ident=\"answer1\" rshuffle=\"No\"/></render_fib></response_str></presentation><itemfeedback ident=\"general_fb\"><flow_mat><material><mattextxml><div class=\"exercise-answer\"><p><img src=\"https://latex.codecogs.com/svg.latex?{y} = k e^{\\left(-2 \\, t\\right)}\" alt=\"{y} = k e^{\\left(-2 \\, t\\right)}\"/></p><p><img src=\"https://latex.codecogs.com/svg.latex?{y} = 4 \\, e^{\\left(-2 \\, t\\right)}\" alt=\"{y} = 4 \\, e^{\\left(-2 \\, t\\right)}\"/></p></div></mattextxml><mattext texttype=\"text/html\">&lt;div class=\"exercise-answer\"&gt;&lt;p&gt;&lt;img src=\"https://latex.codecogs.com/svg.latex?%7By%7D%20=%20k%20e%5E%7B%5Cleft(-2%20%5C,%20t%5Cright)%7D\" alt=\"{y} = k e^{\\left(-2 \\, t\\right)}\"&gt;&lt;/p&gt;&lt;p&gt;&lt;img src=\"https://latex.codecogs.com/svg.latex?%7By%7D%20=%204%20%5C,%20e%5E%7B%5Cleft(-2%20%5C,%20t%5Cright)%7D\" alt=\"{y} = 4 \\, e^{\\left(-2 \\, t\\right)}\"&gt;&lt;/p&gt;&lt;/div&gt;</mattext></material></flow_mat></itemfeedback></item>\n",
      "\n",
      "PreTeXt source\n",
      "------------\n",
      "<exercise masterit-seed=\"0896\" masterit-slug=\"example\" masterit-name=\"Slopes and Intercepts of Lines\"><statement><p>\n",
      "Explain how to find the particular solution to the given IVP,\n",
      "and label the general solution to the ODE.\n",
      "    </p><me> 3 \\, {y'} = -6 \\, {y} ,\\hspace{1em}\n",
      "      y\\big( 2 \\, \\log\\left(2\\right) \\big)= \\frac{1}{4} </me><p>Then explain how to verify that your particular solution is correct.</p></statement><answer><me> {y} = k e^{\\left(-2 \\, t\\right)} </me><me> {y} = 4 \\, e^{\\left(-2 \\, t\\right)} </me></answer></exercise>\n"
     ]
    }
   ],
   "source": [
    "from IPython.core.display import display, HTML\n",
    "load(\"masterit.sage\")\n",
    "objective = \"clontz-diff-eq/C1\"\n",
    "load(f\"library/{objective}.sage\")\n",
    "generator()\n",
    "with open(f\"library/{objective}.ptx\",'r') as template_file:\n",
    "    template = template_file.read()\n",
    "\n",
    "exercise = Exercise(\n",
    "    name=\"Slopes and Intercepts of Lines\",\n",
    "    slug=\"example\",\n",
    "    generator=generator,\n",
    "    template=template\n",
    ")\n",
    "display(HTML(exercise.html()))\n",
    "exercise.preview()\n"
   ]
  }
 ],
 "metadata": {
  "kernelspec": {
   "display_name": "SageMath 9.1",
   "language": "sagemath",
   "metadata": {
    "cocalc": {
     "description": "Open-source mathematical software system",
     "priority": 10,
     "url": "https://www.sagemath.org/"
    }
   },
   "name": "sage-9.1"
  },
  "language_info": {
   "codemirror_mode": {
    "name": "ipython",
    "version": 3
   },
   "file_extension": ".py",
   "mimetype": "text/x-python",
   "name": "python",
   "nbconvert_exporter": "python",
   "pygments_lexer": "ipython3",
   "version": "3.7.3"
  }
 },
 "nbformat": 4,
 "nbformat_minor": 4
}