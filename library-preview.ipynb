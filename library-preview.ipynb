{
 "cells": [
  {
   "cell_type": "code",
   "execution_count": 147,
   "metadata": {
    "collapsed": false,
    "scrolled": true
   },
   "outputs": [
    {
     "data": {
      "text/html": [
       "<div class=\"exercise\">\n",
       "<div class=\"exercise-statement\">\n",
       "<p> Use a tool like <a href=\"https://sagecell.sagemath.org/\">https://sagecell.sagemath.org/</a> and the SageMath code <code>t,y = var('t y'); plot_slope_field(y/15-t/3, (t,-5,5), (y,-5,5))</code> to produce the slope field for the ODE \\( {y'} = \\frac{1}{15} \\, {y} - \\frac{1}{3} \\, t \\). </p>\n",
       "<p> Let \\(y_p\\) be the solution to the following IVP. Explain how to use this slope field to approximate the value of \\(y_p\\) at \\(t= -4 \\). </p>\n",
       "<p>\\[ {y'} = \\frac{1}{15} \\, {y} - \\frac{1}{3} \\, t \\hspace{2em}\n",
       "          y( -2 )= 0 \\]</p>\n",
       "</div>\n",
       "<div class=\"exercise-answer\">\n",
       "<p><b>Answer:</b></p>\n",
       "<p>\\[y_p( -4 )\\approx 0.00 \\]</p>\n",
       "</div>\n",
       "</div>\n"
      ],
      "text/plain": [
       "<IPython.core.display.HTML object>"
      ]
     },
     "execution_count": 147,
     "metadata": {
     },
     "output_type": "execute_result"
    },
    {
     "name": "stdout",
     "output_type": "stream",
     "text": [
      "Data dictionary\n",
      "-----------\n",
      "{'field_sage': 'y/15-t/3', 'ode': mi_var_552056_1 == 1/15*mi_var_552056_0 - 1/3*t, 'y0': 0, 't0': -2, 'othert': -4, 'othery': 0.00}\n",
      "\n",
      "Data XML\n",
      "-----------\n",
      "<data><field_sage>y/15-t/3</field_sage><ode> {y'} = \\frac{1}{15} \\, {y} - \\frac{1}{3} \\, t </ode><y0> 0 </y0><t0> -2 </t0><othert> -4 </othert><othery> 0.00 </othery></data>\n",
      "\n",
      "HTML source\n",
      "-----------\n"
     ]
    },
    {
     "name": "stdout",
     "output_type": "stream",
     "text": [
      "<div class=\"exercise\">\n",
      "<div class=\"exercise-statement\">\n",
      "<p> Use a tool like <a href=\"https://sagecell.sagemath.org/\">https://sagecell.sagemath.org/</a> and the SageMath code <code>t,y = var('t y'); plot_slope_field(y/15-t/3, (t,-5,5), (y,-5,5))</code> to produce the slope field for the ODE \\( {y'} = \\frac{1}{15} \\, {y} - \\frac{1}{3} \\, t \\). </p>\n",
      "<p> Let \\(y_p\\) be the solution to the following IVP. Explain how to use this slope field to approximate the value of \\(y_p\\) at \\(t= -4 \\). </p>\n",
      "<p>\\[ {y'} = \\frac{1}{15} \\, {y} - \\frac{1}{3} \\, t \\hspace{2em}\n",
      "          y( -2 )= 0 \\]</p>\n",
      "</div>\n",
      "<div class=\"exercise-answer\">\n",
      "<p><b>Answer:</b></p>\n",
      "<p>\\[y_p( -4 )\\approx 0.00 \\]</p>\n",
      "</div>\n",
      "</div>\n",
      "\n",
      "\n",
      "LaTeX source\n",
      "------------\n",
      "\n",
      "\\begin{exerciseStatement}\n",
      "\n",
      "\n",
      " Use a tool like  and the SageMath code t,y = var('t y'); plot_slope_field(y/15-t/3, (t,-5,5), (y,-5,5)) to produce the slope field for the ODE \\( {y'} = \\frac{1}{15} \\, {y} - \\frac{1}{3} \\, t \\). \n",
      "\n",
      "\n",
      "\n",
      " Let \\(y_p\\) be the solution to the following IVP. Explain how to use this slope field to approximate the value of \\(y_p\\) at \\(t= -4 \\). \n",
      "\n",
      "\\[ {y'} = \\frac{1}{15} \\, {y} - \\frac{1}{3} \\, t \\hspace{2em}\n",
      "          y( -2 )= 0 \\]\n",
      "\\end{exerciseStatement}\n",
      "    \n",
      "\\begin{exerciseAnswer} \n",
      "\\[y_p( -4 )\\approx 0.00 \\]\n",
      "\\end{exerciseAnswer}\n",
      "    \n",
      "\n",
      "QTI source\n",
      "------------\n",
      "<item ident=\"test-7688\" title=\"test | Test | ver. 7688\"><itemmetadata><qtimetadata><qtimetadatafield><fieldlabel>question_type</fieldlabel><fieldentry>essay_question</fieldentry></qtimetadatafield></qtimetadata></itemmetadata><presentation><material><mattextxml><div class=\"exercise-statement\"><p> Use a tool like <a href=\"https://sagecell.sagemath.org/\">https://sagecell.sagemath.org/</a> and the SageMath code <code>t,y = var('t y'); plot_slope_field(y/15-t/3, (t,-5,5), (y,-5,5))</code> to produce the slope field for the ODE <img src=\"https://latex.codecogs.com/svg.latex?{y'} = \\frac{1}{15} \\, {y} - \\frac{1}{3} \\, t\" alt=\"{y'} = \\frac{1}{15} \\, {y} - \\frac{1}{3} \\, t\"/>. </p><p> Let <img src=\"https://latex.codecogs.com/svg.latex?y_p\" alt=\"y_p\"/> be the solution to the following IVP. Explain how to use this slope field to approximate the value of <img src=\"https://latex.codecogs.com/svg.latex?y_p\" alt=\"y_p\"/> at <img src=\"https://latex.codecogs.com/svg.latex?t= -4\" alt=\"t= -4\"/>. </p><p><img src=\"https://latex.codecogs.com/svg.latex?{y'} = \\frac{1}{15} \\, {y} - \\frac{1}{3} \\, t \\hspace{2em} y( -2 )= 0\" alt=\"{y'} = \\frac{1}{15} \\, {y} - \\frac{1}{3} \\, t \\hspace{2em} y( -2 )= 0\"/></p></div></mattextxml><mattext texttype=\"text/html\">&lt;div class=\"exercise-statement\"&gt;&lt;p&gt; Use a tool like &lt;a href=\"https://sagecell.sagemath.org/\"&gt;https://sagecell.sagemath.org/&lt;/a&gt; and the SageMath code &lt;code&gt;t,y = var('t y'); plot_slope_field(y/15-t/3, (t,-5,5), (y,-5,5))&lt;/code&gt; to produce the slope field for the ODE &lt;img src=\"https://latex.codecogs.com/svg.latex?%7By'%7D%20=%20%5Cfrac%7B1%7D%7B15%7D%20%5C,%20%7By%7D%20-%20%5Cfrac%7B1%7D%7B3%7D%20%5C,%20t\" alt=\"{y'} = \\frac{1}{15} \\, {y} - \\frac{1}{3} \\, t\"&gt;. &lt;/p&gt;&lt;p&gt; Let &lt;img src=\"https://latex.codecogs.com/svg.latex?y_p\" alt=\"y_p\"&gt; be the solution to the following IVP. Explain how to use this slope field to approximate the value of &lt;img src=\"https://latex.codecogs.com/svg.latex?y_p\" alt=\"y_p\"&gt; at &lt;img src=\"https://latex.codecogs.com/svg.latex?t=%20-4\" alt=\"t= -4\"&gt;. &lt;/p&gt;&lt;p&gt;&lt;img src=\"https://latex.codecogs.com/svg.latex?%7By'%7D%20=%20%5Cfrac%7B1%7D%7B15%7D%20%5C,%20%7By%7D%20-%20%5Cfrac%7B1%7D%7B3%7D%20%5C,%20t%20%5Chspace%7B2em%7D%20y(%20-2%20)=%200\" alt=\"{y'} = \\frac{1}{15} \\, {y} - \\frac{1}{3} \\, t \\hspace{2em} y( -2 )= 0\"&gt;&lt;/p&gt;&lt;/div&gt;</mattext></material><response_str ident=\"response1\" rcardinality=\"Single\"><render_fib><response_label ident=\"answer1\" rshuffle=\"No\"/></render_fib></response_str></presentation><itemfeedback ident=\"general_fb\"><flow_mat><material><mattextxml><div class=\"exercise-answer\"><p><img src=\"https://latex.codecogs.com/svg.latex?y_p( -4 )\\approx 0.00\" alt=\"y_p( -4 )\\approx 0.00\"/></p></div></mattextxml><mattext texttype=\"text/html\">&lt;div class=\"exercise-answer\"&gt;&lt;p&gt;&lt;img src=\"https://latex.codecogs.com/svg.latex?y_p(%20-4%20)%5Capprox%200.00\" alt=\"y_p( -4 )\\approx 0.00\"&gt;&lt;/p&gt;&lt;/div&gt;</mattext></material></flow_mat></itemfeedback></item>\n",
      "\n",
      "PreTeXt source\n",
      "------------\n"
     ]
    },
    {
     "name": "stdout",
     "output_type": "stream",
     "text": [
      "<exercise masterit-seed=\"7688\" masterit-slug=\"test\" masterit-name=\"Test\"><statement><p>\n",
      "Use a tool like <url href=\"https://sagecell.sagemath.org/\"/> and the SageMath code\n",
      "<c>t,y = var('t y'); plot_slope_field(y/15-t/3, (t,-5,5), (y,-5,5))</c>\n",
      "to produce the slope field for the ODE <m> {y'} = \\frac{1}{15} \\, {y} - \\frac{1}{3} \\, t </m>.\n",
      "      </p><p>\n",
      "Let <m>y_p</m> be the solution to the following IVP.\n",
      "Explain how to use this slope field to approximate the\n",
      "value of <m>y_p</m> at <m>t= -4 </m>.\n",
      "      </p><me> {y'} = \\frac{1}{15} \\, {y} - \\frac{1}{3} \\, t \\hspace{2em}\n",
      "          y( -2 )= 0 </me></statement><answer><me>y_p( -4 )\\approx 0.00 </me></answer></exercise>\n"
     ]
    }
   ],
   "source": [
    "# relative path to *.sage/*.ptx files to preview\n",
    "objective = \"clontz-diff-eq/F1\"\n",
    "\n",
    "\n",
    "from IPython.core.display import display, HTML\n",
    "load(\"masterit.sage\")\n",
    "load(f\"library/{objective}.sage\")\n",
    "with open(f\"library/{objective}.ptx\",'r') as template_file:\n",
    "    template = template_file.read()\n",
    "\n",
    "exercise = Exercise(\n",
    "    name=\"Test\",\n",
    "    slug=\"test\",\n",
    "    generator=generator,\n",
    "    template=template\n",
    ")\n",
    "display(HTML(exercise.html()))\n",
    "exercise.preview()\n"
   ]
  },
  {
   "cell_type": "code",
   "execution_count": 149,
   "metadata": {
    "collapsed": false
   },
   "outputs": [
   ],
   "source": [
    "load(\"masterit.sage\")\n",
    "main(\"library/clontz-diff-eq\")"
   ]
  }
 ],
 "metadata": {
  "kernelspec": {
   "display_name": "SageMath 9.1",
   "language": "sagemath",
   "metadata": {
    "cocalc": {
     "description": "Open-source mathematical software system",
     "priority": 10,
     "url": "https://www.sagemath.org/"
    }
   },
   "name": "sage-9.1"
  },
  "language_info": {
   "codemirror_mode": {
    "name": "ipython",
    "version": 3
   },
   "file_extension": ".py",
   "mimetype": "text/x-python",
   "name": "python",
   "nbconvert_exporter": "python",
   "pygments_lexer": "ipython3",
   "version": "3.7.3"
  }
 },
 "nbformat": 4,
 "nbformat_minor": 4
}