{
 "cells": [
  {
   "cell_type": "code",
   "execution_count": 24,
   "metadata": {
    "collapsed": false,
    "scrolled": true
   },
   "outputs": [
    {
     "data": {
      "text/html": [
       "<div class=\"exercise\">\n",
       "<div class=\"exercise-statement\"><ol type=\"a\">\n",
       "<li>Show that <p>\\[\\operatorname{RREF} \\left[\\begin{array}{ccccc}\n",
       "1 &amp; 4 &amp; 0 &amp; 2 &amp; 2 \\\\\n",
       "0 &amp; 0 &amp; 1 &amp; -2 &amp; 1 \\\\\n",
       "-1 &amp; -4 &amp; 2 &amp; -6 &amp; 0\n",
       "\\end{array}\\right] = \\left[\\begin{array}{ccccc}\n",
       "1 &amp; 4 &amp; 0 &amp; 2 &amp; 2 \\\\\n",
       "0 &amp; 0 &amp; 1 &amp; -2 &amp; 1 \\\\\n",
       "0 &amp; 0 &amp; 0 &amp; 0 &amp; 0\n",
       "\\end{array}\\right] .\\]</p>\n",
       "</li>\n",
       "<li>Explain why the matrix \\(B= \\left[\\begin{array}{ccccc}\n",
       "0 &amp; 1 &amp; 2 &amp; 2 &amp; -2 \\\\\n",
       "1 &amp; 0 &amp; -3 &amp; 4 &amp; -1 \\\\\n",
       "0 &amp; 0 &amp; 0 &amp; 0 &amp; 0\n",
       "\\end{array}\\right] \\) is or is not in reduced row echelon form.</li>\n",
       "</ol></div>\n",
       "<div class=\"exercise-answer\">\n",
       "<p><b>Answer:</b></p>\n",
       "<ol type=\"a\">\n",
       "<li>\\(\\operatorname{RREF} \\left[\\begin{array}{ccccc}\n",
       "1 &amp; 4 &amp; 0 &amp; 2 &amp; 2 \\\\\n",
       "0 &amp; 0 &amp; 1 &amp; -2 &amp; 1 \\\\\n",
       "-1 &amp; -4 &amp; 2 &amp; -6 &amp; 0\n",
       "\\end{array}\\right] = \\left[\\begin{array}{ccccc}\n",
       "1 &amp; 4 &amp; 0 &amp; 2 &amp; 2 \\\\\n",
       "0 &amp; 0 &amp; 1 &amp; -2 &amp; 1 \\\\\n",
       "0 &amp; 0 &amp; 0 &amp; 0 &amp; 0\n",
       "\\end{array}\\right] .\\)</li>\n",
       "<li>\\(B\\) is not in reduced row echelon form because the pivots are not descending to the right. </li>\n",
       "</ol>\n",
       "</div>\n",
       "</div>\n"
      ],
      "text/plain": [
       "<IPython.core.display.HTML object>"
      ]
     },
     "execution_count": 24,
     "metadata": {
     },
     "output_type": "execute_result"
    },
    {
     "name": "stdout",
     "output_type": "stream",
     "text": [
      "Data dictionary\n",
      "-----------\n",
      "{'A': [ 1  4  0  2  2]\n",
      "[ 0  0  1 -2  1]\n",
      "[-1 -4  2 -6  0], 'rref': [ 1  4  0  2  2]\n",
      "[ 0  0  1 -2  1]\n",
      "[ 0  0  0  0  0], 'B': [ 0  1  2  2 -2]\n",
      "[ 1  0 -3  4 -1]\n",
      "[ 0  0  0  0  0], 'rowop': 'permutation', 'Brref': False}\n",
      "\n",
      "Data XML\n",
      "-----------\n",
      "<data><A> \\left[\\begin{array}{ccccc}\n",
      "1 &amp; 4 &amp; 0 &amp; 2 &amp; 2 \\\\\n",
      "0 &amp; 0 &amp; 1 &amp; -2 &amp; 1 \\\\\n",
      "-1 &amp; -4 &amp; 2 &amp; -6 &amp; 0\n",
      "\\end{array}\\right] </A><rref> \\left[\\begin{array}{ccccc}\n",
      "1 &amp; 4 &amp; 0 &amp; 2 &amp; 2 \\\\\n",
      "0 &amp; 0 &amp; 1 &amp; -2 &amp; 1 \\\\\n",
      "0 &amp; 0 &amp; 0 &amp; 0 &amp; 0\n",
      "\\end{array}\\right] </rref><B> \\left[\\begin{array}{ccccc}\n",
      "0 &amp; 1 &amp; 2 &amp; 2 &amp; -2 \\\\\n",
      "1 &amp; 0 &amp; -3 &amp; 4 &amp; -1 \\\\\n",
      "0 &amp; 0 &amp; 0 &amp; 0 &amp; 0\n",
      "\\end{array}\\right] </B><rowop>permutation</rowop></data>\n",
      "\n",
      "HTML source\n",
      "-----------\n",
      "<div class=\"exercise\">\n",
      "<div class=\"exercise-statement\"><ol type=\"a\">\n",
      "<li>Show that <p>\\[\\operatorname{RREF} \\left[\\begin{array}{ccccc}\n",
      "1 &amp; 4 &amp; 0 &amp; 2 &amp; 2 \\\\\n",
      "0 &amp; 0 &amp; 1 &amp; -2 &amp; 1 \\\\\n",
      "-1 &amp; -4 &amp; 2 &amp; -6 &amp; 0\n",
      "\\end{array}\\right] = \\left[\\begin{array}{ccccc}\n",
      "1 &amp; 4 &amp; 0 &amp; 2 &amp; 2 \\\\\n",
      "0 &amp; 0 &amp; 1 &amp; -2 &amp; 1 \\\\\n",
      "0 &amp; 0 &amp; 0 &amp; 0 &amp; 0\n",
      "\\end{array}\\right] .\\]</p>\n",
      "</li>\n",
      "<li>Explain why the matrix \\(B= \\left[\\begin{array}{ccccc}\n",
      "0 &amp; 1 &amp; 2 &amp; 2 &amp; -2 \\\\\n",
      "1 &amp; 0 &amp; -3 &amp; 4 &amp; -1 \\\\\n",
      "0 &amp; 0 &amp; 0 &amp; 0 &amp; 0\n",
      "\\end{array}\\right] \\) is or is not in reduced row echelon form.</li>\n",
      "</ol></div>\n",
      "<div class=\"exercise-answer\">\n",
      "<p><b>Answer:</b></p>\n",
      "<ol type=\"a\">\n",
      "<li>\\(\\operatorname{RREF} \\left[\\begin{array}{ccccc}\n",
      "1 &amp; 4 &amp; 0 &amp; 2 &amp; 2 \\\\\n",
      "0 &amp; 0 &amp; 1 &amp; -2 &amp; 1 \\\\\n",
      "-1 &amp; -4 &amp; 2 &amp; -6 &amp; 0\n",
      "\\end{array}\\right] = \\left[\\begin{array}{ccccc}\n",
      "1 &amp; 4 &amp; 0 &amp; 2 &amp; 2 \\\\\n",
      "0 &amp; 0 &amp; 1 &amp; -2 &amp; 1 \\\\\n",
      "0 &amp; 0 &amp; 0 &amp; 0 &amp; 0\n",
      "\\end{array}\\right] .\\)</li>\n",
      "<li>\\(B\\) is not in reduced row echelon form because the pivots are not descending to the right. </li>\n",
      "</ol>\n",
      "</div>\n",
      "</div>\n",
      "\n",
      "\n",
      "LaTeX source\n",
      "------------\n",
      "\n",
      "\\begin{exerciseStatement}\n",
      "\n",
      "\\begin{enumerate}[(a)]\n",
      "\\item Show that \\[\\operatorname{RREF} \\left[\\begin{array}{ccccc}\n",
      "1 & 4 & 0 & 2 & 2 \\\\\n",
      "0 & 0 & 1 & -2 & 1 \\\\\n",
      "-1 & -4 & 2 & -6 & 0\n",
      "\\end{array}\\right] = \\left[\\begin{array}{ccccc}\n",
      "1 & 4 & 0 & 2 & 2 \\\\\n",
      "0 & 0 & 1 & -2 & 1 \\\\\n",
      "0 & 0 & 0 & 0 & 0\n",
      "\\end{array}\\right] .\\]\n",
      "\\item Explain why the matrix \\(B= \\left[\\begin{array}{ccccc}\n",
      "0 & 1 & 2 & 2 & -2 \\\\\n",
      "1 & 0 & -3 & 4 & -1 \\\\\n",
      "0 & 0 & 0 & 0 & 0\n",
      "\\end{array}\\right] \\) is or is not in reduced row echelon form.\n",
      "\\end{enumerate}\n",
      "    \n",
      "\\end{exerciseStatement}\n",
      "    \n",
      "\\begin{exerciseAnswer} \n",
      "\n",
      "\\begin{enumerate}[(a)]\n",
      "\\item \\(\\operatorname{RREF} \\left[\\begin{array}{ccccc}\n",
      "1 & 4 & 0 & 2 & 2 \\\\\n",
      "0 & 0 & 1 & -2 & 1 \\\\\n",
      "-1 & -4 & 2 & -6 & 0\n",
      "\\end{array}\\right] = \\left[\\begin{array}{ccccc}\n",
      "1 & 4 & 0 & 2 & 2 \\\\\n",
      "0 & 0 & 1 & -2 & 1 \\\\\n",
      "0 & 0 & 0 & 0 & 0\n",
      "\\end{array}\\right] .\\)\n",
      "\\item \\(B\\) is not in reduced row echelon form because the pivots are not descending to the right. \n",
      "\\end{enumerate}\n",
      "    \n",
      "\\end{exerciseAnswer}\n",
      "    \n",
      "\n",
      "QTI source\n",
      "------------\n",
      "<item ident=\"test-2127\" title=\"test | Test | ver. 2127\"><itemmetadata><qtimetadata><qtimetadatafield><fieldlabel>question_type</fieldlabel><fieldentry>essay_question</fieldentry></qtimetadatafield></qtimetadata></itemmetadata><presentation><material><mattextxml><div class=\"exercise-statement\"><ol type=\"a\"><li>Show that <p style=\"text-align:center;\"><img style=\"border:1px #ddd solid;padding:5px;border-radius:5px;\" src=\"https://latex.codecogs.com/svg.latex?\\operatorname{RREF} \\left[\\begin{array}{ccccc} 1 &amp; 4 &amp; 0 &amp; 2 &amp; 2 \\\\ 0 &amp; 0 &amp; 1 &amp; -2 &amp; 1 \\\\ -1 &amp; -4 &amp; 2 &amp; -6 &amp; 0 \\end{array}\\right] = \\left[\\begin{array}{ccccc} 1 &amp; 4 &amp; 0 &amp; 2 &amp; 2 \\\\ 0 &amp; 0 &amp; 1 &amp; -2 &amp; 1 \\\\ 0 &amp; 0 &amp; 0 &amp; 0 &amp; 0 \\end{array}\\right] .\" alt=\"\\operatorname{RREF} \\left[\\begin{array}{ccccc} 1 &amp; 4 &amp; 0 &amp; 2 &amp; 2 \\\\ 0 &amp; 0 &amp; 1 &amp; -2 &amp; 1 \\\\ -1 &amp; -4 &amp; 2 &amp; -6 &amp; 0 \\end{array}\\right] = \\left[\\begin{array}{ccccc} 1 &amp; 4 &amp; 0 &amp; 2 &amp; 2 \\\\ 0 &amp; 0 &amp; 1 &amp; -2 &amp; 1 \\\\ 0 &amp; 0 &amp; 0 &amp; 0 &amp; 0 \\end{array}\\right] .\"/></p></li><li>Explain why the matrix <img style=\"border:1px #ddd solid;padding:5px;border-radius:5px;\" src=\"https://latex.codecogs.com/svg.latex?B= \\left[\\begin{array}{ccccc} 0 &amp; 1 &amp; 2 &amp; 2 &amp; -2 \\\\ 1 &amp; 0 &amp; -3 &amp; 4 &amp; -1 \\\\ 0 &amp; 0 &amp; 0 &amp; 0 &amp; 0 \\end{array}\\right]\" alt=\"B= \\left[\\begin{array}{ccccc} 0 &amp; 1 &amp; 2 &amp; 2 &amp; -2 \\\\ 1 &amp; 0 &amp; -3 &amp; 4 &amp; -1 \\\\ 0 &amp; 0 &amp; 0 &amp; 0 &amp; 0 \\end{array}\\right]\"/> is or is not in reduced row echelon form.</li></ol></div></mattextxml><mattext texttype=\"text/html\">&lt;div class=\"exercise-statement\"&gt;&lt;ol type=\"a\"&gt;&lt;li&gt;Show that &lt;p style=\"text-align:center;\"&gt;&lt;img style=\"border:1px #ddd solid;padding:5px;border-radius:5px;\" src=\"https://latex.codecogs.com/svg.latex?%5Coperatorname%7BRREF%7D%20%5Cleft%5B%5Cbegin%7Barray%7D%7Bccccc%7D%201%20&amp;amp;%204%20&amp;amp;%200%20&amp;amp;%202%20&amp;amp;%202%20%5C%5C%200%20&amp;amp;%200%20&amp;amp;%201%20&amp;amp;%20-2%20&amp;amp;%201%20%5C%5C%20-1%20&amp;amp;%20-4%20&amp;amp;%202%20&amp;amp;%20-6%20&amp;amp;%200%20%5Cend%7Barray%7D%5Cright%5D%20=%20%5Cleft%5B%5Cbegin%7Barray%7D%7Bccccc%7D%201%20&amp;amp;%204%20&amp;amp;%200%20&amp;amp;%202%20&amp;amp;%202%20%5C%5C%200%20&amp;amp;%200%20&amp;amp;%201%20&amp;amp;%20-2%20&amp;amp;%201%20%5C%5C%200%20&amp;amp;%200%20&amp;amp;%200%20&amp;amp;%200%20&amp;amp;%200%20%5Cend%7Barray%7D%5Cright%5D%20.\" alt=\"\\operatorname{RREF} \\left[\\begin{array}{ccccc} 1 &amp;amp; 4 &amp;amp; 0 &amp;amp; 2 &amp;amp; 2 \\\\ 0 &amp;amp; 0 &amp;amp; 1 &amp;amp; -2 &amp;amp; 1 \\\\ -1 &amp;amp; -4 &amp;amp; 2 &amp;amp; -6 &amp;amp; 0 \\end{array}\\right] = \\left[\\begin{array}{ccccc} 1 &amp;amp; 4 &amp;amp; 0 &amp;amp; 2 &amp;amp; 2 \\\\ 0 &amp;amp; 0 &amp;amp; 1 &amp;amp; -2 &amp;amp; 1 \\\\ 0 &amp;amp; 0 &amp;amp; 0 &amp;amp; 0 &amp;amp; 0 \\end{array}\\right] .\"&gt;&lt;/p&gt;&lt;/li&gt;&lt;li&gt;Explain why the matrix &lt;img style=\"border:1px #ddd solid;padding:5px;border-radius:5px;\" src=\"https://latex.codecogs.com/svg.latex?B=%20%5Cleft%5B%5Cbegin%7Barray%7D%7Bccccc%7D%200%20&amp;amp;%201%20&amp;amp;%202%20&amp;amp;%202%20&amp;amp;%20-2%20%5C%5C%201%20&amp;amp;%200%20&amp;amp;%20-3%20&amp;amp;%204%20&amp;amp;%20-1%20%5C%5C%200%20&amp;amp;%200%20&amp;amp;%200%20&amp;amp;%200%20&amp;amp;%200%20%5Cend%7Barray%7D%5Cright%5D\" alt=\"B= \\left[\\begin{array}{ccccc} 0 &amp;amp; 1 &amp;amp; 2 &amp;amp; 2 &amp;amp; -2 \\\\ 1 &amp;amp; 0 &amp;amp; -3 &amp;amp; 4 &amp;amp; -1 \\\\ 0 &amp;amp; 0 &amp;amp; 0 &amp;amp; 0 &amp;amp; 0 \\end{array}\\right]\"&gt; is or is not in reduced row echelon form.&lt;/li&gt;&lt;/ol&gt;&lt;/div&gt;</mattext></material><response_str ident=\"response1\" rcardinality=\"Single\"><render_fib><response_label ident=\"answer1\" rshuffle=\"No\"/></render_fib></response_str></presentation><itemfeedback ident=\"general_fb\"><flow_mat><material><mattextxml><div class=\"exercise-answer\"><h4>Partial Answer:</h4><ol type=\"a\"><li><img style=\"border:1px #ddd solid;padding:5px;border-radius:5px;\" src=\"https://latex.codecogs.com/svg.latex?\\operatorname{RREF} \\left[\\begin{array}{ccccc} 1 &amp; 4 &amp; 0 &amp; 2 &amp; 2 \\\\ 0 &amp; 0 &amp; 1 &amp; -2 &amp; 1 \\\\ -1 &amp; -4 &amp; 2 &amp; -6 &amp; 0 \\end{array}\\right] = \\left[\\begin{array}{ccccc} 1 &amp; 4 &amp; 0 &amp; 2 &amp; 2 \\\\ 0 &amp; 0 &amp; 1 &amp; -2 &amp; 1 \\\\ 0 &amp; 0 &amp; 0 &amp; 0 &amp; 0 \\end{array}\\right] .\" alt=\"\\operatorname{RREF} \\left[\\begin{array}{ccccc} 1 &amp; 4 &amp; 0 &amp; 2 &amp; 2 \\\\ 0 &amp; 0 &amp; 1 &amp; -2 &amp; 1 \\\\ -1 &amp; -4 &amp; 2 &amp; -6 &amp; 0 \\end{array}\\right] = \\left[\\begin{array}{ccccc} 1 &amp; 4 &amp; 0 &amp; 2 &amp; 2 \\\\ 0 &amp; 0 &amp; 1 &amp; -2 &amp; 1 \\\\ 0 &amp; 0 &amp; 0 &amp; 0 &amp; 0 \\end{array}\\right] .\"/></li><li><img style=\"border:1px #ddd solid;padding:5px;border-radius:5px;\" src=\"https://latex.codecogs.com/svg.latex?B\" alt=\"B\"/> is not in reduced row echelon form because the pivots are not descending to the right. </li></ol></div></mattextxml><mattext texttype=\"text/html\">&lt;div class=\"exercise-answer\"&gt;&lt;h4&gt;Partial Answer:&lt;/h4&gt;&lt;ol type=\"a\"&gt;&lt;li&gt;&lt;img style=\"border:1px #ddd solid;padding:5px;border-radius:5px;\" src=\"https://latex.codecogs.com/svg.latex?%5Coperatorname%7BRREF%7D%20%5Cleft%5B%5Cbegin%7Barray%7D%7Bccccc%7D%201%20&amp;amp;%204%20&amp;amp;%200%20&amp;amp;%202%20&amp;amp;%202%20%5C%5C%200%20&amp;amp;%200%20&amp;amp;%201%20&amp;amp;%20-2%20&amp;amp;%201%20%5C%5C%20-1%20&amp;amp;%20-4%20&amp;amp;%202%20&amp;amp;%20-6%20&amp;amp;%200%20%5Cend%7Barray%7D%5Cright%5D%20=%20%5Cleft%5B%5Cbegin%7Barray%7D%7Bccccc%7D%201%20&amp;amp;%204%20&amp;amp;%200%20&amp;amp;%202%20&amp;amp;%202%20%5C%5C%200%20&amp;amp;%200%20&amp;amp;%201%20&amp;amp;%20-2%20&amp;amp;%201%20%5C%5C%200%20&amp;amp;%200%20&amp;amp;%200%20&amp;amp;%200%20&amp;amp;%200%20%5Cend%7Barray%7D%5Cright%5D%20.\" alt=\"\\operatorname{RREF} \\left[\\begin{array}{ccccc} 1 &amp;amp; 4 &amp;amp; 0 &amp;amp; 2 &amp;amp; 2 \\\\ 0 &amp;amp; 0 &amp;amp; 1 &amp;amp; -2 &amp;amp; 1 \\\\ -1 &amp;amp; -4 &amp;amp; 2 &amp;amp; -6 &amp;amp; 0 \\end{array}\\right] = \\left[\\begin{array}{ccccc} 1 &amp;amp; 4 &amp;amp; 0 &amp;amp; 2 &amp;amp; 2 \\\\ 0 &amp;amp; 0 &amp;amp; 1 &amp;amp; -2 &amp;amp; 1 \\\\ 0 &amp;amp; 0 &amp;amp; 0 &amp;amp; 0 &amp;amp; 0 \\end{array}\\right] .\"&gt;&lt;/li&gt;&lt;li&gt;&lt;img style=\"border:1px #ddd solid;padding:5px;border-radius:5px;\" src=\"https://latex.codecogs.com/svg.latex?B\" alt=\"B\"&gt; is not in reduced row echelon form because the pivots are not descending to the right. &lt;/li&gt;&lt;/ol&gt;&lt;/div&gt;</mattext></material></flow_mat></itemfeedback></item>\n",
      "\n",
      "PreTeXt source\n",
      "------------\n",
      "<exercise masterit-seed=\"2127\" masterit-slug=\"test\" masterit-name=\"Test\"><statement><ol><li>Show that <me>\\operatorname{RREF} \\left[\\begin{array}{ccccc}\n",
      "1 &amp; 4 &amp; 0 &amp; 2 &amp; 2 \\\\\n",
      "0 &amp; 0 &amp; 1 &amp; -2 &amp; 1 \\\\\n",
      "-1 &amp; -4 &amp; 2 &amp; -6 &amp; 0\n",
      "\\end{array}\\right] = \\left[\\begin{array}{ccccc}\n",
      "1 &amp; 4 &amp; 0 &amp; 2 &amp; 2 \\\\\n",
      "0 &amp; 0 &amp; 1 &amp; -2 &amp; 1 \\\\\n",
      "0 &amp; 0 &amp; 0 &amp; 0 &amp; 0\n",
      "\\end{array}\\right] .</me></li><li>Explain why the matrix <m>B= \\left[\\begin{array}{ccccc}\n",
      "0 &amp; 1 &amp; 2 &amp; 2 &amp; -2 \\\\\n",
      "1 &amp; 0 &amp; -3 &amp; 4 &amp; -1 \\\\\n",
      "0 &amp; 0 &amp; 0 &amp; 0 &amp; 0\n",
      "\\end{array}\\right] </m> is or is not in reduced row echelon form.</li></ol></statement><answer><ol><li><m>\\operatorname{RREF} \\left[\\begin{array}{ccccc}\n",
      "1 &amp; 4 &amp; 0 &amp; 2 &amp; 2 \\\\\n",
      "0 &amp; 0 &amp; 1 &amp; -2 &amp; 1 \\\\\n",
      "-1 &amp; -4 &amp; 2 &amp; -6 &amp; 0\n",
      "\\end{array}\\right] = \\left[\\begin{array}{ccccc}\n",
      "1 &amp; 4 &amp; 0 &amp; 2 &amp; 2 \\\\\n",
      "0 &amp; 0 &amp; 1 &amp; -2 &amp; 1 \\\\\n",
      "0 &amp; 0 &amp; 0 &amp; 0 &amp; 0\n",
      "\\end{array}\\right] .</m></li><li><m>B</m> is\n",
      "                \n",
      "                        not in reduced row echelon form because\n",
      "                        \n",
      "                                the pivots are not descending to the right.\n",
      "                            </li></ol></answer></exercise>\n"
     ]
    }
   ],
   "source": [
    "# relative path to *.sage/*.ptx files to preview\n",
    "objective = \"tbil-la/E2\"\n",
    "\n",
    "\n",
    "from IPython.core.display import display, HTML\n",
    "load(\"masterit.sage\")\n",
    "load(f\"library/{objective}.sage\")\n",
    "with open(f\"library/{objective}.ptx\",'r') as template_file:\n",
    "    template = template_file.read()\n",
    "\n",
    "exercise = Exercise(\n",
    "    name=\"Test\",\n",
    "    slug=\"test\",\n",
    "    generator=generator,\n",
    "    template=template\n",
    ")\n",
    "display(HTML(exercise.html()))\n",
    "exercise.preview()\n"
   ]
  },
  {
   "cell_type": "code",
   "execution_count": 27,
   "metadata": {
    "collapsed": false
   },
   "outputs": [
    {
     "name": "stdout",
     "output_type": "stream",
     "text": [
      "Files built successfully at library/tbil-la/build/E1\n"
     ]
    },
    {
     "name": "stdout",
     "output_type": "stream",
     "text": [
      "Files built successfully at library/tbil-la/build/E2\n"
     ]
    },
    {
     "name": "stdout",
     "output_type": "stream",
     "text": [
      "Files built successfully at library/tbil-la/build/E3\n"
     ]
    }
   ],
   "source": [
    "load(\"masterit.sage\")\n",
    "main(\"library/tbil-la\")"
   ]
  }
 ],
 "metadata": {
  "kernelspec": {
   "display_name": "SageMath 9.1",
   "language": "sagemath",
   "metadata": {
    "cocalc": {
     "description": "Open-source mathematical software system",
     "priority": 10,
     "url": "https://www.sagemath.org/"
    }
   },
   "name": "sage-9.1"
  },
  "language_info": {
   "codemirror_mode": {
    "name": "ipython",
    "version": 3
   },
   "file_extension": ".py",
   "mimetype": "text/x-python",
   "name": "python",
   "nbconvert_exporter": "python",
   "pygments_lexer": "ipython3",
   "version": "3.7.3"
  }
 },
 "nbformat": 4,
 "nbformat_minor": 4
}