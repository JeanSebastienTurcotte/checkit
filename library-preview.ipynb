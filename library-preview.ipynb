{
 "cells": [
  {
   "cell_type": "code",
   "execution_count": 53,
   "metadata": {
    "collapsed": false,
    "scrolled": true
   },
   "outputs": [
    {
     "data": {
      "text/html": [
       "<div class=\"exercise\">\n",
       "<div class=\"exercise-statement\">\n",
       "<p>Explain how to find the general solution to the given ODE.</p>\n",
       "<p>\\[-16 \\, e^{\\left(-3 \\, t\\right)} = {y''} - 3 \\, {y'} - 10 \\, {y}\\]</p>\n",
       "</div>\n",
       "<div class=\"exercise-answer\">\n",
       "<p><b>Answer:</b></p>\n",
       "<p>\\[{y} = k_{1} e^{\\left(5 \\, t\\right)} + k_{2} e^{\\left(-2 \\, t\\right)} - 2 \\, e^{\\left(-3 \\, t\\right)}\\]</p>\n",
       "</div>\n",
       "</div>\n"
      ],
      "text/plain": [
       "<IPython.core.display.HTML object>"
      ]
     },
     "execution_count": 53,
     "metadata": {
     },
     "output_type": "execute_result"
    },
    {
     "name": "stdout",
     "output_type": "stream",
     "text": [
      "Data dictionary\n",
      "-----------\n",
      "{'ode': -16 \\, e^{\\left(-3 \\, t\\right)} = {y''} - 3 \\, {y'} - 10 \\, {y}, 'ode_sol': {y} = k_{1} e^{\\left(5 \\, t\\right)} + k_{2} e^{\\left(-2 \\, t\\right)} - 2 \\, e^{\\left(-3 \\, t\\right)}}\n",
      "\n",
      "Data XML\n",
      "-----------\n",
      "<data><ode>-16 \\, e^{\\left(-3 \\, t\\right)} = {y''} - 3 \\, {y'} - 10 \\, {y}</ode><ode_sol>{y} = k_{1} e^{\\left(5 \\, t\\right)} + k_{2} e^{\\left(-2 \\, t\\right)} - 2 \\, e^{\\left(-3 \\, t\\right)}</ode_sol></data>\n",
      "\n",
      "HTML source\n",
      "-----------\n",
      "<div class=\"exercise\">\n",
      "<div class=\"exercise-statement\">\n",
      "<p>Explain how to find the general solution to the given ODE.</p>\n",
      "<p>\\[-16 \\, e^{\\left(-3 \\, t\\right)} = {y''} - 3 \\, {y'} - 10 \\, {y}\\]</p>\n",
      "</div>\n",
      "<div class=\"exercise-answer\">\n",
      "<p><b>Answer:</b></p>\n",
      "<p>\\[{y} = k_{1} e^{\\left(5 \\, t\\right)} + k_{2} e^{\\left(-2 \\, t\\right)} - 2 \\, e^{\\left(-3 \\, t\\right)}\\]</p>\n",
      "</div>\n",
      "</div>\n",
      "\n",
      "\n",
      "LaTeX source\n",
      "------------\n",
      "\n",
      "\\begin{exerciseStatement}\n",
      "\n",
      "\n",
      "Explain how to find the general solution to the given ODE.\n",
      "\n",
      "\\[-16 \\, e^{\\left(-3 \\, t\\right)} = {y''} - 3 \\, {y'} - 10 \\, {y}\\]\n",
      "\\end{exerciseStatement}\n",
      "    \n",
      "\\begin{exerciseAnswer} \n",
      "\\[{y} = k_{1} e^{\\left(5 \\, t\\right)} + k_{2} e^{\\left(-2 \\, t\\right)} - 2 \\, e^{\\left(-3 \\, t\\right)}\\]\n",
      "\\end{exerciseAnswer}\n",
      "    \n",
      "\n",
      "QTI source\n",
      "------------\n",
      "<item ident=\"example-0960\" title=\"example | Slopes and Intercepts of Lines | ver. 0960\"><itemmetadata><qtimetadata><qtimetadatafield><fieldlabel>question_type</fieldlabel><fieldentry>essay_question</fieldentry></qtimetadatafield></qtimetadata></itemmetadata><presentation><material><mattextxml><div class=\"exercise-statement\"><p>Explain how to find the general solution to the given ODE.</p><p><img src=\"https://latex.codecogs.com/svg.latex?-16 \\, e^{\\left(-3 \\, t\\right)} = {y''} - 3 \\, {y'} - 10 \\, {y}\" alt=\"-16 \\, e^{\\left(-3 \\, t\\right)} = {y''} - 3 \\, {y'} - 10 \\, {y}\"/></p></div></mattextxml><mattext texttype=\"text/html\">&lt;div class=\"exercise-statement\"&gt;&lt;p&gt;Explain how to find the general solution to the given ODE.&lt;/p&gt;&lt;p&gt;&lt;img src=\"https://latex.codecogs.com/svg.latex?-16%20%5C,%20e%5E%7B%5Cleft(-3%20%5C,%20t%5Cright)%7D%20=%20%7By''%7D%20-%203%20%5C,%20%7By'%7D%20-%2010%20%5C,%20%7By%7D\" alt=\"-16 \\, e^{\\left(-3 \\, t\\right)} = {y''} - 3 \\, {y'} - 10 \\, {y}\"&gt;&lt;/p&gt;&lt;/div&gt;</mattext></material><response_str ident=\"response1\" rcardinality=\"Single\"><render_fib><response_label ident=\"answer1\" rshuffle=\"No\"/></render_fib></response_str></presentation><itemfeedback ident=\"general_fb\"><flow_mat><material><mattextxml><div class=\"exercise-answer\"><p><img src=\"https://latex.codecogs.com/svg.latex?{y} = k_{1} e^{\\left(5 \\, t\\right)} + k_{2} e^{\\left(-2 \\, t\\right)} - 2 \\, e^{\\left(-3 \\, t\\right)}\" alt=\"{y} = k_{1} e^{\\left(5 \\, t\\right)} + k_{2} e^{\\left(-2 \\, t\\right)} - 2 \\, e^{\\left(-3 \\, t\\right)}\"/></p></div></mattextxml><mattext texttype=\"text/html\">&lt;div class=\"exercise-answer\"&gt;&lt;p&gt;&lt;img src=\"https://latex.codecogs.com/svg.latex?%7By%7D%20=%20k_%7B1%7D%20e%5E%7B%5Cleft(5%20%5C,%20t%5Cright)%7D%20+%20k_%7B2%7D%20e%5E%7B%5Cleft(-2%20%5C,%20t%5Cright)%7D%20-%202%20%5C,%20e%5E%7B%5Cleft(-3%20%5C,%20t%5Cright)%7D\" alt=\"{y} = k_{1} e^{\\left(5 \\, t\\right)} + k_{2} e^{\\left(-2 \\, t\\right)} - 2 \\, e^{\\left(-3 \\, t\\right)}\"&gt;&lt;/p&gt;&lt;/div&gt;</mattext></material></flow_mat></itemfeedback></item>\n",
      "\n",
      "PreTeXt source\n",
      "------------\n",
      "<exercise masterit-seed=\"0960\" masterit-slug=\"example\" masterit-name=\"Slopes and Intercepts of Lines\"><statement><p>Explain how to find the general solution to the given ODE.</p><me>-16 \\, e^{\\left(-3 \\, t\\right)} = {y''} - 3 \\, {y'} - 10 \\, {y}</me></statement><answer><me>{y} = k_{1} e^{\\left(5 \\, t\\right)} + k_{2} e^{\\left(-2 \\, t\\right)} - 2 \\, e^{\\left(-3 \\, t\\right)}</me></answer></exercise>\n"
     ]
    }
   ],
   "source": [
    "# relative path to *.sage/*.ptx files to preview\n",
    "objective = \"clontz-diff-eq/C5\"\n",
    "\n",
    "\n",
    "from IPython.core.display import display, HTML\n",
    "load(\"masterit.sage\")\n",
    "load(f\"library/{objective}.sage\")\n",
    "with open(f\"library/{objective}.ptx\",'r') as template_file:\n",
    "    template = template_file.read()\n",
    "\n",
    "exercise = Exercise(\n",
    "    name=\"Slopes and Intercepts of Lines\",\n",
    "    slug=\"example\",\n",
    "    generator=generator,\n",
    "    template=template\n",
    ")\n",
    "display(HTML(exercise.html()))\n",
    "exercise.preview()\n"
   ]
  },
  {
   "cell_type": "code",
   "execution_count": 57,
   "metadata": {
    "collapsed": false
   },
   "outputs": [
    {
     "name": "stdout",
     "output_type": "stream",
     "text": [
      "Files built successfully at library/clontz-diff-eq/build/C1\n"
     ]
    },
    {
     "name": "stdout",
     "output_type": "stream",
     "text": [
      "Files built successfully at library/clontz-diff-eq/build/C2\n"
     ]
    },
    {
     "name": "stdout",
     "output_type": "stream",
     "text": [
      "Files built successfully at library/clontz-diff-eq/build/C3\n"
     ]
    },
    {
     "name": "stdout",
     "output_type": "stream",
     "text": [
      "Files built successfully at library/clontz-diff-eq/build/C4\n"
     ]
    },
    {
     "name": "stdout",
     "output_type": "stream",
     "text": [
      "Files built successfully at library/clontz-diff-eq/build/C5\n"
     ]
    }
   ],
   "source": [
    "load(\"masterit.sage\")\n",
    "main(\"library/clontz-diff-eq\")"
   ]
  }
 ],
 "metadata": {
  "kernelspec": {
   "display_name": "SageMath 9.1",
   "language": "sagemath",
   "metadata": {
    "cocalc": {
     "description": "Open-source mathematical software system",
     "priority": 10,
     "url": "https://www.sagemath.org/"
    }
   },
   "name": "sage-9.1"
  },
  "language_info": {
   "codemirror_mode": {
    "name": "ipython",
    "version": 3
   },
   "file_extension": ".py",
   "mimetype": "text/x-python",
   "name": "python",
   "nbconvert_exporter": "python",
   "pygments_lexer": "ipython3",
   "version": "3.7.3"
  }
 },
 "nbformat": 4,
 "nbformat_minor": 4
}