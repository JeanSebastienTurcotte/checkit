{
 "cells": [
  {
   "cell_type": "markdown",
   "metadata": {
    "collapsed": false,
    "editable": false
   },
   "source": [
    "# MasterIt\n",
    "\n",
    "Use this template to write randomized exercises."
   ]
  },
  {
   "cell_type": "markdown",
   "metadata": {
    "collapsed": false,
    "editable": false
   },
   "source": [
    "## Write a generator\n",
    "\n",
    "Using syntax similar to the following example,\n",
    "edit the below cell to create a `generate()`\n",
    "function to create the data used in your randomized exercise.\n",
    "Focus on the mathematical objects you'll need for your\n",
    "exercise; we'll write things like instructions later.\n",
    "\n",
    "```sage\n",
    "load(\"masterit.sage\")\n",
    "from IPython.core.display import HTML\n",
    "\n",
    "def generate():\n",
    "    # define any variables you'll use\n",
    "    x,y = var(\"x y\")\n",
    "\n",
    "    # use functions like `choice` and `randrange` to make random choices\n",
    "    A = choice([-1,1])*randrange(1,10)\n",
    "    B = choice([-1,1])*randrange(1,10)\n",
    "    C = choice([-1,1])*randrange(1,10)\n",
    "\n",
    "    # build the objects you need\n",
    "    return {\n",
    "      \"equation\": (A*x+B*y==C),\n",
    "      \"slope\": -A/B\n",
    "    }\n",
    "\n",
    "# preview example data\n",
    "show(generate())\n",
    "```\n",
    "\n",
    "Use [Ctrl]+[Enter] to see sample output used for your exercise."
   ]
  },
  {
   "cell_type": "code",
   "execution_count": 1,
   "metadata": {
    "collapsed": false
   },
   "outputs": [
    {
     "data": {
      "text/html": [
       "<html><script type=\"math/tex; mode=display\">\\newcommand{\\Bold}[1]{\\mathbf{#1}}\\left\\{\\verb|equations| : \\left[x - 8 \\, y = 6, -8 \\, x - 6 \\, y = 1\\right], \\verb|slopes| : \\left[\\frac{1}{8}, -\\frac{4}{3}\\right], \\verb|yints| : \\left[-\\frac{3}{4}, -\\frac{1}{6}\\right], \\verb|version| : \\verb|slope|\\right\\}</script></html>"
      ],
      "text/plain": [
       "{'equations': [x - 8*y == 6, -8*x - 6*y == 1],\n",
       " 'slopes': [1/8, -4/3],\n",
       " 'yints': [-3/4, -1/6],\n",
       " 'version': 'slope'}"
      ]
     },
     "execution_count": 1,
     "metadata": {
     },
     "output_type": "execute_result"
    }
   ],
   "source": [
    "load(\"masterit.sage\")\n",
    "from IPython.core.display import HTML\n",
    "\n",
    "def generate():\n",
    "    # define any variables you'll use\n",
    "    x,y = var(\"x y\")\n",
    "\n",
    "    # use functions like `choice` and `randrange` to make random choices\n",
    "    A = choice([-1,1])*randrange(1,10)\n",
    "    B = choice([-1,1])*randrange(1,10)\n",
    "    C = choice([-1,1])*randrange(1,10)\n",
    "\n",
    "    # Ask for slope or y-intercept?\n",
    "    version = choice(['slope','yint'])\n",
    "\n",
    "    # build the objects you need\n",
    "    return {\n",
    "        \"equations\": [\n",
    "            (A*x+B*y==C),\n",
    "            (B*x-C*y==A),\n",
    "        ],\n",
    "        \"slopes\": [\n",
    "            -A/B,\n",
    "            B/C,\n",
    "        ],\n",
    "        \"yints\": [\n",
    "            C/B,\n",
    "            -A/C,\n",
    "        ],\n",
    "        \"version\": version,\n",
    "    }\n",
    "\n",
    "# preview example data\n",
    "show(generate())"
   ]
  },
  {
   "cell_type": "markdown",
   "metadata": {
    "collapsed": false,
    "editable": false
   },
   "source": [
    "## Write a Template\n",
    "\n",
    "Then use the following [PreTeXt](https://pretextbook.org) example template to write your exercise's statement and answer.\n",
    "\n",
    "Randomized data from the generator can be accessed using `<xsl:value-of select=\"name\"/>`.\n",
    "\n",
    "```sage\n",
    "template = r\"\"\"\n",
    "<exercise>\n",
    "  <statement>\n",
    "    <p>Find the slope of the following equation.</p>\n",
    "    <me><xsl:value-of select=\"equation\"/></me>\n",
    "  </statement>\n",
    "  <answer>\n",
    "    <p>The slope is <m><xsl:value-of select=\"slope\"/></m>.</p>\n",
    "  </answer>\n",
    "</exercise>\n",
    "\"\"\"\n",
    "ptx = to_pretext(string_to_transform(template),generate())\n",
    "print(\"Preview\")\n",
    "print(\"-------\")\n",
    "display(HTML(to_html(ptx)))\n",
    "print()\n",
    "print(\"HTML source\")\n",
    "print(\"-----------\")\n",
    "print(to_html(ptx))\n",
    "print()\n",
    "print(\"LaTeX source\")\n",
    "print(\"------------\")\n",
    "print(to_latex(ptx))\n",
    "print()\n",
    "print(\"PreTeXt source\")\n",
    "print(\"------------\")\n",
    "print(str(ptx))\n",
    "```\n",
    "\n",
    "Use [Ctrl]+[Enter] to display your randomly generated exercise,\n",
    "with HTML and LaTeX source code."
   ]
  },
  {
   "cell_type": "code",
   "execution_count": 2,
   "metadata": {
    "collapsed": false,
    "scrolled": true
   },
   "outputs": [
    {
     "name": "stdout",
     "output_type": "stream",
     "text": [
      "Preview\n",
      "-------\n"
     ]
    },
    {
     "data": {
      "text/html": [
       "<div>\n",
       "<p>\n",
       "      Find the\n",
       "      \n",
       "          y-intercepts\n",
       "        \n",
       "      for each of the following equations.\n",
       "    </p>\n",
       "<ul>\n",
       "<li>\\(x - 9 \\, y = \\left(-4\\right)\\)</li>\n",
       "<li>\\(-9 \\, x + 4 \\, y = 1\\)</li>\n",
       "</ul>\n",
       "</div><div>\n",
       "<p><b>Answer:</b></p>\n",
       "<ul>\n",
       "<li>\\(\\frac{4}{9}\\)</li>\n",
       "<li>\\(\\frac{1}{4}\\)</li>\n",
       "</ul>\n",
       "</div>\n"
      ],
      "text/plain": [
       "<IPython.core.display.HTML object>"
      ]
     },
     "execution_count": 2,
     "metadata": {
     },
     "output_type": "execute_result"
    },
    {
     "name": "stdout",
     "output_type": "stream",
     "text": [
      "\n",
      "HTML source\n",
      "-----------\n",
      "<div>\n",
      "<p>\n",
      "      Find the\n",
      "      \n",
      "          y-intercepts\n",
      "        \n",
      "      for each of the following equations.\n",
      "    </p>\n",
      "<ul>\n",
      "<li>\\(x - 9 \\, y = \\left(-4\\right)\\)</li>\n",
      "<li>\\(-9 \\, x + 4 \\, y = 1\\)</li>\n",
      "</ul>\n",
      "</div><div>\n",
      "<p><b>Answer:</b></p>\n",
      "<ul>\n",
      "<li>\\(\\frac{4}{9}\\)</li>\n",
      "<li>\\(\\frac{1}{4}\\)</li>\n",
      "</ul>\n",
      "</div>\n",
      "\n",
      "\n",
      "LaTeX source\n",
      "------------\n",
      "\n",
      "      Find the\n",
      "      \n",
      "          y-intercepts\n",
      "        \n",
      "      for each of the following equations.\n",
      "    \\begin{itemize}\\item \\(x - 9 \\, y = \\left(-4\\right)\\)\\item \\(-9 \\, x + 4 \\, y = 1\\)\\end{itemize}\n",
      "\n",
      "        \\textbf{Answer:} \\begin{itemize}\\item \\(\\frac{4}{9}\\)\\item \\(\\frac{1}{4}\\)\\end{itemize}\n",
      "\n",
      "PreTeXt source\n",
      "------------\n",
      "<?xml version=\"1.0\"?>\n",
      "<exercise><statement><p>\n",
      "      Find the\n",
      "      \n",
      "          y-intercepts\n",
      "        \n",
      "      for each of the following equations.\n",
      "    </p><ul><li><m>x - 9 \\, y = \\left(-4\\right)</m></li><li><m>-9 \\, x + 4 \\, y = 1</m></li></ul></statement><answer><ul><li><m>\\frac{4}{9}</m></li><li><m>\\frac{1}{4}</m></li></ul></answer></exercise>\n",
      "\n"
     ]
    }
   ],
   "source": [
    "template = r\"\"\"\n",
    "<exercise>\n",
    "  <statement>\n",
    "    <p>\n",
    "      Find the\n",
    "      <xsl:choose>\n",
    "        <xsl:when test=\"version='slope'\">\n",
    "          slopes\n",
    "        </xsl:when>\n",
    "        <xsl:otherwise>\n",
    "          y-intercepts\n",
    "        </xsl:otherwise>\n",
    "      </xsl:choose>\n",
    "      for each of the following equations.\n",
    "    </p>\n",
    "    <ul>\n",
    "      <xsl:for-each select=\"equations/*\">\n",
    "        <li><m><xsl:value-of select=\".\"/></m></li>\n",
    "      </xsl:for-each>\n",
    "    </ul>\n",
    "  </statement>\n",
    "  <answer>\n",
    "    <ul>\n",
    "      <xsl:choose>\n",
    "        <xsl:when test=\"version='slope'\">\n",
    "          <xsl:for-each select=\"slopes/*\">\n",
    "            <li><m><xsl:value-of select=\".\"/></m></li>\n",
    "          </xsl:for-each>\n",
    "        </xsl:when>\n",
    "        <xsl:otherwise>\n",
    "          <xsl:for-each select=\"yints/*\">\n",
    "            <li><m><xsl:value-of select=\".\"/></m></li>\n",
    "          </xsl:for-each>\n",
    "        </xsl:otherwise>\n",
    "      </xsl:choose>\n",
    "    </ul>\n",
    "  </answer>\n",
    "</exercise>\n",
    "\"\"\"\n",
    "ptx = to_pretext(string_to_transform(template),generate())\n",
    "print(\"Preview\")\n",
    "print(\"-------\")\n",
    "display(HTML(to_html(ptx)))\n",
    "print()\n",
    "print(\"HTML source\")\n",
    "print(\"-----------\")\n",
    "print(to_html(ptx))\n",
    "print()\n",
    "print(\"LaTeX source\")\n",
    "print(\"------------\")\n",
    "print(to_latex(ptx))\n",
    "print()\n",
    "print(\"PreTeXt source\")\n",
    "print(\"------------\")\n",
    "print(str(ptx))"
   ]
  },
  {
   "cell_type": "markdown",
   "metadata": {
    "collapsed": false,
    "editable": false
   },
   "source": [
    "## Make some more!\n",
    "\n",
    "Use `File > Make a Copy` to duplicate this workbook and write more exercise generators!"
   ]
  }
 ],
 "metadata": {
  "kernelspec": {
   "display_name": "SageMath 9.1",
   "language": "sagemath",
   "metadata": {
    "cocalc": {
     "description": "Open-source mathematical software system",
     "priority": 10,
     "url": "https://www.sagemath.org/"
    }
   },
   "name": "sage-9.1"
  },
  "language_info": {
   "codemirror_mode": {
    "name": "ipython",
    "version": 3
   },
   "file_extension": ".py",
   "mimetype": "text/x-python",
   "name": "python",
   "nbconvert_exporter": "python",
   "pygments_lexer": "ipython3",
   "version": "3.7.3"
  }
 },
 "nbformat": 4,
 "nbformat_minor": 4
}