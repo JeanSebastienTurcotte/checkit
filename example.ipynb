{
 "cells": [
  {
   "cell_type": "markdown",
   "metadata": {
    "collapsed": false,
    "editable": false
   },
   "source": [
    "# MasterIt\n",
    "\n",
    "Use this template to write randomized exercises."
   ]
  },
  {
   "cell_type": "markdown",
   "metadata": {
    "collapsed": false,
    "editable": false
   },
   "source": [
    "## Write a generator\n",
    "\n",
    "Using syntax similar to the following example,\n",
    "edit the below cell to create a `generate()`\n",
    "function to create the data used in your randomized exercise.\n",
    "Focus on the mathematical objects you'll need for your\n",
    "exercise; we'll write things like instructions later.\n",
    "\n",
    "```sage\n",
    "load(\"masterit.sage\")\n",
    "from IPython.core.display import HTML\n",
    "\n",
    "def generate():\n",
    "    # define any variables you'll use\n",
    "    x,y = var(\"x y\")\n",
    "\n",
    "    # use functions like `choice` and `randrange` to make random choices\n",
    "    A = choice([-1,1])*randrange(1,10)\n",
    "    B = choice([-1,1])*randrange(1,10)\n",
    "    C = choice([-1,1])*randrange(1,10)\n",
    "\n",
    "    # build the objects you need\n",
    "    return {\n",
    "      \"equation\": (A*x+B*y==C),\n",
    "      \"slope\": -A/B\n",
    "    }\n",
    "\n",
    "# preview example data\n",
    "show(generate())\n",
    "```\n",
    "\n",
    "Use [Ctrl]+[Enter] to see sample output used for your exercise."
   ]
  },
  {
   "cell_type": "code",
   "execution_count": 2,
   "metadata": {
    "collapsed": false
   },
   "outputs": [
    {
     "data": {
      "text/html": [
       "<html><script type=\"math/tex; mode=display\">\\newcommand{\\Bold}[1]{\\mathbf{#1}}\\left\\{\\verb|equation| : 4 \\, x + 7 \\, y = 9, \\verb|slope| : -\\frac{4}{7}\\right\\}</script></html>"
      ],
      "text/plain": [
       "{'equation': 4*x + 7*y == 9, 'slope': -4/7}"
      ]
     },
     "execution_count": 2,
     "metadata": {
     },
     "output_type": "execute_result"
    }
   ],
   "source": [
    "load(\"masterit.sage\")\n",
    "from IPython.core.display import HTML\n",
    "\n",
    "def generate():\n",
    "    # define any variables you'll use\n",
    "    x,y = var(\"x y\")\n",
    "\n",
    "    # use functions like `choice` and `randrange` to make random choices\n",
    "    A = choice([-1,1])*randrange(1,10)\n",
    "    B = choice([-1,1])*randrange(1,10)\n",
    "    C = choice([-1,1])*randrange(1,10)\n",
    "\n",
    "    # build the objects you need\n",
    "    return {\n",
    "      \"equation\": (A*x+B*y==C),\n",
    "      \"slope\": -A/B\n",
    "    }\n",
    "\n",
    "# preview example data\n",
    "show(generate())"
   ]
  },
  {
   "cell_type": "markdown",
   "metadata": {
    "collapsed": false,
    "editable": false
   },
   "source": [
    "## Write a Template\n",
    "\n",
    "Then use the following [PreTeXt](https://pretextbook.org) example template to write your exercise's statement and answer.\n",
    "\n",
    "Randomized data from the generator can be accessed using `<xsl:value-of select=\"name\"/>`.\n",
    "\n",
    "```sage\n",
    "template = r\"\"\"\n",
    "<exercise>\n",
    "  <statement>\n",
    "    <p>Find the slope of the following equation.</p>\n",
    "    <me><xsl:value-of select=\"equation\"/></me>\n",
    "  </statement>\n",
    "  <answer>\n",
    "    <p>The slope is <m><xsl:value-of select=\"slope\"/></m>.</p>\n",
    "  </answer>\n",
    "</exercise>\n",
    "\"\"\"\n",
    "ptx = to_pretext(string_to_transform(template),generate())\n",
    "print(\"Preview\")\n",
    "print(\"-------\")\n",
    "display(HTML(to_html(ptx)))\n",
    "print()\n",
    "print(\"HTML source\")\n",
    "print(\"-----------\")\n",
    "print(to_html(ptx))\n",
    "print()\n",
    "print(\"LaTeX source\")\n",
    "print(\"------------\")\n",
    "print(to_latex(ptx))\n",
    "print()\n",
    "print(\"PreTeXt source\")\n",
    "print(\"------------\")\n",
    "print(str(ptx))\n",
    "```\n",
    "\n",
    "Use [Ctrl]+[Enter] to display your randomly generated exercise,\n",
    "with HTML and LaTeX source code."
   ]
  },
  {
   "cell_type": "code",
   "execution_count": 5,
   "metadata": {
    "collapsed": false,
    "scrolled": true
   },
   "outputs": [
    {
     "name": "stdout",
     "output_type": "stream",
     "text": [
      "Preview\n",
      "-------\n"
     ]
    },
    {
     "data": {
      "text/html": [
       "<div>\n",
       "<p>Find the y-intercept of the following equation.</p>\n",
       "<p>\\[7 \\, x - 6 \\, y = 1\\]</p>\n",
       "</div><div>\n",
       "<p><b>Answer:</b></p>\n",
       "<p>The slope is \\(\\frac{7}{6}\\).</p>\n",
       "</div>\n"
      ],
      "text/plain": [
       "<IPython.core.display.HTML object>"
      ]
     },
     "execution_count": 5,
     "metadata": {
     },
     "output_type": "execute_result"
    },
    {
     "name": "stdout",
     "output_type": "stream",
     "text": [
      "\n",
      "HTML source\n",
      "-----------\n",
      "<div>\n",
      "<p>Find the y-intercept of the following equation.</p>\n",
      "<p>\\[7 \\, x - 6 \\, y = 1\\]</p>\n",
      "</div><div>\n",
      "<p><b>Answer:</b></p>\n",
      "<p>The slope is \\(\\frac{7}{6}\\).</p>\n",
      "</div>\n",
      "\n",
      "\n",
      "LaTeX source\n",
      "------------\n",
      "Find the y-intercept of the following equation.\\[7 \\, x - 6 \\, y = 1\\]\n",
      "\n",
      "        \\textbf{Answer:} The slope is \\(\\frac{7}{6}\\).\n",
      "\n",
      "PreTeXt source\n",
      "------------\n",
      "<?xml version=\"1.0\"?>\n",
      "<exercise><statement><p>Find the y-intercept of the following equation.</p><me>7 \\, x - 6 \\, y = 1</me></statement><answer><p>The slope is <m>\\frac{7}{6}</m>.</p></answer></exercise>\n",
      "\n"
     ]
    }
   ],
   "source": [
    "template = r\"\"\"\n",
    "<exercise>\n",
    "  <statement>\n",
    "    <p>Find the y-intercept of the following equation.</p>\n",
    "    <me><xsl:value-of select=\"equation\"/></me>\n",
    "  </statement>\n",
    "  <answer>\n",
    "    <p>The slope is <m><xsl:value-of select=\"slope\"/></m>.</p>\n",
    "  </answer>\n",
    "</exercise>\n",
    "\"\"\"\n",
    "ptx = to_pretext(string_to_transform(template),generate())\n",
    "print(\"Preview\")\n",
    "print(\"-------\")\n",
    "display(HTML(to_html(ptx)))\n",
    "print()\n",
    "print(\"HTML source\")\n",
    "print(\"-----------\")\n",
    "print(to_html(ptx))\n",
    "print()\n",
    "print(\"LaTeX source\")\n",
    "print(\"------------\")\n",
    "print(to_latex(ptx))\n",
    "print()\n",
    "print(\"PreTeXt source\")\n",
    "print(\"------------\")\n",
    "print(str(ptx))"
   ]
  },
  {
   "cell_type": "markdown",
   "metadata": {
    "collapsed": false,
    "editable": false
   },
   "source": [
    "## Make some more!\n",
    "\n",
    "Use `File > Make a Copy` to duplicate this workbook and write more exercise generators!"
   ]
  }
 ],
 "metadata": {
  "kernelspec": {
   "display_name": "SageMath 9.1",
   "language": "sagemath",
   "metadata": {
    "cocalc": {
     "description": "Open-source mathematical software system",
     "priority": 10,
     "url": "https://www.sagemath.org/"
    }
   },
   "name": "sage-9.1"
  },
  "language_info": {
   "codemirror_mode": {
    "name": "ipython",
    "version": 3
   },
   "file_extension": ".py",
   "mimetype": "text/x-python",
   "name": "python",
   "nbconvert_exporter": "python",
   "pygments_lexer": "ipython3",
   "version": "3.7.3"
  }
 },
 "nbformat": 4,
 "nbformat_minor": 4
}