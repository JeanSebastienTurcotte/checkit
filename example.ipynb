{
 "cells": [
  {
   "cell_type": "markdown",
   "metadata": {
    "collapsed": false,
    "editable": false
   },
   "source": [
    "# MasterIt\n",
    "\n",
    "Use this template to write randomized exercises.\n",
    "\n",
    "You can refer to\n",
    "[the original example](https://cocalc.com/share/9b7553d2ecfe356945710e8d076db237f28dec50/masterit/example.ipynb?viewer=share)\n",
    "as needed while editing."
   ]
  },
  {
   "cell_type": "markdown",
   "metadata": {
    "collapsed": false,
    "editable": false
   },
   "source": [
    "## Write a Generator\n",
    "\n",
    "Edit the below Code cell to create a\n",
    "function to generate the random data used in your exercise.\n",
    "\n",
    "Use [Ctrl]+[Enter] to see sample output used for your exercise."
   ]
  },
  {
   "cell_type": "code",
   "execution_count": 1,
   "metadata": {
    "collapsed": false
   },
   "outputs": [
    {
     "name": "stdout",
     "output_type": "stream",
     "text": [
      "{'equations': [[y, '\\\\times', -6, '+', x, '\\\\times', -6, '=', -1], [y, '\\\\times', 1, '+', x, '\\\\times', -6, '=', -6]], 'slopes': [-1, 6], 'yints': [1/6, -6], 'version': 'slope'}\n"
     ]
    }
   ],
   "source": [
    "def generator():\n",
    "    # define any variables you'll use\n",
    "    x,y = var(\"x y\")\n",
    "\n",
    "    # use functions like `choice` and `randrange` to make random choices\n",
    "    A = choice([-1,1])*randrange(1,10)\n",
    "    B = choice([-1,1])*randrange(1,10)\n",
    "    C = choice([-1,1])*randrange(1,10)\n",
    "\n",
    "    # Ask for slope or y-intercept?\n",
    "    version = choice(['slope','yint'])\n",
    "    \n",
    "    #Randomly use standard form or silly form equations\n",
    "    if choice([True,False]):\n",
    "        equations = [\n",
    "            (A*x+B*y==C),\n",
    "            (B*x-C*y==A),\n",
    "        ] # standard form\n",
    "    else:\n",
    "        equations = [\n",
    "            [y, \"\\\\times\", B, \"+\", x, \"\\\\times\", A, \"=\", C],\n",
    "            [y, \"\\\\times\", -C, \"+\", x, \"\\\\times\", B, \"=\", A]\n",
    "        ] # silly form -- must construct LaTeX by hand\n",
    "\n",
    "    # build the objects you need\n",
    "    return {\n",
    "        \"equations\": equations,\n",
    "        \"slopes\": [\n",
    "            -A/B,\n",
    "            B/C,\n",
    "        ],\n",
    "        \"yints\": [\n",
    "            C/B,\n",
    "            -A/C,\n",
    "        ],\n",
    "        \"version\": version,\n",
    "    }\n",
    "\n",
    "# preview example data in this notebook\n",
    "print(generator())\n"
   ]
  },
  {
   "cell_type": "markdown",
   "metadata": {
    "collapsed": false,
    "editable": false
   },
   "source": [
    "## Write a Template\n",
    "\n",
    "Then edit the following [PreTeXt](https://pretextbook.org) example template to write your exercise's statement and answer.\n",
    "\n",
    "Randomized data from the generator can be accessed using `<xsl:value-of select=\"name\"/>`.\n",
    "\n",
    "Use [Ctrl]+[Enter] to display your randomly generated exercise."
   ]
  },
  {
   "cell_type": "code",
   "execution_count": 2,
   "metadata": {
    "collapsed": false,
    "scrolled": true
   },
   "outputs": [
    {
     "name": "stdout",
     "output_type": "stream",
     "text": [
      "HTML source\n",
      "-----------\n",
      "<div>\n",
      "<p> Find the slopes for each of the following equations. </p>\n",
      "<ul>\n",
      "<li>\\( y \\times -9 + x \\times 5 = 7 \\)</li>\n",
      "<li>\\( y \\times -7 + x \\times -9 = 5 \\)</li>\n",
      "</ul>\n",
      "</div><div>\n",
      "<p><b>Answer:</b></p>\n",
      "<ul>\n",
      "<li>\\( \\frac{5}{9} \\)</li>\n",
      "<li>\\( -\\frac{9}{7} \\)</li>\n",
      "</ul>\n",
      "</div>\n",
      "\n",
      "\n",
      "LaTeX source\n",
      "------------\n",
      " Find the slopes for each of the following equations. \\begin{itemize}\\item \\( y \\times -9 + x \\times 5 = 7 \\)\\item \\( y \\times -7 + x \\times -9 = 5 \\)\\end{itemize}\n",
      "\n",
      "        \\textbf{Answer:} \\begin{itemize}\\item \\( \\frac{5}{9} \\)\\item \\( -\\frac{9}{7} \\)\\end{itemize}\n",
      "\n",
      "PreTeXt source\n",
      "------------\n",
      "<exercise><statement><p>\n",
      "      Find the\n",
      "      \n",
      "          slopes\n",
      "        \n",
      "      for each of the following equations.\n",
      "    </p><ul><li><m> y \\times -9 + x \\times 5 = 7 </m></li><li><m> y \\times -7 + x \\times -9 = 5 </m></li></ul></statement><answer><ul><li><m> \\frac{5}{9} </m></li><li><m> -\\frac{9}{7} </m></li></ul></answer></exercise>\n"
     ]
    }
   ],
   "source": [
    "template = r\"\"\"\n",
    "<exercise>\n",
    "  <statement>\n",
    "    <p>\n",
    "      Find the\n",
    "      <xsl:choose>\n",
    "        <xsl:when test=\"version='slope'\">\n",
    "          slopes\n",
    "        </xsl:when>\n",
    "        <xsl:otherwise>\n",
    "          y-intercepts\n",
    "        </xsl:otherwise>\n",
    "      </xsl:choose>\n",
    "      for each of the following equations.\n",
    "    </p>\n",
    "    <ul>\n",
    "      <xsl:for-each select=\"equations/*\">\n",
    "        <li><m><xsl:value-of select=\".\"/></m></li>\n",
    "      </xsl:for-each>\n",
    "    </ul>\n",
    "  </statement>\n",
    "  <answer>\n",
    "    <ul>\n",
    "      <xsl:choose>\n",
    "        <xsl:when test=\"version='slope'\">\n",
    "          <xsl:for-each select=\"slopes/*\">\n",
    "            <li><m><xsl:value-of select=\".\"/></m></li>\n",
    "          </xsl:for-each>\n",
    "        </xsl:when>\n",
    "        <xsl:otherwise>\n",
    "          <xsl:for-each select=\"yints/*\">\n",
    "            <li><m><xsl:value-of select=\".\"/></m></li>\n",
    "          </xsl:for-each>\n",
    "        </xsl:otherwise>\n",
    "      </xsl:choose>\n",
    "    </ul>\n",
    "  </answer>\n",
    "</exercise>\n",
    "\"\"\"\n",
    "\n",
    "load(\"masterit.sage\")\n",
    "\n",
    "exercise = Exercise(\n",
    "    name=\"Slopes and Intercepts of Lines\",\n",
    "    short_name=\"example\",\n",
    "    generator=generator,\n",
    "    template=template\n",
    ")\n",
    "exercise.preview()\n"
   ]
  },
  {
   "cell_type": "markdown",
   "metadata": {
    "collapsed": false,
    "editable": false
   },
   "source": [
    "## Genereate LaTeX files\n",
    "\n",
    "Running the below code cell will generate files at `build/example/xxx.tex`."
   ]
  },
  {
   "cell_type": "code",
   "execution_count": 3,
   "metadata": {
    "collapsed": false,
    "scrolled": true
   },
   "outputs": [
    {
     "name": "stdout",
     "output_type": "stream",
     "text": [
      "Files built successfully at build/example\n"
     ]
    }
   ],
   "source": [
    "exercise.build_files(fixed=False,amount=100)"
   ]
  },
  {
   "cell_type": "markdown",
   "metadata": {
    "collapsed": false,
    "editable": false
   },
   "source": [
    "## Make some more!\n",
    "\n",
    "Use `File > Make a Copy` to duplicate this workbook and write more exercise generators!\n"
   ]
  }
 ],
 "metadata": {
  "kernelspec": {
   "display_name": "SageMath 9.1",
   "language": "sagemath",
   "metadata": {
    "cocalc": {
     "description": "Open-source mathematical software system",
     "priority": 10,
     "url": "https://www.sagemath.org/"
    }
   },
   "name": "sage-9.1"
  },
  "language_info": {
   "codemirror_mode": {
    "name": "ipython",
    "version": 3
   },
   "file_extension": ".py",
   "mimetype": "text/x-python",
   "name": "python",
   "nbconvert_exporter": "python",
   "pygments_lexer": "ipython3",
   "version": "3.7.3"
  }
 },
 "nbformat": 4,
 "nbformat_minor": 4
}