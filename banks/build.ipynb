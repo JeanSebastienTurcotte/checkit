{
 "cells": [
  {
   "cell_type": "code",
   "execution_count": 0,
   "metadata": {
    "collapsed": false
   },
   "outputs": [
   ],
   "source": [
    "# path to bank containing __bank__.xml and *.sage/*.ptx files\n",
    "bank = \"tbil-la\"\n",
    "\n",
    "\n",
    "# Generate the bank\n",
    "oldwd=os.getcwd()\n",
    "try: os.chdir(\"..\"); load(\"main.sage\")\n",
    "finally: os.chdir(oldwd)\n",
    "build_bank(bank,amount=100,public=False,fixed=False)"
   ]
  }
 ],
 "metadata": {
  "kernelspec": {
   "display_name": "SageMath 9.1",
   "language": "sagemath",
   "metadata": {
    "cocalc": {
     "description": "Open-source mathematical software system",
     "priority": 10,
     "url": "https://www.sagemath.org/"
    }
   },
   "name": "sage-9.1"
  },
  "language_info": {
   "codemirror_mode": {
    "name": "ipython",
    "version": 3
   },
   "file_extension": ".py",
   "mimetype": "text/x-python",
   "name": "python",
   "nbconvert_exporter": "python",
   "pygments_lexer": "ipython3",
   "version": "3.7.3"
  }
 },
 "nbformat": 4,
 "nbformat_minor": 4
}