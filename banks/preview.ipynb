{
 "cells": [
  {
   "cell_type": "code",
   "execution_count": 1,
   "metadata": {
    "collapsed": false,
    "scrolled": true
   },
   "outputs": [
    {
     "data": {
      "text/html": [
       "<div class=\"exercise\">\n",
       "<div class=\"exercise-statement\">\n",
       "<p> Use a tool like <a href=\"https://sagecell.sagemath.org/\">https://sagecell.sagemath.org/</a> and the SageMath code <code>t,y = var('t y'); plot_slope_field(t*y/9-t/3, (t,-5,5), (y,-5,5))</code> to produce the slope field for the ODE \\( {y'} = \\frac{1}{9} \\, {y} t - \\frac{1}{3} \\, t \\). </p>\n",
       "<p> Let \\(y_p\\) be the solution to the following IVP. Explain how to use its slope field to approximate the value of \\(y_p\\) at \\(t= 3 \\). </p>\n",
       "<p>\\[ {y'} = \\frac{1}{9} \\, {y} t - \\frac{1}{3} \\, t \\hspace{2em}\n",
       "          y( 1 )= 0 \\]</p>\n",
       "</div>\n",
       "<div class=\"exercise-answer\">\n",
       "<p><b>Answer:</b></p>\n",
       "<p>\\[y_p( 3 )\\approx -1.7 \\]</p>\n",
       "</div>\n",
       "</div>\n"
      ],
      "text/plain": [
       "<IPython.core.display.HTML object>"
      ]
     },
     "execution_count": 1,
     "metadata": {
     },
     "output_type": "execute_result"
    },
    {
     "name": "stdout",
     "output_type": "stream",
     "text": [
      "Data dictionary\n",
      "-----------\n",
      "{'field_sage': 't*y/9-t/3', 'ode': mi_var_875074_0 == 1/9*mi_var_875074_1*t - 1/3*t, 'y0': 0, 't0': 1, 'othert': 3, 'othery': -1.7}\n",
      "\n",
      "Data XML\n",
      "-----------\n",
      "<data><field_sage>t*y/9-t/3</field_sage><ode> {y'} = \\frac{1}{9} \\, {y} t - \\frac{1}{3} \\, t </ode><y0> 0 </y0><t0> 1 </t0><othert> 3 </othert><othery> -1.7 </othery></data>\n",
      "\n",
      "HTML source\n",
      "-----------\n"
     ]
    },
    {
     "name": "stdout",
     "output_type": "stream",
     "text": [
      "<div class=\"exercise\">\n",
      "<div class=\"exercise-statement\">\n",
      "<p> Use a tool like <a href=\"https://sagecell.sagemath.org/\">https://sagecell.sagemath.org/</a> and the SageMath code <code>t,y = var('t y'); plot_slope_field(t*y/9-t/3, (t,-5,5), (y,-5,5))</code> to produce the slope field for the ODE \\( {y'} = \\frac{1}{9} \\, {y} t - \\frac{1}{3} \\, t \\). </p>\n",
      "<p> Let \\(y_p\\) be the solution to the following IVP. Explain how to use its slope field to approximate the value of \\(y_p\\) at \\(t= 3 \\). </p>\n",
      "<p>\\[ {y'} = \\frac{1}{9} \\, {y} t - \\frac{1}{3} \\, t \\hspace{2em}\n",
      "          y( 1 )= 0 \\]</p>\n",
      "</div>\n",
      "<div class=\"exercise-answer\">\n",
      "<p><b>Answer:</b></p>\n",
      "<p>\\[y_p( 3 )\\approx -1.7 \\]</p>\n",
      "</div>\n",
      "</div>\n",
      "\n",
      "\n",
      "LaTeX source\n",
      "------------\n",
      "\n",
      "\\begin{exerciseStatement}\n",
      "\n",
      "\n",
      " Use a tool like \\verb|https://sagecell.sagemath.org/| and the SageMath code \\verb|t,y = var('t y'); plot_slope_field(t*y/9-t/3, (t,-5,5), (y,-5,5))| to produce the slope field for the ODE \\( {y'} = \\frac{1}{9} \\, {y} t - \\frac{1}{3} \\, t \\). \n",
      "\n",
      "\n",
      "\n",
      " Let \\(y_p\\) be the solution to the following IVP. Explain how to use its slope field to approximate the value of \\(y_p\\) at \\(t= 3 \\). \n",
      "\n",
      "\\[ {y'} = \\frac{1}{9} \\, {y} t - \\frac{1}{3} \\, t \\hspace{2em}\n",
      "          y( 1 )= 0 \\]\n",
      "\\end{exerciseStatement}\n",
      "    \n",
      "\\begin{exerciseAnswer} \n",
      "\\[y_p( 3 )\\approx -1.7 \\]\n",
      "\\end{exerciseAnswer}\n",
      "    \n",
      "\n",
      "QTI source\n",
      "------------\n",
      "<item ident=\"test-3964\" title=\"test | Test | ver. 3964\">\n",
      "  <itemmetadata>\n",
      "    <qtimetadata>\n",
      "      <qtimetadatafield>\n",
      "        <fieldlabel>question_type</fieldlabel>\n",
      "        <fieldentry>essay_question</fieldentry>\n",
      "      </qtimetadatafield>\n",
      "    </qtimetadata>\n",
      "  </itemmetadata>\n",
      "  <presentation>\n",
      "    <material>\n",
      "      <mattextxml>\n",
      "        <div class=\"exercise-statement\">\n",
      "          <p>\n",
      "            <strong>test.</strong>\n",
      "          </p>\n",
      "          <p> Use a tool like <a href=\"https://sagecell.sagemath.org/\">https://sagecell.sagemath.org/</a> and the SageMath code <code>t,y = var('t y'); plot_slope_field(t*y/9-t/3, (t,-5,5), (y,-5,5))</code> to produce the slope field for the ODE <img style=\"border:1px #ddd solid;padding:5px;border-radius:5px;\" src=\"https://latex.codecogs.com/svg.latex?{y'} = \\frac{1}{9} \\, {y} t - \\frac{1}{3} \\, t\" alt=\"{y'} = \\frac{1}{9} \\, {y} t - \\frac{1}{3} \\, t\" title=\"{y'} = \\frac{1}{9} \\, {y} t - \\frac{1}{3} \\, t\" data-latex=\"{y'} = \\frac{1}{9} \\, {y} t - \\frac{1}{3} \\, t\"/>. </p>\n",
      "          <p> Let <img style=\"border:1px #ddd solid;padding:5px;border-radius:5px;\" src=\"https://latex.codecogs.com/svg.latex?y_p\" alt=\"y_p\" title=\"y_p\" data-latex=\"y_p\"/> be the solution to the following IVP. Explain how to use its slope field to approximate the value of <img style=\"border:1px #ddd solid;padding:5px;border-radius:5px;\" src=\"https://latex.codecogs.com/svg.latex?y_p\" alt=\"y_p\" title=\"y_p\" data-latex=\"y_p\"/> at <img style=\"border:1px #ddd solid;padding:5px;border-radius:5px;\" src=\"https://latex.codecogs.com/svg.latex?t= 3\" alt=\"t= 3\" title=\"t= 3\" data-latex=\"t= 3\"/>. </p>\n",
      "          <p style=\"text-align:center;\">\n",
      "            <img style=\"border:1px #ddd solid;padding:5px;border-radius:5px;\" src=\"https://latex.codecogs.com/svg.latex?{y'} = \\frac{1}{9} \\, {y} t - \\frac{1}{3} \\, t \\hspace{2em} y( 1 )= 0\" alt=\"{y'} = \\frac{1}{9} \\, {y} t - \\frac{1}{3} \\, t \\hspace{2em} y( 1 )= 0\" title=\"{y'} = \\frac{1}{9} \\, {y} t - \\frac{1}{3} \\, t \\hspace{2em} y( 1 )= 0\" data-latex=\"{y'} = \\frac{1}{9} \\, {y} t - \\frac{1}{3} \\, t \\hspace{2em} y( 1 )= 0\"/>\n",
      "          </p>\n",
      "        </div>\n",
      "      </mattextxml>\n",
      "      <mattext texttype=\"text/html\">&lt;div class=\"exercise-statement\"&gt;\n",
      "  &lt;p&gt;\n",
      "    &lt;strong&gt;test.&lt;/strong&gt;\n",
      "  &lt;/p&gt;\n",
      "  &lt;p&gt; Use a tool like &lt;a href=\"https://sagecell.sagemath.org/\"&gt;https://sagecell.sagemath.org/&lt;/a&gt; and the SageMath code &lt;code&gt;t,y = var('t y'); plot_slope_field(t*y/9-t/3, (t,-5,5), (y,-5,5))&lt;/code&gt; to produce the slope field for the ODE &lt;img style=\"border:1px #ddd solid;padding:5px;border-radius:5px;\" src=\"https://latex.codecogs.com/svg.latex?%7By'%7D%20=%20%5Cfrac%7B1%7D%7B9%7D%20%5C,%20%7By%7D%20t%20-%20%5Cfrac%7B1%7D%7B3%7D%20%5C,%20t\" alt=\"{y'} = \\frac{1}{9} \\, {y} t - \\frac{1}{3} \\, t\" title=\"{y'} = \\frac{1}{9} \\, {y} t - \\frac{1}{3} \\, t\" data-latex=\"{y'} = \\frac{1}{9} \\, {y} t - \\frac{1}{3} \\, t\"&gt;. &lt;/p&gt;\n",
      "  &lt;p&gt; Let &lt;img style=\"border:1px #ddd solid;padding:5px;border-radius:5px;\" src=\"https://latex.codecogs.com/svg.latex?y_p\" alt=\"y_p\" title=\"y_p\" data-latex=\"y_p\"&gt; be the solution to the following IVP. Explain how to use its slope field to approximate the value of &lt;img style=\"border:1px #ddd solid;padding:5px;border-radius:5px;\" src=\"https://latex.codecogs.com/svg.latex?y_p\" alt=\"y_p\" title=\"y_p\" data-latex=\"y_p\"&gt; at &lt;img style=\"border:1px #ddd solid;padding:5px;border-radius:5px;\" src=\"https://latex.codecogs.com/svg.latex?t=%203\" alt=\"t= 3\" title=\"t= 3\" data-latex=\"t= 3\"&gt;. &lt;/p&gt;\n",
      "  &lt;p style=\"text-align:center;\"&gt;\n",
      "    &lt;img style=\"border:1px #ddd solid;padding:5px;border-radius:5px;\" src=\"https://latex.codecogs.com/svg.latex?%7By'%7D%20=%20%5Cfrac%7B1%7D%7B9%7D%20%5C,%20%7By%7D%20t%20-%20%5Cfrac%7B1%7D%7B3%7D%20%5C,%20t%20%5Chspace%7B2em%7D%20y(%201%20)=%200\" alt=\"{y'} = \\frac{1}{9} \\, {y} t - \\frac{1}{3} \\, t \\hspace{2em} y( 1 )= 0\" title=\"{y'} = \\frac{1}{9} \\, {y} t - \\frac{1}{3} \\, t \\hspace{2em} y( 1 )= 0\" data-latex=\"{y'} = \\frac{1}{9} \\, {y} t - \\frac{1}{3} \\, t \\hspace{2em} y( 1 )= 0\"&gt;\n",
      "  &lt;/p&gt;\n",
      "&lt;/div&gt;\n",
      "\n",
      "</mattext>\n",
      "    </material>\n",
      "    <response_str ident=\"response1\" rcardinality=\"Single\">\n",
      "      <render_fib>\n",
      "        <response_label ident=\"answer1\" rshuffle=\"No\"/>\n",
      "      </render_fib>\n",
      "    </response_str>\n",
      "  </presentation>\n",
      "  <itemfeedback ident=\"general_fb\">\n",
      "    <flow_mat>\n",
      "      <material>\n",
      "        <mattextxml>\n",
      "          <div class=\"exercise-answer\">\n",
      "            <h4>Partial Answer:</h4>\n",
      "            <p style=\"text-align:center;\">\n",
      "              <img style=\"border:1px #ddd solid;padding:5px;border-radius:5px;\" src=\"https://latex.codecogs.com/svg.latex?y_p( 3 )\\approx -1.7\" alt=\"y_p( 3 )\\approx -1.7\" title=\"y_p( 3 )\\approx -1.7\" data-latex=\"y_p( 3 )\\approx -1.7\"/>\n",
      "            </p>\n",
      "          </div>\n",
      "        </mattextxml>\n",
      "        <mattext texttype=\"text/html\">&lt;div class=\"exercise-answer\"&gt;\n",
      "  &lt;h4&gt;Partial Answer:&lt;/h4&gt;\n",
      "  &lt;p style=\"text-align:center;\"&gt;\n",
      "    &lt;img style=\"border:1px #ddd solid;padding:5px;border-radius:5px;\" src=\"https://latex.codecogs.com/svg.latex?y_p(%203%20)%5Capprox%20-1.7\" alt=\"y_p( 3 )\\approx -1.7\" title=\"y_p( 3 )\\approx -1.7\" data-latex=\"y_p( 3 )\\approx -1.7\"&gt;\n",
      "  &lt;/p&gt;\n",
      "&lt;/div&gt;\n",
      "\n",
      "</mattext>\n",
      "      </material>\n",
      "    </flow_mat>\n",
      "  </itemfeedback>\n",
      "</item>\n",
      "\n",
      "\n",
      "PreTeXt source\n",
      "------------\n"
     ]
    },
    {
     "name": "stdout",
     "output_type": "stream",
     "text": [
      "<exercise masterit-seed=\"3964\" masterit-slug=\"test\" masterit-name=\"Test\"><statement><p>\n",
      "Use a tool like <url href=\"https://sagecell.sagemath.org/\"/> and the SageMath code\n",
      "<c>t,y = var('t y'); plot_slope_field(t*y/9-t/3, (t,-5,5), (y,-5,5))</c>\n",
      "to produce the slope field for the ODE <m> {y'} = \\frac{1}{9} \\, {y} t - \\frac{1}{3} \\, t </m>.\n",
      "      </p><p>\n",
      "Let <m>y_p</m> be the solution to the following IVP.\n",
      "Explain how to use its slope field to approximate the\n",
      "value of <m>y_p</m> at <m>t= 3 </m>.\n",
      "      </p><me> {y'} = \\frac{1}{9} \\, {y} t - \\frac{1}{3} \\, t \\hspace{2em}\n",
      "          y( 1 )= 0 </me></statement><answer><me>y_p( 3 )\\approx -1.7 </me></answer></exercise>\n"
     ]
    }
   ],
   "source": [
    "# relative path to *.sage/*.ptx files to preview\n",
    "library = \"clontz-diff-eq\"\n",
    "objective = \"F1\"\n",
    "\n",
    "# loads and displays an example generated exercise\n",
    "from IPython.core.display import display, HTML\n",
    "oldwd=os.getcwd();os.chdir(\"..\");load(\"main.sage\");os.chdir(oldwd)\n",
    "oldwd=os.getcwd();os.chdir(library)\n",
    "load(f\"{objective}.sage\")\n",
    "with open(f\"{objective}.ptx\",'r') as template_file:\n",
    "    template = template_file.read()\n",
    "os.chdir(oldwd)\n",
    "\n",
    "exercise = Exercise(\n",
    "    name=\"Test\",\n",
    "    slug=\"test\",\n",
    "    generator=generator,\n",
    "    template=template\n",
    ")\n",
    "display(HTML(exercise.html()))\n",
    "exercise.preview()\n"
   ]
  }
 ],
 "metadata": {
  "kernelspec": {
   "display_name": "SageMath 9.1",
   "language": "sagemath",
   "metadata": {
    "cocalc": {
     "description": "Open-source mathematical software system",
     "priority": 10,
     "url": "https://www.sagemath.org/"
    }
   },
   "name": "sage-9.1"
  },
  "language_info": {
   "codemirror_mode": {
    "name": "ipython",
    "version": 3
   },
   "file_extension": ".py",
   "mimetype": "text/x-python",
   "name": "python",
   "nbconvert_exporter": "python",
   "pygments_lexer": "ipython3",
   "version": "3.7.3"
  }
 },
 "nbformat": 4,
 "nbformat_minor": 4
}