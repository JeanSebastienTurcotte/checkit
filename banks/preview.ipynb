{
 "cells": [
  {
   "cell_type": "code",
   "execution_count": 0,
   "metadata": {
    "collapsed": false
   },
   "outputs": [
   ],
   "source": [
    "# path to bank containing __bank__.xml and *.sage/*.ptx files\n",
    "library = \"tbil-la\"\n",
    "# objective in bank to preview {objective}.sage\n",
    "objective = \"V5\"\n",
    "\n",
    "# loads and displays an example generated exercise\n",
    "from IPython.core.display import display, HTML\n",
    "oldwd=os.getcwd();os.chdir(\"..\");load(\"main.sage\");os.chdir(oldwd)\n",
    "oldwd=os.getcwd();os.chdir(library)\n",
    "load(f\"{objective}.sage\")\n",
    "with open(f\"{objective}.ptx\",'r') as template_file:\n",
    "    template = template_file.read()\n",
    "os.chdir(oldwd)\n",
    "\n",
    "exercise = Exercise(\n",
    "    name=\"Test\",\n",
    "    slug=\"test\",\n",
    "    generator=generator,\n",
    "    template=template\n",
    ")\n",
    "display(HTML(exercise.html()))\n",
    "exercise.preview()"
   ]
  }
 ],
 "metadata": {
  "kernelspec": {
   "display_name": "SageMath 9.1",
   "language": "sagemath",
   "metadata": {
    "cocalc": {
     "description": "Open-source mathematical software system",
     "priority": 10,
     "url": "https://www.sagemath.org/"
    }
   },
   "name": "sage-9.1"
  },
  "language_info": {
   "codemirror_mode": {
    "name": "ipython",
    "version": 3
   },
   "file_extension": ".py",
   "mimetype": "text/x-python",
   "name": "python",
   "nbconvert_exporter": "python",
   "pygments_lexer": "ipython3",
   "version": "3.7.3"
  }
 },
 "nbformat": 4,
 "nbformat_minor": 4
}