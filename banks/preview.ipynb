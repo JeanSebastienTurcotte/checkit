{
 "cells": [
  {
   "cell_type": "code",
   "execution_count": 0,
   "metadata": {
    "collapsed": false
   },
   "outputs": [
   ],
   "source": [
    "# Path to bank containing __bank__.xml and *.sage/*.ptx files\n",
    "bank = \"tbil-la\"\n",
    "# Objective in bank to preview: {objective}.sage/.ptx\n",
    "objective = \"E1\"\n",
    "\n",
    "\n",
    "# Loads CheckIt script\n",
    "oldwd=os.getcwd()\n",
    "try: os.chdir(\"..\"); load(\"main.sage\")\n",
    "finally: os.chdir(oldwd)\n",
    "# Loads Bank\n",
    "try:\n",
    "    os.chdir(bank)\n",
    "    load(f\"{objective}.sage\")\n",
    "    with open(f\"{objective}.ptx\",'r') as template_file:\n",
    "        template = template_file.read()\n",
    "finally: os.chdir(oldwd)\n",
    "\n",
    "# Generates and displays a sample exercise\n",
    "exercise = Exercise(\n",
    "    name=objective+\" Title\",\n",
    "    slug=objective,\n",
    "    generator=generator,\n",
    "    template=template,\n",
    "    seed=randrange(1000)\n",
    ")\n",
    "from IPython.core.display import display, HTML\n",
    "display(HTML(exercise.html()))\n",
    "exercise.preview()"
   ]
  }
 ],
 "metadata": {
  "kernelspec": {
   "display_name": "SageMath 9.1",
   "language": "sagemath",
   "metadata": {
    "cocalc": {
     "description": "Open-source mathematical software system",
     "priority": 10,
     "url": "https://www.sagemath.org/"
    }
   },
   "name": "sage-9.1"
  },
  "language_info": {
   "codemirror_mode": {
    "name": "ipython",
    "version": 3
   },
   "file_extension": ".py",
   "mimetype": "text/x-python",
   "name": "python",
   "nbconvert_exporter": "python",
   "pygments_lexer": "ipython3",
   "version": "3.7.3"
  }
 },
 "nbformat": 4,
 "nbformat_minor": 4
}